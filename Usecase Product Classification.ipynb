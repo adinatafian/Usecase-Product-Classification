{
 "cells": [
  {
   "cell_type": "code",
   "execution_count": 2,
   "id": "12d5be8d",
   "metadata": {},
   "outputs": [],
   "source": [
    "import pandas as pd\n",
    "import numpy as np\n",
    "import matplotlib.pyplot as plt\n",
    "import seaborn as sns"
   ]
  },
  {
   "cell_type": "code",
   "execution_count": 3,
   "id": "a01cf825",
   "metadata": {},
   "outputs": [],
   "source": [
    "#Reading datasets\n",
    "df = pd.read_csv('hackathon_new.csv')"
   ]
  },
  {
   "cell_type": "code",
   "execution_count": 4,
   "id": "79ef6f1f",
   "metadata": {},
   "outputs": [
    {
     "data": {
      "text/html": [
       "<div>\n",
       "<style scoped>\n",
       "    .dataframe tbody tr th:only-of-type {\n",
       "        vertical-align: middle;\n",
       "    }\n",
       "\n",
       "    .dataframe tbody tr th {\n",
       "        vertical-align: top;\n",
       "    }\n",
       "\n",
       "    .dataframe thead th {\n",
       "        text-align: right;\n",
       "    }\n",
       "</style>\n",
       "<table border=\"1\" class=\"dataframe\">\n",
       "  <thead>\n",
       "    <tr style=\"text-align: right;\">\n",
       "      <th></th>\n",
       "      <th>no_pelanggan</th>\n",
       "      <th>umur</th>\n",
       "      <th>daerah</th>\n",
       "      <th>jenis_kelamin</th>\n",
       "      <th>pendidikan_tertinggi</th>\n",
       "      <th>status_kawin</th>\n",
       "      <th>jenis_pekerjaan</th>\n",
       "      <th>sumber_pemasukan</th>\n",
       "      <th>jenis_usaha</th>\n",
       "      <th>punya_produk1</th>\n",
       "      <th>...</th>\n",
       "      <th>frekuensi_uke_4BT</th>\n",
       "      <th>frekuensi_uke_5BT</th>\n",
       "      <th>frekuensi_uke_6BT</th>\n",
       "      <th>frekuensi_uma_1BT</th>\n",
       "      <th>frekuensi_uma_2BT</th>\n",
       "      <th>frekuensi_uma_3BT</th>\n",
       "      <th>frekuensi_uma_4BT</th>\n",
       "      <th>frekuensi_uma_5BT</th>\n",
       "      <th>frekuensi_uma_6BT</th>\n",
       "      <th>tanggal;</th>\n",
       "    </tr>\n",
       "  </thead>\n",
       "  <tbody>\n",
       "    <tr>\n",
       "      <th>0</th>\n",
       "      <td>AAHN915</td>\n",
       "      <td>26.0</td>\n",
       "      <td>D</td>\n",
       "      <td>M</td>\n",
       "      <td>NaN</td>\n",
       "      <td>K</td>\n",
       "      <td>Usaha Mandiri</td>\n",
       "      <td>NaN</td>\n",
       "      <td>NaN</td>\n",
       "      <td>1.0</td>\n",
       "      <td>...</td>\n",
       "      <td>12.0</td>\n",
       "      <td>10.0</td>\n",
       "      <td>9.0</td>\n",
       "      <td>41.0</td>\n",
       "      <td>43.0</td>\n",
       "      <td>36.0</td>\n",
       "      <td>43.0</td>\n",
       "      <td>34.0</td>\n",
       "      <td>44.0</td>\n",
       "      <td>2021-08-06 14:17:50.745;</td>\n",
       "    </tr>\n",
       "    <tr>\n",
       "      <th>1</th>\n",
       "      <td>ACGR477</td>\n",
       "      <td>34.0</td>\n",
       "      <td>K</td>\n",
       "      <td>M</td>\n",
       "      <td>NaN</td>\n",
       "      <td>K</td>\n",
       "      <td>Usaha Mandiri</td>\n",
       "      <td>NaN</td>\n",
       "      <td>NaN</td>\n",
       "      <td>1.0</td>\n",
       "      <td>...</td>\n",
       "      <td>0.0</td>\n",
       "      <td>0.0</td>\n",
       "      <td>0.0</td>\n",
       "      <td>0.0</td>\n",
       "      <td>2.0</td>\n",
       "      <td>0.0</td>\n",
       "      <td>0.0</td>\n",
       "      <td>0.0</td>\n",
       "      <td>0.0</td>\n",
       "      <td>2021-08-06 14:17:50.745;</td>\n",
       "    </tr>\n",
       "    <tr>\n",
       "      <th>2</th>\n",
       "      <td>AMN3609</td>\n",
       "      <td>32.0</td>\n",
       "      <td>Q</td>\n",
       "      <td>F</td>\n",
       "      <td>NaN</td>\n",
       "      <td>K</td>\n",
       "      <td>Usaha Mandiri</td>\n",
       "      <td>NaN</td>\n",
       "      <td>NaN</td>\n",
       "      <td>1.0</td>\n",
       "      <td>...</td>\n",
       "      <td>74.0</td>\n",
       "      <td>48.0</td>\n",
       "      <td>71.0</td>\n",
       "      <td>19.0</td>\n",
       "      <td>18.0</td>\n",
       "      <td>17.0</td>\n",
       "      <td>17.0</td>\n",
       "      <td>22.0</td>\n",
       "      <td>26.0</td>\n",
       "      <td>2021-08-06 14:17:50.745;</td>\n",
       "    </tr>\n",
       "    <tr>\n",
       "      <th>3</th>\n",
       "      <td>AP83081</td>\n",
       "      <td>44.0</td>\n",
       "      <td>X</td>\n",
       "      <td>M</td>\n",
       "      <td>NaN</td>\n",
       "      <td>B</td>\n",
       "      <td>NaN</td>\n",
       "      <td>NaN</td>\n",
       "      <td>NaN</td>\n",
       "      <td>0.0</td>\n",
       "      <td>...</td>\n",
       "      <td>6.0</td>\n",
       "      <td>18.0</td>\n",
       "      <td>8.0</td>\n",
       "      <td>4.0</td>\n",
       "      <td>2.0</td>\n",
       "      <td>0.0</td>\n",
       "      <td>1.0</td>\n",
       "      <td>2.0</td>\n",
       "      <td>0.0</td>\n",
       "      <td>2021-08-06 14:17:50.745;</td>\n",
       "    </tr>\n",
       "    <tr>\n",
       "      <th>4</th>\n",
       "      <td>AQLS720</td>\n",
       "      <td>37.0</td>\n",
       "      <td>L</td>\n",
       "      <td>M</td>\n",
       "      <td>NaN</td>\n",
       "      <td>K</td>\n",
       "      <td>Usaha Mandiri</td>\n",
       "      <td>NaN</td>\n",
       "      <td>NaN</td>\n",
       "      <td>1.0</td>\n",
       "      <td>...</td>\n",
       "      <td>0.0</td>\n",
       "      <td>0.0</td>\n",
       "      <td>0.0</td>\n",
       "      <td>0.0</td>\n",
       "      <td>0.0</td>\n",
       "      <td>0.0</td>\n",
       "      <td>0.0</td>\n",
       "      <td>0.0</td>\n",
       "      <td>0.0</td>\n",
       "      <td>2021-08-06 14:17:50.745;</td>\n",
       "    </tr>\n",
       "    <tr>\n",
       "      <th>5</th>\n",
       "      <td>ATXN998</td>\n",
       "      <td>29.0</td>\n",
       "      <td>J</td>\n",
       "      <td>F</td>\n",
       "      <td>NaN</td>\n",
       "      <td>B</td>\n",
       "      <td>Usaha Mandiri</td>\n",
       "      <td>NaN</td>\n",
       "      <td>NaN</td>\n",
       "      <td>0.0</td>\n",
       "      <td>...</td>\n",
       "      <td>0.0</td>\n",
       "      <td>0.0</td>\n",
       "      <td>0.0</td>\n",
       "      <td>0.0</td>\n",
       "      <td>0.0</td>\n",
       "      <td>0.0</td>\n",
       "      <td>0.0</td>\n",
       "      <td>0.0</td>\n",
       "      <td>0.0</td>\n",
       "      <td>2021-08-06 14:17:50.745;</td>\n",
       "    </tr>\n",
       "    <tr>\n",
       "      <th>6</th>\n",
       "      <td>BDJ6267</td>\n",
       "      <td>11.0</td>\n",
       "      <td>X</td>\n",
       "      <td>NaN</td>\n",
       "      <td>NaN</td>\n",
       "      <td>NaN</td>\n",
       "      <td>NaN</td>\n",
       "      <td>NaN</td>\n",
       "      <td>Jasa Kegiatan Lainnya</td>\n",
       "      <td>0.0</td>\n",
       "      <td>...</td>\n",
       "      <td>0.0</td>\n",
       "      <td>0.0</td>\n",
       "      <td>0.0</td>\n",
       "      <td>6.0</td>\n",
       "      <td>0.0</td>\n",
       "      <td>0.0</td>\n",
       "      <td>0.0</td>\n",
       "      <td>0.0</td>\n",
       "      <td>0.0</td>\n",
       "      <td>2021-08-06 14:17:50.745;</td>\n",
       "    </tr>\n",
       "    <tr>\n",
       "      <th>7</th>\n",
       "      <td>BL74653</td>\n",
       "      <td>59.0</td>\n",
       "      <td>E</td>\n",
       "      <td>M</td>\n",
       "      <td>NaN</td>\n",
       "      <td>K</td>\n",
       "      <td>Usaha Mandiri</td>\n",
       "      <td>NaN</td>\n",
       "      <td>NaN</td>\n",
       "      <td>0.0</td>\n",
       "      <td>...</td>\n",
       "      <td>0.0</td>\n",
       "      <td>2.0</td>\n",
       "      <td>0.0</td>\n",
       "      <td>4.0</td>\n",
       "      <td>0.0</td>\n",
       "      <td>0.0</td>\n",
       "      <td>0.0</td>\n",
       "      <td>0.0</td>\n",
       "      <td>0.0</td>\n",
       "      <td>2021-08-06 14:17:50.745;</td>\n",
       "    </tr>\n",
       "    <tr>\n",
       "      <th>8</th>\n",
       "      <td>BY38807</td>\n",
       "      <td>5.0</td>\n",
       "      <td>R</td>\n",
       "      <td>NaN</td>\n",
       "      <td>NaN</td>\n",
       "      <td>NaN</td>\n",
       "      <td>NaN</td>\n",
       "      <td>NaN</td>\n",
       "      <td>Pertanian</td>\n",
       "      <td>0.0</td>\n",
       "      <td>...</td>\n",
       "      <td>0.0</td>\n",
       "      <td>0.0</td>\n",
       "      <td>0.0</td>\n",
       "      <td>4.0</td>\n",
       "      <td>8.0</td>\n",
       "      <td>12.0</td>\n",
       "      <td>12.0</td>\n",
       "      <td>0.0</td>\n",
       "      <td>2.0</td>\n",
       "      <td>2021-08-06 14:17:50.745;</td>\n",
       "    </tr>\n",
       "    <tr>\n",
       "      <th>9</th>\n",
       "      <td>CC13718</td>\n",
       "      <td>4.0</td>\n",
       "      <td>P</td>\n",
       "      <td>F</td>\n",
       "      <td>NaN</td>\n",
       "      <td>NaN</td>\n",
       "      <td>NaN</td>\n",
       "      <td>NaN</td>\n",
       "      <td>Perd. Ekspor Makanan &amp; Minuman</td>\n",
       "      <td>0.0</td>\n",
       "      <td>...</td>\n",
       "      <td>0.0</td>\n",
       "      <td>2.0</td>\n",
       "      <td>4.0</td>\n",
       "      <td>0.0</td>\n",
       "      <td>0.0</td>\n",
       "      <td>0.0</td>\n",
       "      <td>0.0</td>\n",
       "      <td>0.0</td>\n",
       "      <td>0.0</td>\n",
       "      <td>2021-08-06 14:17:50.745;</td>\n",
       "    </tr>\n",
       "  </tbody>\n",
       "</table>\n",
       "<p>10 rows × 91 columns</p>\n",
       "</div>"
      ],
      "text/plain": [
       "  no_pelanggan  umur daerah jenis_kelamin  pendidikan_tertinggi status_kawin  \\\n",
       "0      AAHN915  26.0      D             M                   NaN            K   \n",
       "1      ACGR477  34.0      K             M                   NaN            K   \n",
       "2      AMN3609  32.0      Q             F                   NaN            K   \n",
       "3      AP83081  44.0      X             M                   NaN            B   \n",
       "4      AQLS720  37.0      L             M                   NaN            K   \n",
       "5      ATXN998  29.0      J             F                   NaN            B   \n",
       "6      BDJ6267  11.0      X           NaN                   NaN          NaN   \n",
       "7      BL74653  59.0      E             M                   NaN            K   \n",
       "8      BY38807   5.0      R           NaN                   NaN          NaN   \n",
       "9      CC13718   4.0      P             F                   NaN          NaN   \n",
       "\n",
       "  jenis_pekerjaan sumber_pemasukan                     jenis_usaha  \\\n",
       "0   Usaha Mandiri              NaN                             NaN   \n",
       "1   Usaha Mandiri              NaN                             NaN   \n",
       "2   Usaha Mandiri              NaN                             NaN   \n",
       "3             NaN              NaN                             NaN   \n",
       "4   Usaha Mandiri              NaN                             NaN   \n",
       "5   Usaha Mandiri              NaN                             NaN   \n",
       "6             NaN              NaN           Jasa Kegiatan Lainnya   \n",
       "7   Usaha Mandiri              NaN                             NaN   \n",
       "8             NaN              NaN                       Pertanian   \n",
       "9             NaN              NaN  Perd. Ekspor Makanan & Minuman   \n",
       "\n",
       "   punya_produk1  ...  frekuensi_uke_4BT  frekuensi_uke_5BT  \\\n",
       "0            1.0  ...               12.0               10.0   \n",
       "1            1.0  ...                0.0                0.0   \n",
       "2            1.0  ...               74.0               48.0   \n",
       "3            0.0  ...                6.0               18.0   \n",
       "4            1.0  ...                0.0                0.0   \n",
       "5            0.0  ...                0.0                0.0   \n",
       "6            0.0  ...                0.0                0.0   \n",
       "7            0.0  ...                0.0                2.0   \n",
       "8            0.0  ...                0.0                0.0   \n",
       "9            0.0  ...                0.0                2.0   \n",
       "\n",
       "   frekuensi_uke_6BT  frekuensi_uma_1BT  frekuensi_uma_2BT  frekuensi_uma_3BT  \\\n",
       "0                9.0               41.0               43.0               36.0   \n",
       "1                0.0                0.0                2.0                0.0   \n",
       "2               71.0               19.0               18.0               17.0   \n",
       "3                8.0                4.0                2.0                0.0   \n",
       "4                0.0                0.0                0.0                0.0   \n",
       "5                0.0                0.0                0.0                0.0   \n",
       "6                0.0                6.0                0.0                0.0   \n",
       "7                0.0                4.0                0.0                0.0   \n",
       "8                0.0                4.0                8.0               12.0   \n",
       "9                4.0                0.0                0.0                0.0   \n",
       "\n",
       "   frekuensi_uma_4BT  frekuensi_uma_5BT  frekuensi_uma_6BT  \\\n",
       "0               43.0               34.0               44.0   \n",
       "1                0.0                0.0                0.0   \n",
       "2               17.0               22.0               26.0   \n",
       "3                1.0                2.0                0.0   \n",
       "4                0.0                0.0                0.0   \n",
       "5                0.0                0.0                0.0   \n",
       "6                0.0                0.0                0.0   \n",
       "7                0.0                0.0                0.0   \n",
       "8               12.0                0.0                2.0   \n",
       "9                0.0                0.0                0.0   \n",
       "\n",
       "                   tanggal;  \n",
       "0  2021-08-06 14:17:50.745;  \n",
       "1  2021-08-06 14:17:50.745;  \n",
       "2  2021-08-06 14:17:50.745;  \n",
       "3  2021-08-06 14:17:50.745;  \n",
       "4  2021-08-06 14:17:50.745;  \n",
       "5  2021-08-06 14:17:50.745;  \n",
       "6  2021-08-06 14:17:50.745;  \n",
       "7  2021-08-06 14:17:50.745;  \n",
       "8  2021-08-06 14:17:50.745;  \n",
       "9  2021-08-06 14:17:50.745;  \n",
       "\n",
       "[10 rows x 91 columns]"
      ]
     },
     "execution_count": 4,
     "metadata": {},
     "output_type": "execute_result"
    }
   ],
   "source": [
    "df.head(10)"
   ]
  },
  {
   "cell_type": "code",
   "execution_count": 5,
   "id": "ed6c669a",
   "metadata": {},
   "outputs": [
    {
     "data": {
      "text/html": [
       "<div>\n",
       "<style scoped>\n",
       "    .dataframe tbody tr th:only-of-type {\n",
       "        vertical-align: middle;\n",
       "    }\n",
       "\n",
       "    .dataframe tbody tr th {\n",
       "        vertical-align: top;\n",
       "    }\n",
       "\n",
       "    .dataframe thead th {\n",
       "        text-align: right;\n",
       "    }\n",
       "</style>\n",
       "<table border=\"1\" class=\"dataframe\">\n",
       "  <thead>\n",
       "    <tr style=\"text-align: right;\">\n",
       "      <th></th>\n",
       "      <th>umur</th>\n",
       "      <th>pendidikan_tertinggi</th>\n",
       "      <th>punya_produk1</th>\n",
       "      <th>punya_produk2</th>\n",
       "      <th>punya_produk3</th>\n",
       "      <th>punya_produk4</th>\n",
       "      <th>punya_produk5</th>\n",
       "      <th>punya_produk6</th>\n",
       "      <th>flag_perform_B1</th>\n",
       "      <th>flag_perform_B2</th>\n",
       "      <th>...</th>\n",
       "      <th>frekuensi_uke_3BT</th>\n",
       "      <th>frekuensi_uke_4BT</th>\n",
       "      <th>frekuensi_uke_5BT</th>\n",
       "      <th>frekuensi_uke_6BT</th>\n",
       "      <th>frekuensi_uma_1BT</th>\n",
       "      <th>frekuensi_uma_2BT</th>\n",
       "      <th>frekuensi_uma_3BT</th>\n",
       "      <th>frekuensi_uma_4BT</th>\n",
       "      <th>frekuensi_uma_5BT</th>\n",
       "      <th>frekuensi_uma_6BT</th>\n",
       "    </tr>\n",
       "  </thead>\n",
       "  <tbody>\n",
       "    <tr>\n",
       "      <th>count</th>\n",
       "      <td>17023.000000</td>\n",
       "      <td>0.0</td>\n",
       "      <td>17027.000000</td>\n",
       "      <td>17027.000000</td>\n",
       "      <td>17027.000000</td>\n",
       "      <td>17027.000000</td>\n",
       "      <td>17027.000000</td>\n",
       "      <td>17027.000000</td>\n",
       "      <td>12702.000000</td>\n",
       "      <td>10595.000000</td>\n",
       "      <td>...</td>\n",
       "      <td>17281.000000</td>\n",
       "      <td>17281.000000</td>\n",
       "      <td>17281.000000</td>\n",
       "      <td>17281.000000</td>\n",
       "      <td>17281.000000</td>\n",
       "      <td>17281.000000</td>\n",
       "      <td>17281.000000</td>\n",
       "      <td>17281.000000</td>\n",
       "      <td>17281.000000</td>\n",
       "      <td>17281.000000</td>\n",
       "    </tr>\n",
       "    <tr>\n",
       "      <th>mean</th>\n",
       "      <td>34.719086</td>\n",
       "      <td>NaN</td>\n",
       "      <td>0.322135</td>\n",
       "      <td>0.571328</td>\n",
       "      <td>0.878663</td>\n",
       "      <td>0.260058</td>\n",
       "      <td>0.087802</td>\n",
       "      <td>0.259412</td>\n",
       "      <td>0.444418</td>\n",
       "      <td>0.537423</td>\n",
       "      <td>...</td>\n",
       "      <td>102.326775</td>\n",
       "      <td>100.339679</td>\n",
       "      <td>95.587755</td>\n",
       "      <td>89.008217</td>\n",
       "      <td>56.019385</td>\n",
       "      <td>53.428679</td>\n",
       "      <td>50.297379</td>\n",
       "      <td>49.643423</td>\n",
       "      <td>47.304381</td>\n",
       "      <td>44.875181</td>\n",
       "    </tr>\n",
       "    <tr>\n",
       "      <th>std</th>\n",
       "      <td>16.648263</td>\n",
       "      <td>NaN</td>\n",
       "      <td>0.467308</td>\n",
       "      <td>0.494901</td>\n",
       "      <td>0.326528</td>\n",
       "      <td>0.438679</td>\n",
       "      <td>0.283015</td>\n",
       "      <td>0.438325</td>\n",
       "      <td>0.496921</td>\n",
       "      <td>0.498621</td>\n",
       "      <td>...</td>\n",
       "      <td>437.253643</td>\n",
       "      <td>440.552768</td>\n",
       "      <td>464.355855</td>\n",
       "      <td>413.533288</td>\n",
       "      <td>266.657299</td>\n",
       "      <td>254.286253</td>\n",
       "      <td>239.498338</td>\n",
       "      <td>238.973418</td>\n",
       "      <td>214.992025</td>\n",
       "      <td>205.754108</td>\n",
       "    </tr>\n",
       "    <tr>\n",
       "      <th>min</th>\n",
       "      <td>-78.000000</td>\n",
       "      <td>NaN</td>\n",
       "      <td>0.000000</td>\n",
       "      <td>0.000000</td>\n",
       "      <td>0.000000</td>\n",
       "      <td>0.000000</td>\n",
       "      <td>0.000000</td>\n",
       "      <td>0.000000</td>\n",
       "      <td>0.000000</td>\n",
       "      <td>0.000000</td>\n",
       "      <td>...</td>\n",
       "      <td>0.000000</td>\n",
       "      <td>0.000000</td>\n",
       "      <td>0.000000</td>\n",
       "      <td>0.000000</td>\n",
       "      <td>0.000000</td>\n",
       "      <td>0.000000</td>\n",
       "      <td>0.000000</td>\n",
       "      <td>0.000000</td>\n",
       "      <td>0.000000</td>\n",
       "      <td>0.000000</td>\n",
       "    </tr>\n",
       "    <tr>\n",
       "      <th>25%</th>\n",
       "      <td>28.000000</td>\n",
       "      <td>NaN</td>\n",
       "      <td>0.000000</td>\n",
       "      <td>0.000000</td>\n",
       "      <td>1.000000</td>\n",
       "      <td>0.000000</td>\n",
       "      <td>0.000000</td>\n",
       "      <td>0.000000</td>\n",
       "      <td>0.000000</td>\n",
       "      <td>0.000000</td>\n",
       "      <td>...</td>\n",
       "      <td>0.000000</td>\n",
       "      <td>0.000000</td>\n",
       "      <td>0.000000</td>\n",
       "      <td>0.000000</td>\n",
       "      <td>0.000000</td>\n",
       "      <td>0.000000</td>\n",
       "      <td>0.000000</td>\n",
       "      <td>0.000000</td>\n",
       "      <td>0.000000</td>\n",
       "      <td>0.000000</td>\n",
       "    </tr>\n",
       "    <tr>\n",
       "      <th>50%</th>\n",
       "      <td>37.000000</td>\n",
       "      <td>NaN</td>\n",
       "      <td>0.000000</td>\n",
       "      <td>1.000000</td>\n",
       "      <td>1.000000</td>\n",
       "      <td>0.000000</td>\n",
       "      <td>0.000000</td>\n",
       "      <td>0.000000</td>\n",
       "      <td>0.000000</td>\n",
       "      <td>1.000000</td>\n",
       "      <td>...</td>\n",
       "      <td>2.000000</td>\n",
       "      <td>1.000000</td>\n",
       "      <td>0.000000</td>\n",
       "      <td>0.000000</td>\n",
       "      <td>2.000000</td>\n",
       "      <td>1.000000</td>\n",
       "      <td>0.000000</td>\n",
       "      <td>0.000000</td>\n",
       "      <td>0.000000</td>\n",
       "      <td>0.000000</td>\n",
       "    </tr>\n",
       "    <tr>\n",
       "      <th>75%</th>\n",
       "      <td>45.000000</td>\n",
       "      <td>NaN</td>\n",
       "      <td>1.000000</td>\n",
       "      <td>1.000000</td>\n",
       "      <td>1.000000</td>\n",
       "      <td>1.000000</td>\n",
       "      <td>0.000000</td>\n",
       "      <td>1.000000</td>\n",
       "      <td>1.000000</td>\n",
       "      <td>1.000000</td>\n",
       "      <td>...</td>\n",
       "      <td>29.000000</td>\n",
       "      <td>27.000000</td>\n",
       "      <td>24.000000</td>\n",
       "      <td>22.000000</td>\n",
       "      <td>25.000000</td>\n",
       "      <td>22.000000</td>\n",
       "      <td>19.000000</td>\n",
       "      <td>18.000000</td>\n",
       "      <td>16.000000</td>\n",
       "      <td>14.000000</td>\n",
       "    </tr>\n",
       "    <tr>\n",
       "      <th>max</th>\n",
       "      <td>96.000000</td>\n",
       "      <td>NaN</td>\n",
       "      <td>1.000000</td>\n",
       "      <td>1.000000</td>\n",
       "      <td>1.000000</td>\n",
       "      <td>1.000000</td>\n",
       "      <td>1.000000</td>\n",
       "      <td>1.000000</td>\n",
       "      <td>1.000000</td>\n",
       "      <td>1.000000</td>\n",
       "      <td>...</td>\n",
       "      <td>20733.000000</td>\n",
       "      <td>19304.000000</td>\n",
       "      <td>29951.000000</td>\n",
       "      <td>21669.000000</td>\n",
       "      <td>23082.000000</td>\n",
       "      <td>21853.000000</td>\n",
       "      <td>20709.000000</td>\n",
       "      <td>19270.000000</td>\n",
       "      <td>14804.000000</td>\n",
       "      <td>12173.000000</td>\n",
       "    </tr>\n",
       "  </tbody>\n",
       "</table>\n",
       "<p>8 rows × 82 columns</p>\n",
       "</div>"
      ],
      "text/plain": [
       "               umur  pendidikan_tertinggi  punya_produk1  punya_produk2  \\\n",
       "count  17023.000000                   0.0   17027.000000   17027.000000   \n",
       "mean      34.719086                   NaN       0.322135       0.571328   \n",
       "std       16.648263                   NaN       0.467308       0.494901   \n",
       "min      -78.000000                   NaN       0.000000       0.000000   \n",
       "25%       28.000000                   NaN       0.000000       0.000000   \n",
       "50%       37.000000                   NaN       0.000000       1.000000   \n",
       "75%       45.000000                   NaN       1.000000       1.000000   \n",
       "max       96.000000                   NaN       1.000000       1.000000   \n",
       "\n",
       "       punya_produk3  punya_produk4  punya_produk5  punya_produk6  \\\n",
       "count   17027.000000   17027.000000   17027.000000   17027.000000   \n",
       "mean        0.878663       0.260058       0.087802       0.259412   \n",
       "std         0.326528       0.438679       0.283015       0.438325   \n",
       "min         0.000000       0.000000       0.000000       0.000000   \n",
       "25%         1.000000       0.000000       0.000000       0.000000   \n",
       "50%         1.000000       0.000000       0.000000       0.000000   \n",
       "75%         1.000000       1.000000       0.000000       1.000000   \n",
       "max         1.000000       1.000000       1.000000       1.000000   \n",
       "\n",
       "       flag_perform_B1  flag_perform_B2  ...  frekuensi_uke_3BT  \\\n",
       "count     12702.000000     10595.000000  ...       17281.000000   \n",
       "mean          0.444418         0.537423  ...         102.326775   \n",
       "std           0.496921         0.498621  ...         437.253643   \n",
       "min           0.000000         0.000000  ...           0.000000   \n",
       "25%           0.000000         0.000000  ...           0.000000   \n",
       "50%           0.000000         1.000000  ...           2.000000   \n",
       "75%           1.000000         1.000000  ...          29.000000   \n",
       "max           1.000000         1.000000  ...       20733.000000   \n",
       "\n",
       "       frekuensi_uke_4BT  frekuensi_uke_5BT  frekuensi_uke_6BT  \\\n",
       "count       17281.000000       17281.000000       17281.000000   \n",
       "mean          100.339679          95.587755          89.008217   \n",
       "std           440.552768         464.355855         413.533288   \n",
       "min             0.000000           0.000000           0.000000   \n",
       "25%             0.000000           0.000000           0.000000   \n",
       "50%             1.000000           0.000000           0.000000   \n",
       "75%            27.000000          24.000000          22.000000   \n",
       "max         19304.000000       29951.000000       21669.000000   \n",
       "\n",
       "       frekuensi_uma_1BT  frekuensi_uma_2BT  frekuensi_uma_3BT  \\\n",
       "count       17281.000000       17281.000000       17281.000000   \n",
       "mean           56.019385          53.428679          50.297379   \n",
       "std           266.657299         254.286253         239.498338   \n",
       "min             0.000000           0.000000           0.000000   \n",
       "25%             0.000000           0.000000           0.000000   \n",
       "50%             2.000000           1.000000           0.000000   \n",
       "75%            25.000000          22.000000          19.000000   \n",
       "max         23082.000000       21853.000000       20709.000000   \n",
       "\n",
       "       frekuensi_uma_4BT  frekuensi_uma_5BT  frekuensi_uma_6BT  \n",
       "count       17281.000000       17281.000000       17281.000000  \n",
       "mean           49.643423          47.304381          44.875181  \n",
       "std           238.973418         214.992025         205.754108  \n",
       "min             0.000000           0.000000           0.000000  \n",
       "25%             0.000000           0.000000           0.000000  \n",
       "50%             0.000000           0.000000           0.000000  \n",
       "75%            18.000000          16.000000          14.000000  \n",
       "max         19270.000000       14804.000000       12173.000000  \n",
       "\n",
       "[8 rows x 82 columns]"
      ]
     },
     "execution_count": 5,
     "metadata": {},
     "output_type": "execute_result"
    }
   ],
   "source": [
    "df.describe()"
   ]
  },
  {
   "cell_type": "code",
   "execution_count": 6,
   "id": "d13c1cc1",
   "metadata": {},
   "outputs": [],
   "source": [
    "numerical_features = df.select_dtypes('number').columns.to_numpy()"
   ]
  },
  {
   "cell_type": "code",
   "execution_count": 7,
   "id": "33bad44f",
   "metadata": {},
   "outputs": [],
   "source": [
    "categorical_features = df.select_dtypes('object').columns.to_numpy()"
   ]
  },
  {
   "cell_type": "code",
   "execution_count": 8,
   "id": "b3dbff47",
   "metadata": {},
   "outputs": [
    {
     "data": {
      "text/plain": [
       "array(['no_pelanggan', 'daerah', 'jenis_kelamin', 'status_kawin',\n",
       "       'jenis_pekerjaan', 'sumber_pemasukan', 'jenis_usaha', 'jenis_agen',\n",
       "       'tanggal;'], dtype=object)"
      ]
     },
     "execution_count": 8,
     "metadata": {},
     "output_type": "execute_result"
    }
   ],
   "source": [
    "categorical_features"
   ]
  },
  {
   "cell_type": "code",
   "execution_count": 9,
   "id": "2181203f",
   "metadata": {},
   "outputs": [
    {
     "data": {
      "text/plain": [
       "(17456, 91)"
      ]
     },
     "execution_count": 9,
     "metadata": {},
     "output_type": "execute_result"
    }
   ],
   "source": [
    "df.shape"
   ]
  },
  {
   "cell_type": "code",
   "execution_count": 10,
   "id": "a24d4b43",
   "metadata": {},
   "outputs": [
    {
     "data": {
      "text/html": [
       "<div>\n",
       "<style scoped>\n",
       "    .dataframe tbody tr th:only-of-type {\n",
       "        vertical-align: middle;\n",
       "    }\n",
       "\n",
       "    .dataframe tbody tr th {\n",
       "        vertical-align: top;\n",
       "    }\n",
       "\n",
       "    .dataframe thead th {\n",
       "        text-align: right;\n",
       "    }\n",
       "</style>\n",
       "<table border=\"1\" class=\"dataframe\">\n",
       "  <thead>\n",
       "    <tr style=\"text-align: right;\">\n",
       "      <th></th>\n",
       "      <th>pendidikan_tertinggi</th>\n",
       "      <th>omset_bulanan</th>\n",
       "      <th>penghasilan_bulanan</th>\n",
       "    </tr>\n",
       "  </thead>\n",
       "  <tbody>\n",
       "    <tr>\n",
       "      <th>0</th>\n",
       "      <td>NaN</td>\n",
       "      <td>NaN</td>\n",
       "      <td>NaN</td>\n",
       "    </tr>\n",
       "    <tr>\n",
       "      <th>1</th>\n",
       "      <td>NaN</td>\n",
       "      <td>NaN</td>\n",
       "      <td>NaN</td>\n",
       "    </tr>\n",
       "    <tr>\n",
       "      <th>2</th>\n",
       "      <td>NaN</td>\n",
       "      <td>NaN</td>\n",
       "      <td>NaN</td>\n",
       "    </tr>\n",
       "    <tr>\n",
       "      <th>3</th>\n",
       "      <td>NaN</td>\n",
       "      <td>NaN</td>\n",
       "      <td>NaN</td>\n",
       "    </tr>\n",
       "    <tr>\n",
       "      <th>4</th>\n",
       "      <td>NaN</td>\n",
       "      <td>NaN</td>\n",
       "      <td>NaN</td>\n",
       "    </tr>\n",
       "    <tr>\n",
       "      <th>...</th>\n",
       "      <td>...</td>\n",
       "      <td>...</td>\n",
       "      <td>...</td>\n",
       "    </tr>\n",
       "    <tr>\n",
       "      <th>17451</th>\n",
       "      <td>NaN</td>\n",
       "      <td>NaN</td>\n",
       "      <td>NaN</td>\n",
       "    </tr>\n",
       "    <tr>\n",
       "      <th>17452</th>\n",
       "      <td>NaN</td>\n",
       "      <td>NaN</td>\n",
       "      <td>NaN</td>\n",
       "    </tr>\n",
       "    <tr>\n",
       "      <th>17453</th>\n",
       "      <td>NaN</td>\n",
       "      <td>NaN</td>\n",
       "      <td>NaN</td>\n",
       "    </tr>\n",
       "    <tr>\n",
       "      <th>17454</th>\n",
       "      <td>NaN</td>\n",
       "      <td>NaN</td>\n",
       "      <td>NaN</td>\n",
       "    </tr>\n",
       "    <tr>\n",
       "      <th>17455</th>\n",
       "      <td>NaN</td>\n",
       "      <td>NaN</td>\n",
       "      <td>NaN</td>\n",
       "    </tr>\n",
       "  </tbody>\n",
       "</table>\n",
       "<p>17456 rows × 3 columns</p>\n",
       "</div>"
      ],
      "text/plain": [
       "       pendidikan_tertinggi  omset_bulanan  penghasilan_bulanan\n",
       "0                       NaN            NaN                  NaN\n",
       "1                       NaN            NaN                  NaN\n",
       "2                       NaN            NaN                  NaN\n",
       "3                       NaN            NaN                  NaN\n",
       "4                       NaN            NaN                  NaN\n",
       "...                     ...            ...                  ...\n",
       "17451                   NaN            NaN                  NaN\n",
       "17452                   NaN            NaN                  NaN\n",
       "17453                   NaN            NaN                  NaN\n",
       "17454                   NaN            NaN                  NaN\n",
       "17455                   NaN            NaN                  NaN\n",
       "\n",
       "[17456 rows x 3 columns]"
      ]
     },
     "execution_count": 10,
     "metadata": {},
     "output_type": "execute_result"
    }
   ],
   "source": [
    "df.loc[:, df.isnull().all()]"
   ]
  },
  {
   "cell_type": "markdown",
   "id": "8e7106f2",
   "metadata": {},
   "source": [
    "Adanya fitur yang seluruh nilainya merupakan NaN menunjukkan bahwa terdapat masalah dalam dalam akuisisi data, seperti misalnya pada proses ETL data. \n",
    "- Fitur pendidikan_tertinggi ini sebenarnya mungkin dapat digunakan sebagai fitur prediktor, namun sayangnya tidak tersedia dan tidak dapat dianalisis. \n",
    "- Adapun 2 fitur yang lainnya, yakni omset dan penghasilan bulanan, meskipun mungkin dapat direpresentasikan oleh jumlah uang masuk pada produk 3 yang merupakan salah satu fitur, namun jumlah uang masuk di produk 3 ini mungkin tidak melambangkan pemasukan sebenarnya dari nasabah karena tidak semua dana mereka disimpan pada produk 3. Hal ini menjadi penting karena ketersediaan dana dari penghasilan atau omset dapat memengaruhi nasabah untuk menggunakan produk 7 dengan baik."
   ]
  },
  {
   "cell_type": "markdown",
   "id": "1f11f58d",
   "metadata": {},
   "source": [
    "Selanjutnya drop kolom yang semua isinya merupakan 'NaN'"
   ]
  },
  {
   "cell_type": "code",
   "execution_count": 11,
   "id": "a6ccf30a",
   "metadata": {},
   "outputs": [],
   "source": [
    "df.dropna(axis=1, how='all', inplace=True)"
   ]
  },
  {
   "cell_type": "code",
   "execution_count": 12,
   "id": "d815fb87",
   "metadata": {
    "scrolled": true
   },
   "outputs": [],
   "source": [
    "#print(df.isnull().sum()[0:30])\n",
    "#print(df.isnull().sum()[30:60])\n",
    "#print(df.isnull().sum()[60::])"
   ]
  },
  {
   "cell_type": "markdown",
   "id": "41832746",
   "metadata": {},
   "source": [
    "Setelah itu kita hilangkan juga data yang mempunyai value NaN untuk sebagian besar fitur kita"
   ]
  },
  {
   "cell_type": "code",
   "execution_count": 13,
   "id": "4880acc3",
   "metadata": {
    "scrolled": false
   },
   "outputs": [
    {
     "data": {
      "text/html": [
       "<div>\n",
       "<style scoped>\n",
       "    .dataframe tbody tr th:only-of-type {\n",
       "        vertical-align: middle;\n",
       "    }\n",
       "\n",
       "    .dataframe tbody tr th {\n",
       "        vertical-align: top;\n",
       "    }\n",
       "\n",
       "    .dataframe thead th {\n",
       "        text-align: right;\n",
       "    }\n",
       "</style>\n",
       "<table border=\"1\" class=\"dataframe\">\n",
       "  <thead>\n",
       "    <tr style=\"text-align: right;\">\n",
       "      <th></th>\n",
       "      <th>no_pelanggan</th>\n",
       "      <th>umur</th>\n",
       "      <th>daerah</th>\n",
       "      <th>jenis_kelamin</th>\n",
       "      <th>status_kawin</th>\n",
       "      <th>jenis_pekerjaan</th>\n",
       "      <th>sumber_pemasukan</th>\n",
       "      <th>jenis_usaha</th>\n",
       "      <th>punya_produk1</th>\n",
       "      <th>punya_produk2</th>\n",
       "      <th>...</th>\n",
       "      <th>frekuensi_uke_4BT</th>\n",
       "      <th>frekuensi_uke_5BT</th>\n",
       "      <th>frekuensi_uke_6BT</th>\n",
       "      <th>frekuensi_uma_1BT</th>\n",
       "      <th>frekuensi_uma_2BT</th>\n",
       "      <th>frekuensi_uma_3BT</th>\n",
       "      <th>frekuensi_uma_4BT</th>\n",
       "      <th>frekuensi_uma_5BT</th>\n",
       "      <th>frekuensi_uma_6BT</th>\n",
       "      <th>tanggal;</th>\n",
       "    </tr>\n",
       "  </thead>\n",
       "  <tbody>\n",
       "    <tr>\n",
       "      <th>121</th>\n",
       "      <td>KQF6810,11.0,J,,,,,,\"Adm. Pemerintahan, Keb. E...</td>\n",
       "      <td>NaN</td>\n",
       "      <td>NaN</td>\n",
       "      <td>NaN</td>\n",
       "      <td>NaN</td>\n",
       "      <td>NaN</td>\n",
       "      <td>NaN</td>\n",
       "      <td>NaN</td>\n",
       "      <td>NaN</td>\n",
       "      <td>NaN</td>\n",
       "      <td>...</td>\n",
       "      <td>NaN</td>\n",
       "      <td>NaN</td>\n",
       "      <td>NaN</td>\n",
       "      <td>NaN</td>\n",
       "      <td>NaN</td>\n",
       "      <td>NaN</td>\n",
       "      <td>NaN</td>\n",
       "      <td>NaN</td>\n",
       "      <td>NaN</td>\n",
       "      <td>NaN</td>\n",
       "    </tr>\n",
       "    <tr>\n",
       "      <th>125</th>\n",
       "      <td>LDY6661,1.0,K,,,,,TRANSAKSI,\"Hub. Luar Negeri,...</td>\n",
       "      <td>NaN</td>\n",
       "      <td>NaN</td>\n",
       "      <td>NaN</td>\n",
       "      <td>NaN</td>\n",
       "      <td>NaN</td>\n",
       "      <td>NaN</td>\n",
       "      <td>NaN</td>\n",
       "      <td>NaN</td>\n",
       "      <td>NaN</td>\n",
       "      <td>...</td>\n",
       "      <td>NaN</td>\n",
       "      <td>NaN</td>\n",
       "      <td>NaN</td>\n",
       "      <td>NaN</td>\n",
       "      <td>NaN</td>\n",
       "      <td>NaN</td>\n",
       "      <td>NaN</td>\n",
       "      <td>NaN</td>\n",
       "      <td>NaN</td>\n",
       "      <td>NaN</td>\n",
       "    </tr>\n",
       "    <tr>\n",
       "      <th>516</th>\n",
       "      <td>SVC3265,62.0,N,M,,K,\"Professional-Dokter, Peng...</td>\n",
       "      <td>NaN</td>\n",
       "      <td>NaN</td>\n",
       "      <td>NaN</td>\n",
       "      <td>NaN</td>\n",
       "      <td>NaN</td>\n",
       "      <td>NaN</td>\n",
       "      <td>NaN</td>\n",
       "      <td>NaN</td>\n",
       "      <td>NaN</td>\n",
       "      <td>...</td>\n",
       "      <td>NaN</td>\n",
       "      <td>NaN</td>\n",
       "      <td>NaN</td>\n",
       "      <td>NaN</td>\n",
       "      <td>NaN</td>\n",
       "      <td>NaN</td>\n",
       "      <td>NaN</td>\n",
       "      <td>NaN</td>\n",
       "      <td>NaN</td>\n",
       "      <td>NaN</td>\n",
       "    </tr>\n",
       "    <tr>\n",
       "      <th>583</th>\n",
       "      <td>RDSQ485,1.0,Q,,,,,,\"Adm. Pemerintahan, Keb. Ek...</td>\n",
       "      <td>NaN</td>\n",
       "      <td>NaN</td>\n",
       "      <td>NaN</td>\n",
       "      <td>NaN</td>\n",
       "      <td>NaN</td>\n",
       "      <td>NaN</td>\n",
       "      <td>NaN</td>\n",
       "      <td>NaN</td>\n",
       "      <td>NaN</td>\n",
       "      <td>...</td>\n",
       "      <td>NaN</td>\n",
       "      <td>NaN</td>\n",
       "      <td>NaN</td>\n",
       "      <td>NaN</td>\n",
       "      <td>NaN</td>\n",
       "      <td>NaN</td>\n",
       "      <td>NaN</td>\n",
       "      <td>NaN</td>\n",
       "      <td>NaN</td>\n",
       "      <td>NaN</td>\n",
       "    </tr>\n",
       "    <tr>\n",
       "      <th>605</th>\n",
       "      <td>AEHH922,40.0,P,F,,K,\"Professional-Dokter, Peng...</td>\n",
       "      <td>NaN</td>\n",
       "      <td>NaN</td>\n",
       "      <td>NaN</td>\n",
       "      <td>NaN</td>\n",
       "      <td>NaN</td>\n",
       "      <td>NaN</td>\n",
       "      <td>NaN</td>\n",
       "      <td>NaN</td>\n",
       "      <td>NaN</td>\n",
       "      <td>...</td>\n",
       "      <td>NaN</td>\n",
       "      <td>NaN</td>\n",
       "      <td>NaN</td>\n",
       "      <td>NaN</td>\n",
       "      <td>NaN</td>\n",
       "      <td>NaN</td>\n",
       "      <td>NaN</td>\n",
       "      <td>NaN</td>\n",
       "      <td>NaN</td>\n",
       "      <td>NaN</td>\n",
       "    </tr>\n",
       "    <tr>\n",
       "      <th>...</th>\n",
       "      <td>...</td>\n",
       "      <td>...</td>\n",
       "      <td>...</td>\n",
       "      <td>...</td>\n",
       "      <td>...</td>\n",
       "      <td>...</td>\n",
       "      <td>...</td>\n",
       "      <td>...</td>\n",
       "      <td>...</td>\n",
       "      <td>...</td>\n",
       "      <td>...</td>\n",
       "      <td>...</td>\n",
       "      <td>...</td>\n",
       "      <td>...</td>\n",
       "      <td>...</td>\n",
       "      <td>...</td>\n",
       "      <td>...</td>\n",
       "      <td>...</td>\n",
       "      <td>...</td>\n",
       "      <td>...</td>\n",
       "      <td>...</td>\n",
       "    </tr>\n",
       "    <tr>\n",
       "      <th>17001</th>\n",
       "      <td>PHI4336,29.0,Q,F,,K,\"Professional-Dokter, Peng...</td>\n",
       "      <td>NaN</td>\n",
       "      <td>NaN</td>\n",
       "      <td>NaN</td>\n",
       "      <td>NaN</td>\n",
       "      <td>NaN</td>\n",
       "      <td>NaN</td>\n",
       "      <td>NaN</td>\n",
       "      <td>NaN</td>\n",
       "      <td>NaN</td>\n",
       "      <td>...</td>\n",
       "      <td>NaN</td>\n",
       "      <td>NaN</td>\n",
       "      <td>NaN</td>\n",
       "      <td>NaN</td>\n",
       "      <td>NaN</td>\n",
       "      <td>NaN</td>\n",
       "      <td>NaN</td>\n",
       "      <td>NaN</td>\n",
       "      <td>NaN</td>\n",
       "      <td>NaN</td>\n",
       "    </tr>\n",
       "    <tr>\n",
       "      <th>17068</th>\n",
       "      <td>LE82931,28.0,L,F,,K,\"Professional-Dokter, Peng...</td>\n",
       "      <td>NaN</td>\n",
       "      <td>NaN</td>\n",
       "      <td>NaN</td>\n",
       "      <td>NaN</td>\n",
       "      <td>NaN</td>\n",
       "      <td>NaN</td>\n",
       "      <td>NaN</td>\n",
       "      <td>NaN</td>\n",
       "      <td>NaN</td>\n",
       "      <td>...</td>\n",
       "      <td>NaN</td>\n",
       "      <td>NaN</td>\n",
       "      <td>NaN</td>\n",
       "      <td>NaN</td>\n",
       "      <td>NaN</td>\n",
       "      <td>NaN</td>\n",
       "      <td>NaN</td>\n",
       "      <td>NaN</td>\n",
       "      <td>NaN</td>\n",
       "      <td>NaN</td>\n",
       "    </tr>\n",
       "    <tr>\n",
       "      <th>17101</th>\n",
       "      <td>YU86639,39.0,L,F,,K,\"Professional-Dokter, Peng...</td>\n",
       "      <td>NaN</td>\n",
       "      <td>NaN</td>\n",
       "      <td>NaN</td>\n",
       "      <td>NaN</td>\n",
       "      <td>NaN</td>\n",
       "      <td>NaN</td>\n",
       "      <td>NaN</td>\n",
       "      <td>NaN</td>\n",
       "      <td>NaN</td>\n",
       "      <td>...</td>\n",
       "      <td>NaN</td>\n",
       "      <td>NaN</td>\n",
       "      <td>NaN</td>\n",
       "      <td>NaN</td>\n",
       "      <td>NaN</td>\n",
       "      <td>NaN</td>\n",
       "      <td>NaN</td>\n",
       "      <td>NaN</td>\n",
       "      <td>NaN</td>\n",
       "      <td>NaN</td>\n",
       "    </tr>\n",
       "    <tr>\n",
       "      <th>17110</th>\n",
       "      <td>AQ30285,12.0,G,,,,,,\"Adm. Pemerintahan, Keb. E...</td>\n",
       "      <td>NaN</td>\n",
       "      <td>NaN</td>\n",
       "      <td>NaN</td>\n",
       "      <td>NaN</td>\n",
       "      <td>NaN</td>\n",
       "      <td>NaN</td>\n",
       "      <td>NaN</td>\n",
       "      <td>NaN</td>\n",
       "      <td>NaN</td>\n",
       "      <td>...</td>\n",
       "      <td>NaN</td>\n",
       "      <td>NaN</td>\n",
       "      <td>NaN</td>\n",
       "      <td>NaN</td>\n",
       "      <td>NaN</td>\n",
       "      <td>NaN</td>\n",
       "      <td>NaN</td>\n",
       "      <td>NaN</td>\n",
       "      <td>NaN</td>\n",
       "      <td>NaN</td>\n",
       "    </tr>\n",
       "    <tr>\n",
       "      <th>17266</th>\n",
       "      <td>PDD6754,52.0,R,,,,,POLRI,\"Adm. Pemerintahan, K...</td>\n",
       "      <td>NaN</td>\n",
       "      <td>NaN</td>\n",
       "      <td>NaN</td>\n",
       "      <td>NaN</td>\n",
       "      <td>NaN</td>\n",
       "      <td>NaN</td>\n",
       "      <td>NaN</td>\n",
       "      <td>NaN</td>\n",
       "      <td>NaN</td>\n",
       "      <td>...</td>\n",
       "      <td>NaN</td>\n",
       "      <td>NaN</td>\n",
       "      <td>NaN</td>\n",
       "      <td>NaN</td>\n",
       "      <td>NaN</td>\n",
       "      <td>NaN</td>\n",
       "      <td>NaN</td>\n",
       "      <td>NaN</td>\n",
       "      <td>NaN</td>\n",
       "      <td>NaN</td>\n",
       "    </tr>\n",
       "  </tbody>\n",
       "</table>\n",
       "<p>175 rows × 88 columns</p>\n",
       "</div>"
      ],
      "text/plain": [
       "                                            no_pelanggan  umur daerah  \\\n",
       "121    KQF6810,11.0,J,,,,,,\"Adm. Pemerintahan, Keb. E...   NaN    NaN   \n",
       "125    LDY6661,1.0,K,,,,,TRANSAKSI,\"Hub. Luar Negeri,...   NaN    NaN   \n",
       "516    SVC3265,62.0,N,M,,K,\"Professional-Dokter, Peng...   NaN    NaN   \n",
       "583    RDSQ485,1.0,Q,,,,,,\"Adm. Pemerintahan, Keb. Ek...   NaN    NaN   \n",
       "605    AEHH922,40.0,P,F,,K,\"Professional-Dokter, Peng...   NaN    NaN   \n",
       "...                                                  ...   ...    ...   \n",
       "17001  PHI4336,29.0,Q,F,,K,\"Professional-Dokter, Peng...   NaN    NaN   \n",
       "17068  LE82931,28.0,L,F,,K,\"Professional-Dokter, Peng...   NaN    NaN   \n",
       "17101  YU86639,39.0,L,F,,K,\"Professional-Dokter, Peng...   NaN    NaN   \n",
       "17110  AQ30285,12.0,G,,,,,,\"Adm. Pemerintahan, Keb. E...   NaN    NaN   \n",
       "17266  PDD6754,52.0,R,,,,,POLRI,\"Adm. Pemerintahan, K...   NaN    NaN   \n",
       "\n",
       "      jenis_kelamin status_kawin jenis_pekerjaan sumber_pemasukan jenis_usaha  \\\n",
       "121             NaN          NaN             NaN              NaN         NaN   \n",
       "125             NaN          NaN             NaN              NaN         NaN   \n",
       "516             NaN          NaN             NaN              NaN         NaN   \n",
       "583             NaN          NaN             NaN              NaN         NaN   \n",
       "605             NaN          NaN             NaN              NaN         NaN   \n",
       "...             ...          ...             ...              ...         ...   \n",
       "17001           NaN          NaN             NaN              NaN         NaN   \n",
       "17068           NaN          NaN             NaN              NaN         NaN   \n",
       "17101           NaN          NaN             NaN              NaN         NaN   \n",
       "17110           NaN          NaN             NaN              NaN         NaN   \n",
       "17266           NaN          NaN             NaN              NaN         NaN   \n",
       "\n",
       "       punya_produk1  punya_produk2  ...  frekuensi_uke_4BT  \\\n",
       "121              NaN            NaN  ...                NaN   \n",
       "125              NaN            NaN  ...                NaN   \n",
       "516              NaN            NaN  ...                NaN   \n",
       "583              NaN            NaN  ...                NaN   \n",
       "605              NaN            NaN  ...                NaN   \n",
       "...              ...            ...  ...                ...   \n",
       "17001            NaN            NaN  ...                NaN   \n",
       "17068            NaN            NaN  ...                NaN   \n",
       "17101            NaN            NaN  ...                NaN   \n",
       "17110            NaN            NaN  ...                NaN   \n",
       "17266            NaN            NaN  ...                NaN   \n",
       "\n",
       "       frekuensi_uke_5BT  frekuensi_uke_6BT  frekuensi_uma_1BT  \\\n",
       "121                  NaN                NaN                NaN   \n",
       "125                  NaN                NaN                NaN   \n",
       "516                  NaN                NaN                NaN   \n",
       "583                  NaN                NaN                NaN   \n",
       "605                  NaN                NaN                NaN   \n",
       "...                  ...                ...                ...   \n",
       "17001                NaN                NaN                NaN   \n",
       "17068                NaN                NaN                NaN   \n",
       "17101                NaN                NaN                NaN   \n",
       "17110                NaN                NaN                NaN   \n",
       "17266                NaN                NaN                NaN   \n",
       "\n",
       "       frekuensi_uma_2BT  frekuensi_uma_3BT  frekuensi_uma_4BT  \\\n",
       "121                  NaN                NaN                NaN   \n",
       "125                  NaN                NaN                NaN   \n",
       "516                  NaN                NaN                NaN   \n",
       "583                  NaN                NaN                NaN   \n",
       "605                  NaN                NaN                NaN   \n",
       "...                  ...                ...                ...   \n",
       "17001                NaN                NaN                NaN   \n",
       "17068                NaN                NaN                NaN   \n",
       "17101                NaN                NaN                NaN   \n",
       "17110                NaN                NaN                NaN   \n",
       "17266                NaN                NaN                NaN   \n",
       "\n",
       "       frekuensi_uma_5BT  frekuensi_uma_6BT  tanggal;  \n",
       "121                  NaN                NaN       NaN  \n",
       "125                  NaN                NaN       NaN  \n",
       "516                  NaN                NaN       NaN  \n",
       "583                  NaN                NaN       NaN  \n",
       "605                  NaN                NaN       NaN  \n",
       "...                  ...                ...       ...  \n",
       "17001                NaN                NaN       NaN  \n",
       "17068                NaN                NaN       NaN  \n",
       "17101                NaN                NaN       NaN  \n",
       "17110                NaN                NaN       NaN  \n",
       "17266                NaN                NaN       NaN  \n",
       "\n",
       "[175 rows x 88 columns]"
      ]
     },
     "execution_count": 13,
     "metadata": {},
     "output_type": "execute_result"
    }
   ],
   "source": [
    "df[df['tanggal;'].isnull()]"
   ]
  },
  {
   "cell_type": "code",
   "execution_count": 14,
   "id": "4c63c006",
   "metadata": {},
   "outputs": [],
   "source": [
    "df = df[~df['tanggal;'].isnull()]"
   ]
  },
  {
   "cell_type": "code",
   "execution_count": 15,
   "id": "fa50c626",
   "metadata": {},
   "outputs": [
    {
     "data": {
      "text/plain": [
       "(17281, 88)"
      ]
     },
     "execution_count": 15,
     "metadata": {},
     "output_type": "execute_result"
    }
   ],
   "source": [
    "df.shape"
   ]
  },
  {
   "cell_type": "code",
   "execution_count": 16,
   "id": "fddc36fe",
   "metadata": {
    "scrolled": true
   },
   "outputs": [],
   "source": [
    "#print(df.isnull().sum()[0:30])\n",
    "#print(df.isnull().sum()[30:60])\n",
    "#print(df.isnull().sum()[60::])"
   ]
  },
  {
   "cell_type": "code",
   "execution_count": 17,
   "id": "2d180453",
   "metadata": {
    "scrolled": true
   },
   "outputs": [],
   "source": [
    "#print(df[df.punya_produk1.isnull()].mean()[0:30])\n",
    "#print(df[df.punya_produk1.isnull()].mean()[30:60])\n",
    "#print(df[df.punya_produk1.isnull()].mean()[60::])"
   ]
  },
  {
   "cell_type": "markdown",
   "id": "1162af95",
   "metadata": {},
   "source": [
    "Sepertinya ada masalah juga dimana ada sebagian data dimana pelanggan tersebut dianggap tidak mempunyai produk apapun disertai juga dengan beberapa data fitur yang lain yang juga hilang, padahal dari fitur misalnya sisa_uang_akhir dan jumlah_uke menunjukkan bahwa nasabah tersebut paling tidak mempunyai produk dimana fitur sisa_uang_akhir dan jumlah_uke itu dicatat. Untuk itu, data ini juga akan dihilangkan karena tidak dapat diidentifikasi penyebab kesalahan dan cara imputasi yang dapat merepresentasikan data aslinya."
   ]
  },
  {
   "cell_type": "code",
   "execution_count": 18,
   "id": "51e2a05d",
   "metadata": {},
   "outputs": [
    {
     "data": {
      "text/html": [
       "<div>\n",
       "<style scoped>\n",
       "    .dataframe tbody tr th:only-of-type {\n",
       "        vertical-align: middle;\n",
       "    }\n",
       "\n",
       "    .dataframe tbody tr th {\n",
       "        vertical-align: top;\n",
       "    }\n",
       "\n",
       "    .dataframe thead th {\n",
       "        text-align: right;\n",
       "    }\n",
       "</style>\n",
       "<table border=\"1\" class=\"dataframe\">\n",
       "  <thead>\n",
       "    <tr style=\"text-align: right;\">\n",
       "      <th></th>\n",
       "      <th>no_pelanggan</th>\n",
       "      <th>umur</th>\n",
       "      <th>daerah</th>\n",
       "      <th>jenis_kelamin</th>\n",
       "      <th>status_kawin</th>\n",
       "      <th>jenis_pekerjaan</th>\n",
       "      <th>sumber_pemasukan</th>\n",
       "      <th>jenis_usaha</th>\n",
       "      <th>punya_produk1</th>\n",
       "      <th>punya_produk2</th>\n",
       "      <th>...</th>\n",
       "      <th>frekuensi_uke_4BT</th>\n",
       "      <th>frekuensi_uke_5BT</th>\n",
       "      <th>frekuensi_uke_6BT</th>\n",
       "      <th>frekuensi_uma_1BT</th>\n",
       "      <th>frekuensi_uma_2BT</th>\n",
       "      <th>frekuensi_uma_3BT</th>\n",
       "      <th>frekuensi_uma_4BT</th>\n",
       "      <th>frekuensi_uma_5BT</th>\n",
       "      <th>frekuensi_uma_6BT</th>\n",
       "      <th>tanggal;</th>\n",
       "    </tr>\n",
       "  </thead>\n",
       "  <tbody>\n",
       "    <tr>\n",
       "      <th>44</th>\n",
       "      <td>MSR4962</td>\n",
       "      <td>NaN</td>\n",
       "      <td>NaN</td>\n",
       "      <td>NaN</td>\n",
       "      <td>NaN</td>\n",
       "      <td>NaN</td>\n",
       "      <td>NaN</td>\n",
       "      <td>NaN</td>\n",
       "      <td>NaN</td>\n",
       "      <td>NaN</td>\n",
       "      <td>...</td>\n",
       "      <td>0.0</td>\n",
       "      <td>0.0</td>\n",
       "      <td>0.0</td>\n",
       "      <td>0.0</td>\n",
       "      <td>0.0</td>\n",
       "      <td>0.0</td>\n",
       "      <td>0.0</td>\n",
       "      <td>0.0</td>\n",
       "      <td>0.0</td>\n",
       "      <td>2021-08-06 14:17:50.745;</td>\n",
       "    </tr>\n",
       "    <tr>\n",
       "      <th>62</th>\n",
       "      <td>RZ40894</td>\n",
       "      <td>NaN</td>\n",
       "      <td>NaN</td>\n",
       "      <td>NaN</td>\n",
       "      <td>NaN</td>\n",
       "      <td>NaN</td>\n",
       "      <td>NaN</td>\n",
       "      <td>NaN</td>\n",
       "      <td>NaN</td>\n",
       "      <td>NaN</td>\n",
       "      <td>...</td>\n",
       "      <td>0.0</td>\n",
       "      <td>0.0</td>\n",
       "      <td>0.0</td>\n",
       "      <td>0.0</td>\n",
       "      <td>0.0</td>\n",
       "      <td>0.0</td>\n",
       "      <td>0.0</td>\n",
       "      <td>0.0</td>\n",
       "      <td>0.0</td>\n",
       "      <td>2021-08-06 14:17:50.745;</td>\n",
       "    </tr>\n",
       "    <tr>\n",
       "      <th>68</th>\n",
       "      <td>SJCM232</td>\n",
       "      <td>NaN</td>\n",
       "      <td>NaN</td>\n",
       "      <td>NaN</td>\n",
       "      <td>NaN</td>\n",
       "      <td>NaN</td>\n",
       "      <td>NaN</td>\n",
       "      <td>NaN</td>\n",
       "      <td>NaN</td>\n",
       "      <td>NaN</td>\n",
       "      <td>...</td>\n",
       "      <td>0.0</td>\n",
       "      <td>0.0</td>\n",
       "      <td>0.0</td>\n",
       "      <td>0.0</td>\n",
       "      <td>0.0</td>\n",
       "      <td>0.0</td>\n",
       "      <td>0.0</td>\n",
       "      <td>0.0</td>\n",
       "      <td>0.0</td>\n",
       "      <td>2021-08-06 14:17:50.745;</td>\n",
       "    </tr>\n",
       "    <tr>\n",
       "      <th>105</th>\n",
       "      <td>G384526</td>\n",
       "      <td>NaN</td>\n",
       "      <td>NaN</td>\n",
       "      <td>NaN</td>\n",
       "      <td>NaN</td>\n",
       "      <td>NaN</td>\n",
       "      <td>NaN</td>\n",
       "      <td>NaN</td>\n",
       "      <td>NaN</td>\n",
       "      <td>NaN</td>\n",
       "      <td>...</td>\n",
       "      <td>0.0</td>\n",
       "      <td>0.0</td>\n",
       "      <td>0.0</td>\n",
       "      <td>0.0</td>\n",
       "      <td>0.0</td>\n",
       "      <td>0.0</td>\n",
       "      <td>0.0</td>\n",
       "      <td>0.0</td>\n",
       "      <td>0.0</td>\n",
       "      <td>2021-08-06 14:17:50.745;</td>\n",
       "    </tr>\n",
       "    <tr>\n",
       "      <th>233</th>\n",
       "      <td>PDI2474</td>\n",
       "      <td>NaN</td>\n",
       "      <td>NaN</td>\n",
       "      <td>NaN</td>\n",
       "      <td>NaN</td>\n",
       "      <td>NaN</td>\n",
       "      <td>NaN</td>\n",
       "      <td>NaN</td>\n",
       "      <td>NaN</td>\n",
       "      <td>NaN</td>\n",
       "      <td>...</td>\n",
       "      <td>0.0</td>\n",
       "      <td>0.0</td>\n",
       "      <td>0.0</td>\n",
       "      <td>0.0</td>\n",
       "      <td>0.0</td>\n",
       "      <td>0.0</td>\n",
       "      <td>0.0</td>\n",
       "      <td>0.0</td>\n",
       "      <td>0.0</td>\n",
       "      <td>2021-08-06 14:17:50.745;</td>\n",
       "    </tr>\n",
       "    <tr>\n",
       "      <th>...</th>\n",
       "      <td>...</td>\n",
       "      <td>...</td>\n",
       "      <td>...</td>\n",
       "      <td>...</td>\n",
       "      <td>...</td>\n",
       "      <td>...</td>\n",
       "      <td>...</td>\n",
       "      <td>...</td>\n",
       "      <td>...</td>\n",
       "      <td>...</td>\n",
       "      <td>...</td>\n",
       "      <td>...</td>\n",
       "      <td>...</td>\n",
       "      <td>...</td>\n",
       "      <td>...</td>\n",
       "      <td>...</td>\n",
       "      <td>...</td>\n",
       "      <td>...</td>\n",
       "      <td>...</td>\n",
       "      <td>...</td>\n",
       "      <td>...</td>\n",
       "    </tr>\n",
       "    <tr>\n",
       "      <th>16974</th>\n",
       "      <td>HEL2742</td>\n",
       "      <td>NaN</td>\n",
       "      <td>NaN</td>\n",
       "      <td>NaN</td>\n",
       "      <td>NaN</td>\n",
       "      <td>NaN</td>\n",
       "      <td>NaN</td>\n",
       "      <td>NaN</td>\n",
       "      <td>NaN</td>\n",
       "      <td>NaN</td>\n",
       "      <td>...</td>\n",
       "      <td>0.0</td>\n",
       "      <td>0.0</td>\n",
       "      <td>0.0</td>\n",
       "      <td>0.0</td>\n",
       "      <td>0.0</td>\n",
       "      <td>0.0</td>\n",
       "      <td>0.0</td>\n",
       "      <td>0.0</td>\n",
       "      <td>0.0</td>\n",
       "      <td>2021-08-06 14:17:50.745;</td>\n",
       "    </tr>\n",
       "    <tr>\n",
       "      <th>17096</th>\n",
       "      <td>WO09134</td>\n",
       "      <td>NaN</td>\n",
       "      <td>NaN</td>\n",
       "      <td>NaN</td>\n",
       "      <td>NaN</td>\n",
       "      <td>NaN</td>\n",
       "      <td>NaN</td>\n",
       "      <td>NaN</td>\n",
       "      <td>NaN</td>\n",
       "      <td>NaN</td>\n",
       "      <td>...</td>\n",
       "      <td>0.0</td>\n",
       "      <td>0.0</td>\n",
       "      <td>0.0</td>\n",
       "      <td>0.0</td>\n",
       "      <td>0.0</td>\n",
       "      <td>0.0</td>\n",
       "      <td>0.0</td>\n",
       "      <td>0.0</td>\n",
       "      <td>0.0</td>\n",
       "      <td>2021-08-06 14:17:50.745;</td>\n",
       "    </tr>\n",
       "    <tr>\n",
       "      <th>17165</th>\n",
       "      <td>MOWC023</td>\n",
       "      <td>NaN</td>\n",
       "      <td>NaN</td>\n",
       "      <td>NaN</td>\n",
       "      <td>NaN</td>\n",
       "      <td>NaN</td>\n",
       "      <td>NaN</td>\n",
       "      <td>NaN</td>\n",
       "      <td>NaN</td>\n",
       "      <td>NaN</td>\n",
       "      <td>...</td>\n",
       "      <td>0.0</td>\n",
       "      <td>0.0</td>\n",
       "      <td>0.0</td>\n",
       "      <td>0.0</td>\n",
       "      <td>0.0</td>\n",
       "      <td>0.0</td>\n",
       "      <td>0.0</td>\n",
       "      <td>0.0</td>\n",
       "      <td>0.0</td>\n",
       "      <td>2021-08-06 14:17:50.745;</td>\n",
       "    </tr>\n",
       "    <tr>\n",
       "      <th>17333</th>\n",
       "      <td>L952309</td>\n",
       "      <td>NaN</td>\n",
       "      <td>NaN</td>\n",
       "      <td>NaN</td>\n",
       "      <td>NaN</td>\n",
       "      <td>NaN</td>\n",
       "      <td>NaN</td>\n",
       "      <td>NaN</td>\n",
       "      <td>NaN</td>\n",
       "      <td>NaN</td>\n",
       "      <td>...</td>\n",
       "      <td>0.0</td>\n",
       "      <td>0.0</td>\n",
       "      <td>0.0</td>\n",
       "      <td>0.0</td>\n",
       "      <td>0.0</td>\n",
       "      <td>0.0</td>\n",
       "      <td>0.0</td>\n",
       "      <td>0.0</td>\n",
       "      <td>0.0</td>\n",
       "      <td>2021-08-06 14:17:50.745;</td>\n",
       "    </tr>\n",
       "    <tr>\n",
       "      <th>17375</th>\n",
       "      <td>BN70935</td>\n",
       "      <td>NaN</td>\n",
       "      <td>NaN</td>\n",
       "      <td>NaN</td>\n",
       "      <td>NaN</td>\n",
       "      <td>NaN</td>\n",
       "      <td>NaN</td>\n",
       "      <td>NaN</td>\n",
       "      <td>NaN</td>\n",
       "      <td>NaN</td>\n",
       "      <td>...</td>\n",
       "      <td>0.0</td>\n",
       "      <td>0.0</td>\n",
       "      <td>0.0</td>\n",
       "      <td>0.0</td>\n",
       "      <td>0.0</td>\n",
       "      <td>0.0</td>\n",
       "      <td>0.0</td>\n",
       "      <td>0.0</td>\n",
       "      <td>0.0</td>\n",
       "      <td>2021-08-06 14:17:50.745;</td>\n",
       "    </tr>\n",
       "  </tbody>\n",
       "</table>\n",
       "<p>254 rows × 88 columns</p>\n",
       "</div>"
      ],
      "text/plain": [
       "      no_pelanggan  umur daerah jenis_kelamin status_kawin jenis_pekerjaan  \\\n",
       "44         MSR4962   NaN    NaN           NaN          NaN             NaN   \n",
       "62         RZ40894   NaN    NaN           NaN          NaN             NaN   \n",
       "68         SJCM232   NaN    NaN           NaN          NaN             NaN   \n",
       "105        G384526   NaN    NaN           NaN          NaN             NaN   \n",
       "233        PDI2474   NaN    NaN           NaN          NaN             NaN   \n",
       "...            ...   ...    ...           ...          ...             ...   \n",
       "16974      HEL2742   NaN    NaN           NaN          NaN             NaN   \n",
       "17096      WO09134   NaN    NaN           NaN          NaN             NaN   \n",
       "17165      MOWC023   NaN    NaN           NaN          NaN             NaN   \n",
       "17333      L952309   NaN    NaN           NaN          NaN             NaN   \n",
       "17375      BN70935   NaN    NaN           NaN          NaN             NaN   \n",
       "\n",
       "      sumber_pemasukan jenis_usaha  punya_produk1  punya_produk2  ...  \\\n",
       "44                 NaN         NaN            NaN            NaN  ...   \n",
       "62                 NaN         NaN            NaN            NaN  ...   \n",
       "68                 NaN         NaN            NaN            NaN  ...   \n",
       "105                NaN         NaN            NaN            NaN  ...   \n",
       "233                NaN         NaN            NaN            NaN  ...   \n",
       "...                ...         ...            ...            ...  ...   \n",
       "16974              NaN         NaN            NaN            NaN  ...   \n",
       "17096              NaN         NaN            NaN            NaN  ...   \n",
       "17165              NaN         NaN            NaN            NaN  ...   \n",
       "17333              NaN         NaN            NaN            NaN  ...   \n",
       "17375              NaN         NaN            NaN            NaN  ...   \n",
       "\n",
       "       frekuensi_uke_4BT  frekuensi_uke_5BT  frekuensi_uke_6BT  \\\n",
       "44                   0.0                0.0                0.0   \n",
       "62                   0.0                0.0                0.0   \n",
       "68                   0.0                0.0                0.0   \n",
       "105                  0.0                0.0                0.0   \n",
       "233                  0.0                0.0                0.0   \n",
       "...                  ...                ...                ...   \n",
       "16974                0.0                0.0                0.0   \n",
       "17096                0.0                0.0                0.0   \n",
       "17165                0.0                0.0                0.0   \n",
       "17333                0.0                0.0                0.0   \n",
       "17375                0.0                0.0                0.0   \n",
       "\n",
       "       frekuensi_uma_1BT  frekuensi_uma_2BT  frekuensi_uma_3BT  \\\n",
       "44                   0.0                0.0                0.0   \n",
       "62                   0.0                0.0                0.0   \n",
       "68                   0.0                0.0                0.0   \n",
       "105                  0.0                0.0                0.0   \n",
       "233                  0.0                0.0                0.0   \n",
       "...                  ...                ...                ...   \n",
       "16974                0.0                0.0                0.0   \n",
       "17096                0.0                0.0                0.0   \n",
       "17165                0.0                0.0                0.0   \n",
       "17333                0.0                0.0                0.0   \n",
       "17375                0.0                0.0                0.0   \n",
       "\n",
       "       frekuensi_uma_4BT  frekuensi_uma_5BT  frekuensi_uma_6BT  \\\n",
       "44                   0.0                0.0                0.0   \n",
       "62                   0.0                0.0                0.0   \n",
       "68                   0.0                0.0                0.0   \n",
       "105                  0.0                0.0                0.0   \n",
       "233                  0.0                0.0                0.0   \n",
       "...                  ...                ...                ...   \n",
       "16974                0.0                0.0                0.0   \n",
       "17096                0.0                0.0                0.0   \n",
       "17165                0.0                0.0                0.0   \n",
       "17333                0.0                0.0                0.0   \n",
       "17375                0.0                0.0                0.0   \n",
       "\n",
       "                       tanggal;  \n",
       "44     2021-08-06 14:17:50.745;  \n",
       "62     2021-08-06 14:17:50.745;  \n",
       "68     2021-08-06 14:17:50.745;  \n",
       "105    2021-08-06 14:17:50.745;  \n",
       "233    2021-08-06 14:17:50.745;  \n",
       "...                         ...  \n",
       "16974  2021-08-06 14:17:50.745;  \n",
       "17096  2021-08-06 14:17:50.745;  \n",
       "17165  2021-08-06 14:17:50.745;  \n",
       "17333  2021-08-06 14:17:50.745;  \n",
       "17375  2021-08-06 14:17:50.745;  \n",
       "\n",
       "[254 rows x 88 columns]"
      ]
     },
     "execution_count": 18,
     "metadata": {},
     "output_type": "execute_result"
    }
   ],
   "source": [
    "df[df.punya_produk1.isnull()]"
   ]
  },
  {
   "cell_type": "code",
   "execution_count": 19,
   "id": "b506521e",
   "metadata": {},
   "outputs": [],
   "source": [
    "df = df[~df.punya_produk1.isnull()]"
   ]
  },
  {
   "cell_type": "code",
   "execution_count": 20,
   "id": "faa05776",
   "metadata": {
    "scrolled": true
   },
   "outputs": [],
   "source": [
    "#print(df.isnull().sum()[0:30])\n",
    "#print(df.isnull().sum()[30:60])\n",
    "#print(df.isnull().sum()[60::])"
   ]
  },
  {
   "cell_type": "markdown",
   "id": "5e2a6af8",
   "metadata": {},
   "source": [
    "Cek juga apakah ada duplikasi data termasuk data untuk pelanggan sama namun data berbeda"
   ]
  },
  {
   "cell_type": "code",
   "execution_count": 21,
   "id": "7bea0f71",
   "metadata": {},
   "outputs": [
    {
     "data": {
      "text/plain": [
       "0"
      ]
     },
     "execution_count": 21,
     "metadata": {},
     "output_type": "execute_result"
    }
   ],
   "source": [
    "df.duplicated().sum()"
   ]
  },
  {
   "cell_type": "code",
   "execution_count": 22,
   "id": "5d8c0757",
   "metadata": {},
   "outputs": [
    {
     "data": {
      "text/plain": [
       "0"
      ]
     },
     "execution_count": 22,
     "metadata": {},
     "output_type": "execute_result"
    }
   ],
   "source": [
    "df.no_pelanggan.duplicated().sum()"
   ]
  },
  {
   "cell_type": "code",
   "execution_count": 23,
   "id": "e5e72568",
   "metadata": {},
   "outputs": [],
   "source": [
    "flag_perform = ['flag_perform_B1', 'flag_perform_B2', 'flag_perform_B3',\n",
    "       'flag_perform_B4', 'flag_perform_B5', 'flag_perform_B6',\n",
    "       'flag_perform_B7', 'flag_perform_B8', 'flag_perform_B9',\n",
    "       'flag_perform_B10', 'flag_perform_B11', 'flag_perform_B12']"
   ]
  },
  {
   "cell_type": "code",
   "execution_count": 24,
   "id": "002d3148",
   "metadata": {},
   "outputs": [],
   "source": [
    "df_new = df.copy()\n",
    "df_new = pd.DataFrame(df_new)"
   ]
  },
  {
   "cell_type": "markdown",
   "id": "7d343433",
   "metadata": {},
   "source": [
    "Membuat fitur baru yakni rata-rata performa produk 7 pada 12 bulan, kemudian membuat fitur baru lagi untuk menentukan apakah selama nasabah menggunakan produk tersebut performa mereka dinilai bagus selama lebih dari 50% masa penggunaan. Di samping itu, nasabah yang belum menggunakan produk 7 sama sekali sehingga tidak mempunyai nilai (bernilai NaN) akan disimpan terlebih dahulu untuk digunakan menjadi rekomendasi."
   ]
  },
  {
   "cell_type": "code",
   "execution_count": 25,
   "id": "f1e0689a",
   "metadata": {},
   "outputs": [],
   "source": [
    "df_new['flag_perform_avg'] = df_new[flag_perform].mean(axis=1)"
   ]
  },
  {
   "cell_type": "code",
   "execution_count": 26,
   "id": "6350f6df",
   "metadata": {},
   "outputs": [],
   "source": [
    "df_noflag = df_new.loc[df_new.flag_perform_avg.isnull()]\n",
    "df_new.dropna(subset=['flag_perform_avg'], inplace=True)"
   ]
  },
  {
   "cell_type": "code",
   "execution_count": 27,
   "id": "f3f9a1fd",
   "metadata": {},
   "outputs": [
    {
     "data": {
      "text/plain": [
       "(13625, 89)"
      ]
     },
     "execution_count": 27,
     "metadata": {},
     "output_type": "execute_result"
    }
   ],
   "source": [
    "df_new.shape"
   ]
  },
  {
   "cell_type": "code",
   "execution_count": 28,
   "id": "72781dd4",
   "metadata": {},
   "outputs": [
    {
     "data": {
      "text/plain": [
       "(3402, 89)"
      ]
     },
     "execution_count": 28,
     "metadata": {},
     "output_type": "execute_result"
    }
   ],
   "source": [
    "df_noflag.shape"
   ]
  },
  {
   "cell_type": "code",
   "execution_count": 29,
   "id": "60c8f8a8",
   "metadata": {},
   "outputs": [
    {
     "name": "stdout",
     "output_type": "stream",
     "text": [
      "0        0.916667\n",
      "1        0.916667\n",
      "2        0.750000\n",
      "3        0.900000\n",
      "4        1.000000\n",
      "           ...   \n",
      "17449    1.000000\n",
      "17450    0.083333\n",
      "17451    1.000000\n",
      "17454    0.916667\n",
      "17455    1.000000\n",
      "Name: flag_perform_avg, Length: 13625, dtype: float64\n"
     ]
    }
   ],
   "source": [
    "print(df_new.flag_perform_avg)"
   ]
  },
  {
   "cell_type": "code",
   "execution_count": 30,
   "id": "09b3de33",
   "metadata": {},
   "outputs": [
    {
     "data": {
      "text/plain": [
       "0        1.0\n",
       "1        1.0\n",
       "2        1.0\n",
       "3        1.0\n",
       "4        1.0\n",
       "        ... \n",
       "17449    1.0\n",
       "17450    0.0\n",
       "17451    1.0\n",
       "17454    1.0\n",
       "17455    1.0\n",
       "Name: flag_perform_value, Length: 13625, dtype: float64"
      ]
     },
     "execution_count": 30,
     "metadata": {},
     "output_type": "execute_result"
    }
   ],
   "source": [
    "df_new['flag_perform_value']=(df_new.flag_perform_avg>=0.5).astype(float)\n",
    "df_new['flag_perform_value']"
   ]
  },
  {
   "cell_type": "code",
   "execution_count": 31,
   "id": "a5e7f4aa",
   "metadata": {},
   "outputs": [
    {
     "name": "stdout",
     "output_type": "stream",
     "text": [
      "1.0    7205\n",
      "0.0    6420\n",
      "Name: flag_perform_value, dtype: int64\n",
      "1.0    0.528807\n",
      "0.0    0.471193\n",
      "Name: flag_perform_value, dtype: float64\n"
     ]
    }
   ],
   "source": [
    "print(df_new.flag_perform_value.value_counts())\n",
    "print(df_new.flag_perform_value.value_counts(normalize=True))"
   ]
  },
  {
   "cell_type": "code",
   "execution_count": 32,
   "id": "184e4b41",
   "metadata": {
    "scrolled": true
   },
   "outputs": [
    {
     "data": {
      "image/png": "[encoded data removed]",
      "text/plain": [
       "<Figure size 432x288 with 1 Axes>"
      ]
     },
     "metadata": {
      "needs_background": "light"
     },
     "output_type": "display_data"
    }
   ],
   "source": [
    "ax = sns.barplot(x=df_new.flag_perform_value.value_counts().index, y=df_new.flag_perform_value.value_counts(normalize=True))\n",
    "ax.set_title('Barplot Label')\n",
    "plt.savefig('barplot label')"
   ]
  },
  {
   "cell_type": "markdown",
   "id": "1ab67f6b",
   "metadata": {},
   "source": [
    "Dari barplot diatas dapat dilihat bahwa jumlah kedua data kurang lebih seimbang sehingga kita tidak perlu menggunakan undersampling atau oversampling."
   ]
  },
  {
   "cell_type": "markdown",
   "id": "7dc827b7",
   "metadata": {},
   "source": [
    "# EDA"
   ]
  },
  {
   "cell_type": "code",
   "execution_count": 33,
   "id": "42a698a8",
   "metadata": {},
   "outputs": [],
   "source": [
    "#df_new.columns"
   ]
  },
  {
   "cell_type": "code",
   "execution_count": 34,
   "id": "a666c534",
   "metadata": {},
   "outputs": [],
   "source": [
    "have_product = ['punya_produk1','punya_produk2', 'punya_produk3',\n",
    "                'punya_produk4', 'punya_produk5','punya_produk6']"
   ]
  },
  {
   "cell_type": "code",
   "execution_count": 35,
   "id": "d20c27e9",
   "metadata": {},
   "outputs": [
    {
     "name": "stdout",
     "output_type": "stream",
     "text": [
      "flag_perform_value   0.0   1.0\n",
      "punya_produk1                 \n",
      "0.0                 4346  4951\n",
      "1.0                 2074  2254\n"
     ]
    },
    {
     "data": {
      "image/png": "[encoded data removed]",
      "text/plain": [
       "<Figure size 432x288 with 1 Axes>"
      ]
     },
     "metadata": {
      "needs_background": "light"
     },
     "output_type": "display_data"
    }
   ],
   "source": [
    "produk_1 = pd.crosstab(df_new.punya_produk1, df_new.flag_perform_value)\n",
    "print(produk_1)\n",
    "\n",
    "ax = produk_1.plot.bar(rot=0)\n",
    "plt.ylabel('frekuensi')\n",
    "ax.set_title('Produk 1')\n",
    "plt.savefig('produk 1')\n",
    "plt.show()"
   ]
  },
  {
   "cell_type": "markdown",
   "id": "5530ab99",
   "metadata": {},
   "source": [
    "Dapat dilihat bahwa jumlah fitur bernilai 1 lebih sedikit daripada yang bernilai 0, atau dengan kata lain lebih sedikit orang yang tidak mempunyai produk ini dibandingkan yang punya. Selain itu, persebaran nilai label 1 dan 0 cukup berimbang baik untuk fitur bernilai 0 maupun 1, sehingga fitur ini saja tidak dapat digunakan untuk melakukan klasifikasi."
   ]
  },
  {
   "cell_type": "code",
   "execution_count": 36,
   "id": "075aebbf",
   "metadata": {},
   "outputs": [
    {
     "name": "stdout",
     "output_type": "stream",
     "text": [
      "flag_perform_value   0.0   1.0\n",
      "punya_produk2                 \n",
      "0.0                 2777  2889\n",
      "1.0                 3643  4316\n"
     ]
    },
    {
     "data": {
      "image/png": "[encoded data removed]",
      "text/plain": [
       "<Figure size 432x288 with 1 Axes>"
      ]
     },
     "metadata": {
      "needs_background": "light"
     },
     "output_type": "display_data"
    }
   ],
   "source": [
    "produk_2 = pd.crosstab(df_new.punya_produk2, df_new.flag_perform_value)\n",
    "print(produk_2)\n",
    "\n",
    "ax = produk_2.plot.bar(rot=0)\n",
    "plt.ylabel('frekuensi')\n",
    "ax.set_title('Produk 2')\n",
    "plt.savefig('produk 2')\n",
    "plt.show()"
   ]
  },
  {
   "cell_type": "markdown",
   "id": "786978b2",
   "metadata": {},
   "source": [
    "Pada fitur ini ditemukan juga bahwa tidak terdapat perbedaan distribusi yang signifikan dari label baik untuk fitur bernilai 0 maupun 1, perbedaannya adalah jumlah nasabah yang mempunyai produk ini lebih banyak daripada yang tidak mempunyainya."
   ]
  },
  {
   "cell_type": "code",
   "execution_count": 37,
   "id": "4b6cec49",
   "metadata": {},
   "outputs": [
    {
     "name": "stdout",
     "output_type": "stream",
     "text": [
      "flag_perform_value   0.0   1.0\n",
      "punya_produk3                 \n",
      "0.0                  669  1127\n",
      "1.0                 5751  6078\n"
     ]
    },
    {
     "data": {
      "image/png": "[encoded data removed]",
      "text/plain": [
       "<Figure size 432x288 with 1 Axes>"
      ]
     },
     "metadata": {
      "needs_background": "light"
     },
     "output_type": "display_data"
    }
   ],
   "source": [
    "produk_3 = pd.crosstab(df_new.punya_produk3, df_new.flag_perform_value)\n",
    "print(produk_3)\n",
    "\n",
    "ax = produk_3.plot.bar(rot=0)\n",
    "plt.ylabel('frekuensi')\n",
    "ax.set_title('Produk 3')\n",
    "plt.savefig('produk 3')\n",
    "plt.show()"
   ]
  },
  {
   "cell_type": "markdown",
   "id": "b9c85e49",
   "metadata": {},
   "source": [
    "Pada fitur ini jumlah nasabah yang mempunyai produk jauh lebih banyak dibandingkan yang tidak punya. Akan tetapi distribusi label masih berimbang."
   ]
  },
  {
   "cell_type": "code",
   "execution_count": 38,
   "id": "3c45453a",
   "metadata": {},
   "outputs": [
    {
     "name": "stdout",
     "output_type": "stream",
     "text": [
      "flag_perform_value   0.0   1.0\n",
      "punya_produk4                 \n",
      "0.0                 4902  4958\n",
      "1.0                 1518  2247\n"
     ]
    },
    {
     "data": {
      "image/png": "[encoded data removed]",
      "text/plain": [
       "<Figure size 432x288 with 1 Axes>"
      ]
     },
     "metadata": {
      "needs_background": "light"
     },
     "output_type": "display_data"
    }
   ],
   "source": [
    "produk_4 = pd.crosstab(df_new.punya_produk4, df_new.flag_perform_value)\n",
    "print(produk_4)\n",
    "\n",
    "ax = produk_4.plot.bar(rot=0)\n",
    "plt.ylabel('frekuensi')\n",
    "ax.set_title('Produk 4')\n",
    "plt.savefig('produk 4')\n",
    "plt.show()"
   ]
  },
  {
   "cell_type": "markdown",
   "id": "dbdd9e2c",
   "metadata": {},
   "source": [
    "Untuk produk ini jumlah fitur bernilai 0 jauh lebih tinggi dibandingkan yang bernilai 1. Akan tetapi distribusi label masih bisa dikatakan cukup berimbang."
   ]
  },
  {
   "cell_type": "code",
   "execution_count": 39,
   "id": "c398d22f",
   "metadata": {
    "scrolled": false
   },
   "outputs": [
    {
     "name": "stdout",
     "output_type": "stream",
     "text": [
      "flag_perform_value   0.0   1.0\n",
      "punya_produk5                 \n",
      "0.0                 5871  6563\n",
      "1.0                  549   642\n"
     ]
    },
    {
     "data": {
      "image/png": "[encoded data removed]",
      "text/plain": [
       "<Figure size 432x288 with 1 Axes>"
      ]
     },
     "metadata": {
      "needs_background": "light"
     },
     "output_type": "display_data"
    }
   ],
   "source": [
    "produk_5 = pd.crosstab(df_new.punya_produk5, df_new.flag_perform_value)\n",
    "print(produk_5)\n",
    "\n",
    "ax = produk_5.plot.bar(rot=0)\n",
    "plt.ylabel('frekuensi')\n",
    "ax.set_title('Produk 5')\n",
    "plt.savefig('produk 5')\n",
    "plt.show()"
   ]
  },
  {
   "cell_type": "markdown",
   "id": "db396e86",
   "metadata": {},
   "source": [
    "Pada produk 5 ini sama dengan analisis produk 4, dimana jumlah nasabah yang mempunyai produk ini jauh lebih sedikit dibandingkan yang mempunyainya. Akan tetapi distribusi label juga masih berimbang."
   ]
  },
  {
   "cell_type": "code",
   "execution_count": 40,
   "id": "c6fd5b4f",
   "metadata": {},
   "outputs": [
    {
     "name": "stdout",
     "output_type": "stream",
     "text": [
      "flag_perform_value   0.0   1.0\n",
      "punya_produk6                 \n",
      "0.0                 4748  5833\n",
      "1.0                 1672  1372\n"
     ]
    },
    {
     "data": {
      "image/png": "[encoded data removed]",
      "text/plain": [
       "<Figure size 432x288 with 1 Axes>"
      ]
     },
     "metadata": {
      "needs_background": "light"
     },
     "output_type": "display_data"
    }
   ],
   "source": [
    "produk_6 = pd.crosstab(df_new.punya_produk6, df_new.flag_perform_value)\n",
    "print(produk_6)\n",
    "\n",
    "ax = produk_6.plot.bar(rot=0)\n",
    "plt.ylabel('frekuensi')\n",
    "ax.set_title('Produk 6')\n",
    "plt.savefig('produk 6')\n",
    "plt.show()"
   ]
  },
  {
   "cell_type": "markdown",
   "id": "5361af84",
   "metadata": {},
   "source": [
    "Sama dengan produk 4 dan 5, jumlah fitur bernilai 0 lebih banyak dibandingkan yang bernilai 1. Akan tetapi kali ini jumlah label bernilai 1 pada fitur bernilai 0 dan jumlah label bernilai 0 pada fitur bernilai 1 lebih banyak dibandingkan yang bernilai 0 pada 0 dan bernilai 1 pada 1. Akan tetapi masih bisa dilihat bahwa distribusi keduanya cukup berimbang."
   ]
  },
  {
   "cell_type": "markdown",
   "id": "a014c891",
   "metadata": {},
   "source": [
    "- Nasabah yang tidak mempunyai produk 1, 4, 5, dan 6 lebih banyak dibandingkan yang mempunyainya, dengan yang paling ekstrim adalah untuk produk 5 dengan jumlah nasabah yang mempunyai hanya sekitar 1000 atau kurang dari 10% data. Berbanding terbalik dengan data produk 2 dan 3 dimana pengguna lebih banyak dari non-pengguna, dengan paling ekstrim pada produk 3 jumlah non-pengguna hanya sekitar 2000 atau 13% data saja.\n",
    "- Dengan jumlah persebaran data yang demikian dapat ditelaah kembali apakah sudah memenuhi target pemakaian produk tersebut atau belum. Dapat juga dilakukan analisis demografi pengguna untuk melihat apakah target pemakaian produk sudah sesuai dengan target demografinya.\n",
    "- Walaupun untuk keenam fitur diatas tidak ada yang mempunyai korelasi yang tinggi dengan label, kita masih akan tetap menggunakan fitur-fitur ini dengan harapan penggunaanya setelah dikombinasikan dengan fitur-fitur yang lain dapat menjadi prediktor yang baik untuk label kita."
   ]
  },
  {
   "cell_type": "code",
   "execution_count": 41,
   "id": "85daf82c",
   "metadata": {},
   "outputs": [],
   "source": [
    "#df_new.columns"
   ]
  },
  {
   "cell_type": "code",
   "execution_count": 42,
   "id": "8e95cec5",
   "metadata": {},
   "outputs": [
    {
     "data": {
      "text/plain": [
       "(13625, 90)"
      ]
     },
     "execution_count": 42,
     "metadata": {},
     "output_type": "execute_result"
    }
   ],
   "source": [
    "df_new.shape"
   ]
  },
  {
   "cell_type": "code",
   "execution_count": 43,
   "id": "df611988",
   "metadata": {},
   "outputs": [],
   "source": [
    "#df_new[['umur', 'daerah', 'jenis_kelamin', 'status_kawin',\n",
    "#       'jenis_pekerjaan', 'sumber_pemasukan', 'jenis_usaha']].describe(include='all')"
   ]
  },
  {
   "cell_type": "code",
   "execution_count": 44,
   "id": "cc5a30bc",
   "metadata": {},
   "outputs": [
    {
     "data": {
      "image/png": "[encoded data removed]",
      "text/plain": [
       "<Figure size 432x288 with 1 Axes>"
      ]
     },
     "metadata": {
      "needs_background": "light"
     },
     "output_type": "display_data"
    }
   ],
   "source": [
    "ax = sns.barplot(x=df_new.daerah.value_counts().index, y=df_new.daerah.value_counts(normalize=True))\n",
    "ax.set_title('Daerah')\n",
    "plt.savefig('daerah1')\n",
    "plt.show()"
   ]
  },
  {
   "cell_type": "code",
   "execution_count": 45,
   "id": "dd6c21f8",
   "metadata": {},
   "outputs": [
    {
     "data": {
      "image/png": "[encoded data removed]",
      "text/plain": [
       "<Figure size 432x288 with 1 Axes>"
      ]
     },
     "metadata": {
      "needs_background": "light"
     },
     "output_type": "display_data"
    }
   ],
   "source": [
    "daerah_cross = pd.crosstab(df_new.daerah, df_new.flag_perform_value)\n",
    "#daerah_cross.plot.bar(rot=0)\n",
    "plt.bar(daerah_cross.index, daerah_cross[0])\n",
    "plt.bar(daerah_cross.index, daerah_cross[1], bottom=daerah_cross[0])\n",
    "plt.title('Daerah')\n",
    "plt.savefig('daerah2')\n",
    "plt.show()"
   ]
  },
  {
   "cell_type": "markdown",
   "id": "4efce3a8",
   "metadata": {},
   "source": [
    "Persebaran daerah nasabah cukup merata dengan jumlah terbanyak tidak mencapai 10% dari keseluruhan data. Sedangkan untuk persebaran label sendiri cukup merata kecuali pada daerah 'B', 'F', 'G', 'N', dan 'R'."
   ]
  },
  {
   "cell_type": "code",
   "execution_count": 46,
   "id": "e12fb94c",
   "metadata": {},
   "outputs": [
    {
     "name": "stdout",
     "output_type": "stream",
     "text": [
      "flag_perform_value   0.0   1.0\n",
      "jenis_kelamin                 \n",
      "F                   2261  2123\n",
      "M                   3245  3494\n"
     ]
    },
    {
     "data": {
      "image/png": "[encoded data removed]",
      "text/plain": [
       "<Figure size 432x288 with 1 Axes>"
      ]
     },
     "metadata": {
      "needs_background": "light"
     },
     "output_type": "display_data"
    }
   ],
   "source": [
    "gender_cross = pd.crosstab(df_new.jenis_kelamin, df_new.flag_perform_value)\n",
    "print(gender_cross)\n",
    "\n",
    "gender_cross.plot.bar(rot=0)\n",
    "plt.ylabel('frekuensi')\n",
    "plt.title('Gender')\n",
    "plt.savefig('gender')\n",
    "plt.show()"
   ]
  },
  {
   "cell_type": "markdown",
   "id": "421ea538",
   "metadata": {},
   "source": [
    "Persebaran label untuk kedua gender cukup berimbang sehingga kita tidak dapat menggunakan fitur ini saja sebagai prediktor. Selain itu, jumlah nasabah laki-laki lebih banyak dari perempuan."
   ]
  },
  {
   "cell_type": "code",
   "execution_count": 47,
   "id": "0141a42d",
   "metadata": {},
   "outputs": [
    {
     "name": "stdout",
     "output_type": "stream",
     "text": [
      "flag_perform_value   0.0   1.0\n",
      "status_kawin                  \n",
      "B                   1141  1241\n",
      "D                     20    29\n",
      "J                     79    76\n",
      "K                   4240  4233\n"
     ]
    },
    {
     "data": {
      "image/png": "[encoded data removed]",
      "text/plain": [
       "<Figure size 432x288 with 1 Axes>"
      ]
     },
     "metadata": {
      "needs_background": "light"
     },
     "output_type": "display_data"
    }
   ],
   "source": [
    "status_cross = pd.crosstab(df_new.status_kawin, df_new.flag_perform_value)\n",
    "print(status_cross)\n",
    "\n",
    "status_cross.plot.bar(rot=0)\n",
    "plt.ylabel('frekuensi')\n",
    "plt.title('Status Kawin')\n",
    "plt.savefig('status_kawin')\n",
    "plt.show()"
   ]
  },
  {
   "cell_type": "markdown",
   "id": "ce19349a",
   "metadata": {},
   "source": [
    "Pada fitur ini terlihat bahwa tidak adanya perbedaan yang signifikan antara kedua label. Perbedaan pada fitur ini terletak pada jumlah data antar kategori dimana data 'D' dan 'J' sangat sedikit jika dibandingkan data 'B' dan 'K'. Akan tetapi persebaran data tersebut wajar jika melihat bahwa jumlah orang yang 'belum kawin' dan 'sudah kawin' jelas lebih banyak dibandingkan dengan data 'duda' dan 'janda' pada realitanya."
   ]
  },
  {
   "cell_type": "code",
   "execution_count": 48,
   "id": "23028a08",
   "metadata": {},
   "outputs": [
    {
     "name": "stdout",
     "output_type": "stream",
     "text": [
      "flag_perform_value                         0.0   1.0\n",
      "jenis_pekerjaan                                     \n",
      "ASN                                        111   109\n",
      "Administrasi Umum / Supervisor               5     4\n",
      "Akunting / Keuangan                          3     4\n",
      "Dokter                                      55    57\n",
      "Executive / Managerial                       2     2\n",
      "Ibu RT                                     200   199\n",
      "Karyawan                                   615   620\n",
      "Karyawan Usaha Negara                       73    70\n",
      "Komputer-Analis/Progrmr/Internt/MIS/Engi     2     1\n",
      "Konsultan                                    1     2\n",
      "Mahasiswa Diploma / S1 / S2                101   137\n",
      "Militer (POLRI)                             13    10\n",
      "Militer (TNI - AD)                           9     6\n",
      "Militer (TNI - AL)                           1     1\n",
      "Notaris                                      4     3\n",
      "Pedagang                                   422   394\n",
      "Pelajar SD / SLTP / SLTA                    30    30\n",
      "Pemilik Perusahaan                           9    12\n",
      "Pendidik                                    41    33\n",
      "Pengacara                                    1     1\n",
      "Pengajar/Guru/Dosen  Swasta                 15    14\n",
      "Penganggur/Belum Bekerja/Pencari Kerja      73    72\n",
      "Pensiunan                                    8    14\n",
      "Produksi / Operasi / Manufatur               1     2\n",
      "Riset & Pengembangan                         0     1\n",
      "Sales / Marketing / Promosi                  2     2\n",
      "Seniman                                      2     3\n",
      "Service / Customer Support / Layanan         8     6\n",
      "Technical / Engineering-lainnya             15    13\n",
      "Usaha Mandiri                             3303  3457\n",
      "(30, 2)\n"
     ]
    }
   ],
   "source": [
    "pekerjaan_cross = pd.crosstab(df_new.jenis_pekerjaan, df_new.flag_perform_value)\n",
    "print(pekerjaan_cross)\n",
    "print(pekerjaan_cross.shape)"
   ]
  },
  {
   "cell_type": "code",
   "execution_count": 49,
   "id": "a9ad8acf",
   "metadata": {},
   "outputs": [
    {
     "data": {
      "text/plain": [
       "3221"
      ]
     },
     "execution_count": 49,
     "metadata": {},
     "output_type": "execute_result"
    }
   ],
   "source": [
    "df_new.jenis_pekerjaan.isnull().sum()"
   ]
  },
  {
   "cell_type": "markdown",
   "id": "2aec5ca4",
   "metadata": {},
   "source": [
    "Dapat diketahui bahwa persebaran label cukup berimbang untuk keseluruhan fitur ini, akan tetapi karena jumlah n-unique data cukup banyak, maka kemungkinan data ini akan didrop pada bagian selanjutnya."
   ]
  },
  {
   "cell_type": "code",
   "execution_count": 50,
   "id": "4d99051d",
   "metadata": {},
   "outputs": [
    {
     "name": "stdout",
     "output_type": "stream",
     "text": [
      "flag_perform_value  0.0  1.0\n",
      "sumber_pemasukan            \n",
      "00012                 8    4\n",
      "5000000               0    1\n",
      "AGEN BRILINK          2    0\n",
      "ANAK                  2    1\n",
      "ANAK (POM BENSIN)     0    1\n",
      "...                 ...  ...\n",
      "lainya                0    1\n",
      "orang tua             2    2\n",
      "ortu                  0    1\n",
      "suami                 9    7\n",
      "usaha                 2    1\n",
      "\n",
      "[220 rows x 2 columns]\n",
      "(220, 2)\n"
     ]
    }
   ],
   "source": [
    "pemasukan_cross = pd.crosstab(df_new.sumber_pemasukan, df_new.flag_perform_value)\n",
    "print(pemasukan_cross)\n",
    "print(pemasukan_cross.shape)"
   ]
  },
  {
   "cell_type": "code",
   "execution_count": 51,
   "id": "ee297d48",
   "metadata": {},
   "outputs": [
    {
     "data": {
      "text/plain": [
       "12516"
      ]
     },
     "execution_count": 51,
     "metadata": {},
     "output_type": "execute_result"
    }
   ],
   "source": [
    "df_new.sumber_pemasukan.isnull().sum()"
   ]
  },
  {
   "cell_type": "markdown",
   "id": "6b90aa92",
   "metadata": {},
   "source": [
    "Terlalu banyak kategori dan juga nilai NaN pada fitur ini, sehingga kemungkinan besar akan didrop pada bagian selanjutnya."
   ]
  },
  {
   "cell_type": "code",
   "execution_count": 52,
   "id": "7436d2fb",
   "metadata": {},
   "outputs": [
    {
     "name": "stdout",
     "output_type": "stream",
     "text": [
      "flag_perform_value              0.0  1.0\n",
      "jenis_usaha                             \n",
      "Adm. Jaminan Sosial Wajib         1    3\n",
      "Angkutan Jalan Raya               2    1\n",
      "Angkutan Laut Domestik            1    2\n",
      "Angkutan Sungai & Danau           0    1\n",
      "Angkutan Udara Berjadwal          2    1\n",
      "...                             ...  ...\n",
      "SPBU                              6    4\n",
      "Supermarket dan usaha sejenis     4    9\n",
      "TIDAK BEKERJA                     3    0\n",
      "Tambang Biji Uranium & Thorium    0    1\n",
      "Usaha Hasil Hutan Selain Kayu     1    0\n",
      "\n",
      "[224 rows x 2 columns]\n"
     ]
    }
   ],
   "source": [
    "usaha_cross = pd.crosstab(df_new.jenis_usaha, df_new.flag_perform_value)\n",
    "print(usaha_cross)"
   ]
  },
  {
   "cell_type": "code",
   "execution_count": 53,
   "id": "829d45ac",
   "metadata": {},
   "outputs": [
    {
     "data": {
      "text/plain": [
       "11495"
      ]
     },
     "execution_count": 53,
     "metadata": {},
     "output_type": "execute_result"
    }
   ],
   "source": [
    "df_new.jenis_usaha.isnull().sum()"
   ]
  },
  {
   "cell_type": "markdown",
   "id": "15a9b8cc",
   "metadata": {},
   "source": [
    "Terlalu banyak kategori dan value bernilai NaN pada fitur ini, sehingga kemungkinan besar akan didrop."
   ]
  },
  {
   "cell_type": "code",
   "execution_count": 54,
   "id": "536f1d9a",
   "metadata": {},
   "outputs": [
    {
     "data": {
      "image/png": "[encoded data removed]",
      "text/plain": [
       "<Figure size 432x288 with 1 Axes>"
      ]
     },
     "metadata": {
      "needs_background": "light"
     },
     "output_type": "display_data"
    }
   ],
   "source": [
    "sns.histplot(df_new, x = 'umur', hue = 'flag_perform_value', multiple='stack', alpha=0.75)\n",
    "plt.ylabel('frekuensi')\n",
    "plt.title('Umur')\n",
    "plt.savefig('umur')\n",
    "plt.show()"
   ]
  },
  {
   "cell_type": "code",
   "execution_count": 55,
   "id": "9a01b593",
   "metadata": {
    "scrolled": true
   },
   "outputs": [
    {
     "data": {
      "image/png": "[encoded data removed]",
      "text/plain": [
       "<Figure size 432x288 with 1 Axes>"
      ]
     },
     "metadata": {
      "needs_background": "light"
     },
     "output_type": "display_data"
    }
   ],
   "source": [
    "sns.boxplot(data=df_new, y = 'umur', x='flag_perform_value')\n",
    "plt.title('Boxplot Umur')\n",
    "plt.savefig('umur_box')\n",
    "plt.show()"
   ]
  },
  {
   "cell_type": "code",
   "execution_count": 56,
   "id": "03fd50f3",
   "metadata": {},
   "outputs": [
    {
     "data": {
      "text/plain": [
       "flag_perform_value\n",
       "0.0    37.0\n",
       "1.0    35.0\n",
       "Name: umur, dtype: float64"
      ]
     },
     "execution_count": 56,
     "metadata": {},
     "output_type": "execute_result"
    }
   ],
   "source": [
    "df_new.groupby(['flag_perform_value'])['umur'].median()"
   ]
  },
  {
   "cell_type": "code",
   "execution_count": 57,
   "id": "d2e5abb9",
   "metadata": {},
   "outputs": [
    {
     "data": {
      "text/plain": [
       "(2371, 90)"
      ]
     },
     "execution_count": 57,
     "metadata": {},
     "output_type": "execute_result"
    }
   ],
   "source": [
    "df_new.loc[df_new.umur<17,:].shape"
   ]
  },
  {
   "cell_type": "markdown",
   "id": "89d787e3",
   "metadata": {},
   "source": [
    "Dari boxplot dan histogram diatas, dapat diketahui bahwa tidak terdapat perbedaan yang signifikan antara distribusi label 0 dan 1 untuk fitur 'umur'. Distribusinya sendiri cenderung skew positif dengan adanya 2 puncak. Salah satu hal yang berbeda adalah nilai interkuartil pada label 1 lebih besar dibandingkan pada label 0. Pada fitur 'umur' ini terdapat cukup banyak data dengan nilai < 17 tahun. Karena tidak diketahui kelaziman data tersebut, maka diasumsikan bahwa produk 7 ini dapat digunakan oleh semua umur dan data-data tersebut akan dipertahankan."
   ]
  },
  {
   "cell_type": "code",
   "execution_count": 58,
   "id": "4c05c95a",
   "metadata": {},
   "outputs": [],
   "source": [
    "rata_sisauang_harian = ['rata_sisauang_harian_6BT', 'rata_sisauang_harian_5BT',\n",
    "       'rata_sisauang_harian_4BT', 'rata_sisauang_harian_3BT',\n",
    "       'rata_sisauang_harian_2BT', 'rata_sisauang_harian_1BT']"
   ]
  },
  {
   "cell_type": "code",
   "execution_count": 59,
   "id": "f0b73279",
   "metadata": {},
   "outputs": [
    {
     "data": {
      "image/png": "[encoded data removed]",
      "text/plain": [
       "<Figure size 432x288 with 1 Axes>"
      ]
     },
     "metadata": {
      "needs_background": "light"
     },
     "output_type": "display_data"
    }
   ],
   "source": [
    "df_rata_suh = df_new[rata_sisauang_harian].groupby(by=df_new.flag_perform_value).mean().transpose()\n",
    "ax = df_rata_suh.plot(rot = 90, kind='line')\n",
    "ax.set_title('Rata Sisa Uang Harian Perbulan')\n",
    "plt.savefig('rata_suh_line')\n",
    "plt.show()"
   ]
  },
  {
   "cell_type": "code",
   "execution_count": 60,
   "id": "85d0a9ed",
   "metadata": {},
   "outputs": [
    {
     "data": {
      "image/png": "[encoded data removed]",
      "text/plain": [
       "<Figure size 432x288 with 1 Axes>"
      ]
     },
     "metadata": {
      "needs_background": "light"
     },
     "output_type": "display_data"
    }
   ],
   "source": [
    "ax = sns.boxplot(data = df_new[rata_sisauang_harian].melt(), x= 'variable', y='value')\n",
    "ax.set_xticklabels(ax.get_xticklabels(), rotation=90)\n",
    "#ax.set_title('Boxplot dengan Outlier')\n",
    "ax.set_title('Rata Sisa Uang Harian Perbulan dengan Outlier')\n",
    "plt.savefig('rata_suh_boxout')\n",
    "plt.show()"
   ]
  },
  {
   "cell_type": "code",
   "execution_count": 61,
   "id": "d093eb9d",
   "metadata": {},
   "outputs": [
    {
     "data": {
      "image/png": "[encoded data removed]",
      "text/plain": [
       "<Figure size 432x288 with 1 Axes>"
      ]
     },
     "metadata": {
      "needs_background": "light"
     },
     "output_type": "display_data"
    }
   ],
   "source": [
    "ax = sns.boxplot(data = df_new[rata_sisauang_harian].melt(), x= 'variable', y='value', showfliers=False)\n",
    "ax.set_xticklabels(ax.get_xticklabels(), rotation=90)\n",
    "#ax.set_title('Boxplot tanpa Outlier')\n",
    "ax.set_title('Rata Sisa Uang Harian Perbulan tanpa Outlier')\n",
    "plt.savefig('rata_suh_boxnoout')\n",
    "plt.show()"
   ]
  },
  {
   "cell_type": "code",
   "execution_count": 62,
   "id": "67cc8987",
   "metadata": {},
   "outputs": [
    {
     "data": {
      "text/plain": [
       "rata_sisauang_harian_6BT    0.0\n",
       "rata_sisauang_harian_5BT    0.0\n",
       "rata_sisauang_harian_4BT    0.0\n",
       "rata_sisauang_harian_3BT    0.0\n",
       "rata_sisauang_harian_2BT    0.0\n",
       "rata_sisauang_harian_1BT    0.0\n",
       "dtype: float64"
      ]
     },
     "execution_count": 62,
     "metadata": {},
     "output_type": "execute_result"
    }
   ],
   "source": [
    "df_new[rata_sisauang_harian].median()"
   ]
  },
  {
   "cell_type": "markdown",
   "id": "30ea72fb",
   "metadata": {},
   "source": [
    "Dari grafik diatas dapat diketahui bahwa rata sisa uang harian untuk label 0 lebih tinggi dari label 1 dalam 6 bulan terakhir, namun kenaikan pada nasabah dengan label 1 jauh lebih tinggi dari label 0. Dari boxplot tanpa outlier dapat dilihat juga bahwa terdapat kenaikan nilai variansi dari 6 bulan terakhir (6BT) hingga 1 bulan terakhir (1BT), walaupun median untuk setiap bulan masih bernilai 0."
   ]
  },
  {
   "cell_type": "code",
   "execution_count": 63,
   "id": "56aa9b70",
   "metadata": {},
   "outputs": [],
   "source": [
    "sisauang_akhir = ['sisauang_akhir_6BT', 'sisauang_akhir_5BT',\n",
    "       'sisauang_akhir_4BT', 'sisauang_akhir_3BT', 'sisauang_akhir_2BT',\n",
    "       'sisauang_akhir_1BT']"
   ]
  },
  {
   "cell_type": "code",
   "execution_count": 64,
   "id": "88d79deb",
   "metadata": {},
   "outputs": [
    {
     "name": "stdout",
     "output_type": "stream",
     "text": [
      "flag_perform_value           0.0           1.0\n",
      "sisauang_akhir_6BT  35086.842441  14460.833534\n",
      "sisauang_akhir_5BT  22909.086985  14741.796215\n",
      "sisauang_akhir_4BT  30358.774897  19985.808102\n",
      "sisauang_akhir_3BT  30884.866211  27579.252981\n",
      "sisauang_akhir_2BT  27342.852934  25059.737814\n",
      "sisauang_akhir_1BT  36452.985345  25194.579562\n"
     ]
    },
    {
     "data": {
      "image/png": "[encoded data removed]",
      "text/plain": [
       "<Figure size 432x288 with 1 Axes>"
      ]
     },
     "metadata": {
      "needs_background": "light"
     },
     "output_type": "display_data"
    }
   ],
   "source": [
    "df_su_akhir = df_new[sisauang_akhir].groupby(by=df_new.flag_perform_value).mean().transpose()\n",
    "print(df_su_akhir)\n",
    "\n",
    "ax = df_su_akhir.plot(rot = 90, kind='line')\n",
    "ax.set_title('Rata Sisa Uang Akhir Perbulan')\n",
    "plt.savefig('rata_suakhir_line')\n",
    "plt.show()"
   ]
  },
  {
   "cell_type": "code",
   "execution_count": 65,
   "id": "3f5599f1",
   "metadata": {},
   "outputs": [
    {
     "data": {
      "image/png": "[encoded data removed]",
      "text/plain": [
       "<Figure size 432x288 with 1 Axes>"
      ]
     },
     "metadata": {
      "needs_background": "light"
     },
     "output_type": "display_data"
    }
   ],
   "source": [
    "ax = sns.boxplot(data = df_new[sisauang_akhir].melt(), x= 'variable', y='value')\n",
    "ax.set_xticklabels(ax.get_xticklabels(), rotation=90)\n",
    "ax.set_title('Rata Sisa Uang Akhir Perbulan dengan Outlier')\n",
    "plt.savefig('rata_suakhir_boxout')\n",
    "plt.show()"
   ]
  },
  {
   "cell_type": "code",
   "execution_count": 66,
   "id": "cb9ad54a",
   "metadata": {},
   "outputs": [
    {
     "data": {
      "image/png": "[encoded data removed]",
      "text/plain": [
       "<Figure size 432x288 with 1 Axes>"
      ]
     },
     "metadata": {
      "needs_background": "light"
     },
     "output_type": "display_data"
    }
   ],
   "source": [
    "ax = sns.boxplot(data = df_new[sisauang_akhir].melt(), x= 'variable', y='value', showfliers=False)\n",
    "ax.set_xticklabels(ax.get_xticklabels(), rotation=90)\n",
    "ax.set_title('Rata Sisa Uang Akhir Perbulan tanpa Outlier')\n",
    "plt.savefig('rata_suakhir_boxnoout')\n",
    "plt.show()"
   ]
  },
  {
   "cell_type": "code",
   "execution_count": 67,
   "id": "bd050b9b",
   "metadata": {},
   "outputs": [
    {
     "data": {
      "text/plain": [
       "sisauang_akhir_6BT    0.0\n",
       "sisauang_akhir_5BT    0.0\n",
       "sisauang_akhir_4BT    0.0\n",
       "sisauang_akhir_3BT    0.0\n",
       "sisauang_akhir_2BT    0.0\n",
       "sisauang_akhir_1BT    0.0\n",
       "dtype: float64"
      ]
     },
     "execution_count": 67,
     "metadata": {},
     "output_type": "execute_result"
    }
   ],
   "source": [
    "df_new[sisauang_akhir].median()"
   ]
  },
  {
   "cell_type": "markdown",
   "id": "fe1b675c",
   "metadata": {},
   "source": [
    "Sama dengan sebelumnya, nasabah dengan label 0 mempunyai sisa uang akhir yang lebih tinggi dari label 1 walupun kenaikannya lebih rendah. Hal yang menarik disini, pada label 0 terdapat pola seperti huruf W yang menandakan adanya kenaikan dan penurunan nilai yang drastis antar bulan. Akan tetapi, pada boxplot tanpa outlier dapat diketahui bahwa masih terdapat kenaikan variansi dari 6BT ke 1BT meskipun mediannya juga masih di 0."
   ]
  },
  {
   "cell_type": "code",
   "execution_count": 68,
   "id": "2554c2f8",
   "metadata": {},
   "outputs": [],
   "source": [
    "sisauang_tertahan = ['sisauang_tertahan_6BT', 'sisauang_tertahan_5BT',\n",
    "       'sisauang_tertahan_4BT', 'sisauang_tertahan_3BT',\n",
    "       'sisauang_tertahan_2BT', 'sisauang_tertahan_1BT']"
   ]
  },
  {
   "cell_type": "code",
   "execution_count": 69,
   "id": "1a0e1554",
   "metadata": {},
   "outputs": [
    {
     "name": "stdout",
     "output_type": "stream",
     "text": [
      "flag_perform_value              0.0          1.0\n",
      "sisauang_tertahan_6BT  40912.702460   455.391315\n",
      "sisauang_tertahan_5BT  40933.487470   627.162055\n",
      "sisauang_tertahan_4BT  40934.951603   564.112569\n",
      "sisauang_tertahan_3BT  41122.612077   721.570971\n",
      "sisauang_tertahan_2BT  40926.972955   796.306160\n",
      "sisauang_tertahan_1BT  41019.434148  1091.627399\n"
     ]
    },
    {
     "data": {
      "image/png": "[encoded data removed]",
      "text/plain": [
       "<Figure size 432x288 with 1 Axes>"
      ]
     },
     "metadata": {
      "needs_background": "light"
     },
     "output_type": "display_data"
    }
   ],
   "source": [
    "df_su_tertahan = df_new[sisauang_tertahan].groupby(by=df_new.flag_perform_value).mean().transpose()\n",
    "print(df_su_tertahan)\n",
    "\n",
    "ax = df_su_tertahan.plot(rot = 90, kind='line')\n",
    "ax.set_title('Rata Sisa Uang Tertahan Perbulan')\n",
    "plt.savefig('rata_sutertahan_line')\n",
    "plt.show()"
   ]
  },
  {
   "cell_type": "code",
   "execution_count": 70,
   "id": "853c4900",
   "metadata": {},
   "outputs": [
    {
     "data": {
      "image/png": "[encoded data removed]",
      "text/plain": [
       "<Figure size 432x288 with 1 Axes>"
      ]
     },
     "metadata": {
      "needs_background": "light"
     },
     "output_type": "display_data"
    }
   ],
   "source": [
    "ax = sns.boxplot(data = df_new[sisauang_tertahan].melt(), x= 'variable', y='value')\n",
    "ax.set_xticklabels(ax.get_xticklabels(), rotation=90)\n",
    "ax.set_title('Rata Sisa Uang Tertahan Perbulan dengan Outlier')\n",
    "plt.savefig('rata_sutertahan_boxout')\n",
    "plt.show()"
   ]
  },
  {
   "cell_type": "code",
   "execution_count": 71,
   "id": "8a0cae5f",
   "metadata": {},
   "outputs": [
    {
     "data": {
      "image/png": "[encoded data removed]",
      "text/plain": [
       "<Figure size 432x288 with 1 Axes>"
      ]
     },
     "metadata": {
      "needs_background": "light"
     },
     "output_type": "display_data"
    }
   ],
   "source": [
    "ax = sns.boxplot(data = df_new[sisauang_tertahan].melt(), x= 'variable', y='value', showfliers=False)\n",
    "ax.set_xticklabels(ax.get_xticklabels(), rotation=90)\n",
    "ax.set_title('Rata Sisa Uang Tertahan Perbulan tanpa Outlier')\n",
    "plt.savefig('rata_sutertahan_boxnoout')\n",
    "plt.show()"
   ]
  },
  {
   "cell_type": "code",
   "execution_count": 72,
   "id": "fdad099f",
   "metadata": {},
   "outputs": [
    {
     "name": "stdout",
     "output_type": "stream",
     "text": [
      "sisauang_tertahan_6BT    200\n",
      "sisauang_tertahan_5BT    215\n",
      "sisauang_tertahan_4BT    204\n",
      "sisauang_tertahan_3BT    225\n",
      "sisauang_tertahan_2BT    242\n",
      "sisauang_tertahan_1BT    283\n",
      "dtype: int64\n",
      "13625\n"
     ]
    }
   ],
   "source": [
    "print(df_new.shape[0]-(df_new[sisauang_tertahan]==0).sum())\n",
    "print(df_new.shape[0])"
   ]
  },
  {
   "cell_type": "code",
   "execution_count": 73,
   "id": "0e2cae70",
   "metadata": {},
   "outputs": [
    {
     "name": "stdout",
     "output_type": "stream",
     "text": [
      "sisauang_tertahan_6BT    0.985321\n",
      "sisauang_tertahan_5BT    0.984220\n",
      "sisauang_tertahan_4BT    0.985028\n",
      "sisauang_tertahan_3BT    0.983486\n",
      "sisauang_tertahan_2BT    0.982239\n",
      "sisauang_tertahan_1BT    0.979229\n",
      "dtype: float64\n",
      "13625\n"
     ]
    }
   ],
   "source": [
    "#melihat persentase data yang bernilai 0\n",
    "print((df_new[sisauang_tertahan]==0).sum()/df_new.shape[0])\n",
    "print(df_new.shape[0])"
   ]
  },
  {
   "cell_type": "markdown",
   "id": "c56c9557",
   "metadata": {},
   "source": [
    "Pada fitur ini terlihat perbedaan nilai yang sangat besar antara label 0 dan 1, dimana nasabah dengan label 1 cenderung mempunyai nilai yang sangat rendah hingga mendekati 0. Selain itu, kedua label mempunyai nilai yang konstan untuk 6 bulan terakhir tersebut. Bisa dilihat juga bahwa hal itu disebabkan karena sebagian besar data yang ada bernilai 0 untuk keenam fitur ini, dengan data bernilai tidak 0 hanya berjumlah sekitar 200an saja. Fakta ini bisa menjadi dasar untuk tidak menjadikan fitur ini sebagai prediktor dalam model kita."
   ]
  },
  {
   "cell_type": "code",
   "execution_count": 74,
   "id": "36c1d4f7",
   "metadata": {},
   "outputs": [],
   "source": [
    "sisauang_tersedia = ['sisauang_tersedia_6BT', 'sisauang_tersedia_5BT',\n",
    "       'sisauang_tersedia_4BT', 'sisauang_tersedia_3BT',\n",
    "       'sisauang_tersedia_2BT', 'sisauang_tersedia_1BT']"
   ]
  },
  {
   "cell_type": "code",
   "execution_count": 75,
   "id": "e771f6ea",
   "metadata": {},
   "outputs": [
    {
     "name": "stdout",
     "output_type": "stream",
     "text": [
      "flag_perform_value              0.0           1.0\n",
      "sisauang_tersedia_6BT  26936.403994   6678.964136\n",
      "sisauang_tersedia_5BT  14726.820700   6935.063719\n",
      "sisauang_tersedia_4BT  22395.259231  12030.767098\n",
      "sisauang_tersedia_3BT  21385.964269  15017.426777\n",
      "sisauang_tersedia_2BT  17592.974908  13215.612382\n",
      "sisauang_tersedia_1BT  22278.652355  13297.317506\n"
     ]
    },
    {
     "data": {
      "image/png": "[encoded data removed]",
      "text/plain": [
       "<Figure size 432x288 with 1 Axes>"
      ]
     },
     "metadata": {
      "needs_background": "light"
     },
     "output_type": "display_data"
    }
   ],
   "source": [
    "df_su_tersedia = df_new[sisauang_tersedia].groupby(by=df_new.flag_perform_value).mean().transpose()\n",
    "print(df_su_tersedia)\n",
    "\n",
    "ax = df_su_tersedia.plot(rot = 90, kind='line')\n",
    "ax.set_title('Rata Sisa Uang Tersedia Perbulan')\n",
    "plt.savefig('rata_sutersedia_line')\n",
    "plt.show()"
   ]
  },
  {
   "cell_type": "code",
   "execution_count": 76,
   "id": "53aa751a",
   "metadata": {},
   "outputs": [
    {
     "data": {
      "image/png": "[encoded data removed]",
      "text/plain": [
       "<Figure size 432x288 with 1 Axes>"
      ]
     },
     "metadata": {
      "needs_background": "light"
     },
     "output_type": "display_data"
    }
   ],
   "source": [
    "ax = sns.boxplot(data = df_new[sisauang_tersedia].melt(), x= 'variable', y='value')\n",
    "ax.set_xticklabels(ax.get_xticklabels(), rotation=90)\n",
    "ax.set_title('Rata Sisa Uang Tersedia Perbulan dengan Outlier')\n",
    "plt.savefig('rata_sutersedia_boxout')\n",
    "plt.show()"
   ]
  },
  {
   "cell_type": "code",
   "execution_count": 77,
   "id": "04292900",
   "metadata": {},
   "outputs": [
    {
     "data": {
      "image/png": "[encoded data removed]",
      "text/plain": [
       "<Figure size 432x288 with 1 Axes>"
      ]
     },
     "metadata": {
      "needs_background": "light"
     },
     "output_type": "display_data"
    }
   ],
   "source": [
    "ax = sns.boxplot(data = df_new[sisauang_tersedia].melt(), x= 'variable', y='value', showfliers=False)\n",
    "ax.set_xticklabels(ax.get_xticklabels(), rotation=90)\n",
    "ax.set_title('Rata Sisa Uang Tersedia Perbulan tanpa Outlier')\n",
    "plt.savefig('rata_sutersedia_boxnoout')\n",
    "plt.show()"
   ]
  },
  {
   "cell_type": "code",
   "execution_count": 78,
   "id": "7985fb26",
   "metadata": {},
   "outputs": [
    {
     "name": "stdout",
     "output_type": "stream",
     "text": [
      "sisauang_tersedia_6BT    2893\n",
      "sisauang_tersedia_5BT    3068\n",
      "sisauang_tersedia_4BT    3278\n",
      "sisauang_tersedia_3BT    3481\n",
      "sisauang_tersedia_2BT    3844\n",
      "sisauang_tersedia_1BT    4270\n",
      "dtype: int64\n",
      "13625\n"
     ]
    }
   ],
   "source": [
    "print(df_new.shape[0]-(df_new[sisauang_tersedia]==0).sum())\n",
    "print(df_new.shape[0])"
   ]
  },
  {
   "cell_type": "code",
   "execution_count": 79,
   "id": "b2e2b950",
   "metadata": {},
   "outputs": [
    {
     "name": "stdout",
     "output_type": "stream",
     "text": [
      "sisauang_tersedia_6BT    0.787670\n",
      "sisauang_tersedia_5BT    0.774826\n",
      "sisauang_tersedia_4BT    0.759413\n",
      "sisauang_tersedia_3BT    0.744514\n",
      "sisauang_tersedia_2BT    0.717872\n",
      "sisauang_tersedia_1BT    0.686606\n",
      "dtype: float64\n",
      "13625\n"
     ]
    }
   ],
   "source": [
    "#melihat persentase data yang bernilai 0\n",
    "print((df_new[sisauang_tersedia]==0).sum()/df_new.shape[0])\n",
    "print(df_new.shape[0])"
   ]
  },
  {
   "cell_type": "markdown",
   "id": "3dc5521e",
   "metadata": {},
   "source": [
    "Pada fitur ini juga terlihat bahwa sisa uang tersedia untuk nasabah dengan label 0 lebih banyak dibandingkan label 1. Disini kita juga dapat melihat adanya pola W seperti pada sebelumnya untuk label 0. Dapat diketahui juga bahwa sama seperti sebelumnya, tanpa adanya outlier terjadi kenaikan variansi data yang menunjukkan bahwa lebih banyak nasabah yang mempunyai sisa uang yang tersedia dari bulan ke bulan. Permasalahan pada data ini adalah banyaknya data yang bernilai 0, yakni sekitar 70% keatas."
   ]
  },
  {
   "cell_type": "code",
   "execution_count": 80,
   "id": "12ccd560",
   "metadata": {},
   "outputs": [],
   "source": [
    "tanggungan_sisa = ['tanggungan_sisa_6BT',\n",
    "       'tanggungan_sisa_5BT', 'tanggungan_sisa_4BT', 'tanggungan_sisa_3BT',\n",
    "       'tanggungan_sisa_2BT', 'tanggungan_sisa_1BT']"
   ]
  },
  {
   "cell_type": "code",
   "execution_count": 81,
   "id": "6db30626",
   "metadata": {},
   "outputs": [
    {
     "name": "stdout",
     "output_type": "stream",
     "text": [
      "flag_perform_value            0.0           1.0\n",
      "tanggungan_sisa_6BT   9670.354675  11137.725181\n",
      "tanggungan_sisa_5BT  11093.902098  11530.634920\n",
      "tanggungan_sisa_4BT  11505.219050  12220.854196\n",
      "tanggungan_sisa_3BT  12578.295852  13478.021121\n",
      "tanggungan_sisa_2BT  13326.920649  14569.463938\n",
      "tanggungan_sisa_1BT  13594.443518  16075.831945\n"
     ]
    },
    {
     "data": {
      "image/png": "[encoded data removed]",
      "text/plain": [
       "<Figure size 432x288 with 1 Axes>"
      ]
     },
     "metadata": {
      "needs_background": "light"
     },
     "output_type": "display_data"
    }
   ],
   "source": [
    "df_tanggungan_sisa = df_new[tanggungan_sisa].groupby(by=df_new.flag_perform_value).mean().transpose()\n",
    "print(df_tanggungan_sisa)\n",
    "\n",
    "ax = df_tanggungan_sisa.plot(rot = 90, kind='line')\n",
    "ax.set_title('Rata Tanggungan Sisa Perbulan')\n",
    "plt.savefig('rata_tanggungansisa_line')\n",
    "plt.show()"
   ]
  },
  {
   "cell_type": "code",
   "execution_count": 82,
   "id": "246f3d0e",
   "metadata": {},
   "outputs": [
    {
     "data": {
      "image/png": "[encoded data removed]",
      "text/plain": [
       "<Figure size 432x288 with 1 Axes>"
      ]
     },
     "metadata": {
      "needs_background": "light"
     },
     "output_type": "display_data"
    }
   ],
   "source": [
    "ax = sns.boxplot(data = df_new[tanggungan_sisa].melt(), x= 'variable', y='value')\n",
    "ax.set_xticklabels(ax.get_xticklabels(), rotation=90)\n",
    "ax.set_title('Rata Tanggungan Sisa Perbulan dengan Outlier')\n",
    "plt.savefig('rata_tanggungansisa_boxout')\n",
    "plt.show()"
   ]
  },
  {
   "cell_type": "code",
   "execution_count": 83,
   "id": "d7d3dd04",
   "metadata": {},
   "outputs": [
    {
     "data": {
      "image/png": "[encoded data removed]",
      "text/plain": [
       "<Figure size 432x288 with 1 Axes>"
      ]
     },
     "metadata": {
      "needs_background": "light"
     },
     "output_type": "display_data"
    }
   ],
   "source": [
    "ax = sns.boxplot(data = df_new[tanggungan_sisa].melt(), x= 'variable', y='value', showfliers=False)\n",
    "ax.set_xticklabels(ax.get_xticklabels(), rotation=90)\n",
    "ax.set_title('Rata Tanggungan Sisa Perbulan tanpa Outlier')\n",
    "plt.savefig('rata_tanggungansisa_boxnoout')\n",
    "plt.show()"
   ]
  },
  {
   "cell_type": "code",
   "execution_count": 84,
   "id": "89e52826",
   "metadata": {},
   "outputs": [
    {
     "name": "stdout",
     "output_type": "stream",
     "text": [
      "tanggungan_sisa_6BT    0.849541\n",
      "tanggungan_sisa_5BT    0.841468\n",
      "tanggungan_sisa_4BT    0.832807\n",
      "tanggungan_sisa_3BT    0.818055\n",
      "tanggungan_sisa_2BT    0.799413\n",
      "tanggungan_sisa_1BT    0.777541\n",
      "dtype: float64\n",
      "13625\n"
     ]
    }
   ],
   "source": [
    "#melihat persentase data yang bernilai 0\n",
    "print((df_new[tanggungan_sisa]==0).sum()/df_new.shape[0])\n",
    "print(df_new.shape[0])"
   ]
  },
  {
   "cell_type": "markdown",
   "id": "c8c98ab2",
   "metadata": {},
   "source": [
    "Pada fitur ini terlihat adanya perubahan dengan nasabah berlabel 1 mempunyai nilai rata-rata yang lebih tinggi dibandingkan label 1. Pada kedua label juga terlihat tren kenaikan yang kurang lebih sama. Dari data diatas juga dapat diketahui bahwa sebagian besar nasabah tidak mempunyai sisa tanggungan dengan persentasenya berada di sekitar 80%."
   ]
  },
  {
   "cell_type": "code",
   "execution_count": 85,
   "id": "29c1672f",
   "metadata": {},
   "outputs": [],
   "source": [
    "jumlah_pembayaran_tanggungan = ['jumlah_pembayaran_tanggungan_6BT', 'jumlah_pembayaran_tanggungan_5BT',\n",
    "       'jumlah_pembayaran_tanggungan_4BT', 'jumlah_pembayaran_tanggungan_3BT',\n",
    "       'jumlah_pembayaran_tanggungan_2BT', 'jumlah_pembayaran_tanggungan_1BT']"
   ]
  },
  {
   "cell_type": "code",
   "execution_count": 86,
   "id": "265053cf",
   "metadata": {
    "scrolled": false
   },
   "outputs": [
    {
     "name": "stdout",
     "output_type": "stream",
     "text": [
      "flag_perform_value                        0.0          1.0\n",
      "jumlah_pembayaran_tanggungan_6BT  5581.993328  6580.799628\n",
      "jumlah_pembayaran_tanggungan_5BT  5848.627949  6981.523589\n",
      "jumlah_pembayaran_tanggungan_4BT  5968.864965  7279.276544\n",
      "jumlah_pembayaran_tanggungan_3BT  6407.093539  7613.853603\n",
      "jumlah_pembayaran_tanggungan_2BT  6790.347251  8255.167700\n",
      "jumlah_pembayaran_tanggungan_1BT  7348.086169  8808.143713\n"
     ]
    },
    {
     "data": {
      "image/png": "[encoded data removed]",
      "text/plain": [
       "<Figure size 432x288 with 1 Axes>"
      ]
     },
     "metadata": {
      "needs_background": "light"
     },
     "output_type": "display_data"
    }
   ],
   "source": [
    "df_jumlah_pt = df_new[jumlah_pembayaran_tanggungan].groupby(by=df_new.flag_perform_value).mean().transpose()\n",
    "print(df_jumlah_pt)\n",
    "\n",
    "ax = df_jumlah_pt.plot(rot = 90, kind='line')\n",
    "ax.set_title('Rata Pembayaran Tanggungan Perbulan')\n",
    "plt.savefig('rata_bayartanggungan_line')\n",
    "plt.show()"
   ]
  },
  {
   "cell_type": "code",
   "execution_count": 88,
   "id": "a3e05030",
   "metadata": {},
   "outputs": [
    {
     "data": {
      "image/png": "[encoded data removed]",
      "text/plain": [
       "<Figure size 432x288 with 1 Axes>"
      ]
     },
     "metadata": {
      "needs_background": "light"
     },
     "output_type": "display_data"
    }
   ],
   "source": [
    "ax = sns.boxplot(data = df_new[jumlah_pembayaran_tanggungan].melt(), x= 'variable', y='value')\n",
    "ax.set_xticklabels(ax.get_xticklabels(), rotation=90)\n",
    "ax.set_title('Rata Pembayaran Tanggungan Perbulan dengan Outlier')\n",
    "plt.savefig('rata_bayartanggungan_boxout')\n",
    "plt.show()"
   ]
  },
  {
   "cell_type": "code",
   "execution_count": 89,
   "id": "3e060442",
   "metadata": {},
   "outputs": [
    {
     "data": {
      "image/png": "[encoded data removed]",
      "text/plain": [
       "<Figure size 432x288 with 1 Axes>"
      ]
     },
     "metadata": {
      "needs_background": "light"
     },
     "output_type": "display_data"
    }
   ],
   "source": [
    "ax = sns.boxplot(data = df_new[jumlah_pembayaran_tanggungan].melt(), x= 'variable', y='value', showfliers=False)\n",
    "ax.set_xticklabels(ax.get_xticklabels(), rotation=90)\n",
    "ax.set_title('Rata Pembayaran Tanggungan Perbulan tanpa Outlier')\n",
    "plt.savefig('rata_bayartanggungan_boxnoout')\n",
    "plt.show()"
   ]
  },
  {
   "cell_type": "code",
   "execution_count": 90,
   "id": "5d1f9216",
   "metadata": {},
   "outputs": [
    {
     "name": "stdout",
     "output_type": "stream",
     "text": [
      "jumlah_pembayaran_tanggungan_6BT    0.933725\n",
      "jumlah_pembayaran_tanggungan_5BT    0.931376\n",
      "jumlah_pembayaran_tanggungan_4BT    0.926972\n",
      "jumlah_pembayaran_tanggungan_3BT    0.920440\n",
      "jumlah_pembayaran_tanggungan_2BT    0.912587\n",
      "jumlah_pembayaran_tanggungan_1BT    0.904294\n",
      "dtype: float64\n",
      "13625\n"
     ]
    }
   ],
   "source": [
    "#melihat persentase data yang bernilai 0\n",
    "print((df_new[jumlah_pembayaran_tanggungan]==0).sum()/df_new.shape[0])\n",
    "print(df_new.shape[0])"
   ]
  },
  {
   "cell_type": "markdown",
   "id": "eb40aa22",
   "metadata": {},
   "source": [
    "Pola pada fitur ini sama seperti sebelumnya, mungkin karena jumlah pembayaran tanggungan ini mempunyai korelasi yang tinggi dengan jumlah tanggungan sisa para nasabah. Namun, jika kita melihat jumlah pembayaran tanggungan yang bernilai 0, dapat diketahui bahwa jumlah pembayaran tanggungan yang bernilai 0 lebih banyak daripada jumlah tanggungan sisa, atau dengan kata lain ada nasabah yang tidak melakukan pembayaran walaupun masih ada tanggungan yang tersisa. Hal tersebut masih dapat dipahami bahwa besar pembayaran tidak dilakukan per bulan melainkan dalam interval waktu yang leih lama, misal 3 atau 6 bulan sekali."
   ]
  },
  {
   "cell_type": "code",
   "execution_count": 91,
   "id": "bab69e53",
   "metadata": {},
   "outputs": [],
   "source": [
    "jumlah_uke = ['jumlah_uke_6BT', 'jumlah_uke_5BT', 'jumlah_uke_4BT', 'jumlah_uke_3BT',\n",
    "       'jumlah_uke_2BT', 'jumlah_uke_1BT']"
   ]
  },
  {
   "cell_type": "code",
   "execution_count": 92,
   "id": "ce56869e",
   "metadata": {
    "scrolled": false
   },
   "outputs": [
    {
     "name": "stdout",
     "output_type": "stream",
     "text": [
      "flag_perform_value           0.0           1.0\n",
      "jumlah_uke_6BT      58838.307313  24818.522487\n",
      "jumlah_uke_5BT      40867.262324  24844.876715\n",
      "jumlah_uke_4BT      51780.567673  25189.210664\n",
      "jumlah_uke_3BT      36596.128446  27638.169660\n",
      "jumlah_uke_2BT      34400.242179  30236.806486\n",
      "jumlah_uke_1BT      31181.299869  34420.457328\n"
     ]
    },
    {
     "data": {
      "image/png": "[encoded data removed]",
      "text/plain": [
       "<Figure size 432x288 with 1 Axes>"
      ]
     },
     "metadata": {
      "needs_background": "light"
     },
     "output_type": "display_data"
    }
   ],
   "source": [
    "df_jumlah_uke = df_new[jumlah_uke].groupby(by=df_new.flag_perform_value).mean().transpose()\n",
    "print(df_jumlah_uke)\n",
    "\n",
    "ax = df_jumlah_uke.plot(rot = 90, kind='line')\n",
    "ax.set_title('Rata Jumlah Uang Keluar Perbulan')\n",
    "plt.savefig('rata_jum_uke_line')\n",
    "plt.show()"
   ]
  },
  {
   "cell_type": "code",
   "execution_count": 97,
   "id": "6491999e",
   "metadata": {},
   "outputs": [
    {
     "data": {
      "image/png": "[encoded data removed]",
      "text/plain": [
       "<Figure size 432x288 with 1 Axes>"
      ]
     },
     "metadata": {
      "needs_background": "light"
     },
     "output_type": "display_data"
    }
   ],
   "source": [
    "ax = sns.boxplot(data = df_new[jumlah_uke].melt(), x= 'variable', y='value')\n",
    "ax.set_xticklabels(ax.get_xticklabels(), rotation=90)\n",
    "ax.set_title('Rata Jumlah Uang Keluar Perbulan dengan Outlier')\n",
    "plt.savefig('rata_jum_uke_boxout')\n",
    "plt.show()"
   ]
  },
  {
   "cell_type": "code",
   "execution_count": 96,
   "id": "8094ed89",
   "metadata": {},
   "outputs": [
    {
     "data": {
      "image/png": "[encoded data removed]",
      "text/plain": [
       "<Figure size 432x288 with 1 Axes>"
      ]
     },
     "metadata": {
      "needs_background": "light"
     },
     "output_type": "display_data"
    }
   ],
   "source": [
    "ax = sns.boxplot(data = df_new[jumlah_uke].melt(), x= 'variable', y='value', showfliers=False)\n",
    "ax.set_xticklabels(ax.get_xticklabels(), rotation=90)\n",
    "ax.set_title('Rata Jumlah Uang Keluar Perbulan tanpa Outlier')\n",
    "plt.savefig('rata_jum_uke_boxnoout')\n",
    "plt.show()"
   ]
  },
  {
   "cell_type": "code",
   "execution_count": 95,
   "id": "c58bcc70",
   "metadata": {},
   "outputs": [
    {
     "name": "stdout",
     "output_type": "stream",
     "text": [
      "jumlah_uke_6BT    0.709211\n",
      "jumlah_uke_5BT    0.693945\n",
      "jumlah_uke_4BT    0.676110\n",
      "jumlah_uke_3BT    0.651009\n",
      "jumlah_uke_2BT    0.617615\n",
      "jumlah_uke_1BT    0.576954\n",
      "dtype: float64\n",
      "13625\n"
     ]
    }
   ],
   "source": [
    "#melihat persentase data yang bernilai 0\n",
    "print((df_new[jumlah_uke]==0).sum()/df_new.shape[0])\n",
    "print(df_new.shape[0])"
   ]
  },
  {
   "cell_type": "markdown",
   "id": "ba8bfdc7",
   "metadata": {},
   "source": [
    "Pada fitur ini terlihat pola yang menarik, rata-rata jumlah uang keluar untuk label 0 mengalami tren penurunan sedangkan untuk label 1 mengalami kenaikan, sehingga nilai label 0 yang awalnya lebih tinggi akhirnya menjadi lebih rendah pada bulan ini. Pola ini masih harus diamati lebih lanjut pada bulan-bulan selanjutnya untuk memastikan tren ini. Sedangkan dari boxplotnya sendiri, terlihat bahwa pola yang sama masih terjadi yakni variansi meningkat hingga paling tinggi pada 1 bulan terakhir (1BT)."
   ]
  },
  {
   "cell_type": "code",
   "execution_count": 99,
   "id": "86d9a02a",
   "metadata": {},
   "outputs": [],
   "source": [
    "jumlah_uma = ['jumlah_uma_6BT', 'jumlah_uma_5BT',\n",
    "       'jumlah_uma_4BT', 'jumlah_uma_3BT', 'jumlah_uma_2BT', 'jumlah_uma_1BT']"
   ]
  },
  {
   "cell_type": "code",
   "execution_count": 107,
   "id": "de876ec4",
   "metadata": {},
   "outputs": [
    {
     "name": "stdout",
     "output_type": "stream",
     "text": [
      "flag_perform_value           0.0           1.0\n",
      "jumlah_uma_6BT      50162.007765  25046.909306\n",
      "jumlah_uma_5BT      28861.659432  25297.358563\n",
      "jumlah_uma_4BT      54803.979469  30184.575298\n",
      "jumlah_uma_3BT      36228.491370  30713.534358\n",
      "jumlah_uma_2BT      30422.659009  28571.262780\n",
      "jumlah_uma_1BT      35114.797864  33656.829288\n"
     ]
    },
    {
     "data": {
      "image/png": "[encoded data removed]",
      "text/plain": [
       "<Figure size 432x288 with 1 Axes>"
      ]
     },
     "metadata": {
      "needs_background": "light"
     },
     "output_type": "display_data"
    }
   ],
   "source": [
    "df_jumlah_uma = df_new[jumlah_uma].groupby(by=df_new.flag_perform_value).mean().transpose()\n",
    "print(df_jumlah_uma)\n",
    "\n",
    "ax = df_jumlah_uma.plot(rot = 90, kind='line')\n",
    "ax.set_title('Rata Jumlah Uang Masuk Perbulan')\n",
    "plt.savefig('rata_jum_uma_line')\n",
    "plt.show()"
   ]
  },
  {
   "cell_type": "code",
   "execution_count": 101,
   "id": "1a9a348e",
   "metadata": {},
   "outputs": [
    {
     "data": {
      "image/png": "[encoded data removed]",
      "text/plain": [
       "<Figure size 432x288 with 1 Axes>"
      ]
     },
     "metadata": {
      "needs_background": "light"
     },
     "output_type": "display_data"
    }
   ],
   "source": [
    "ax = sns.boxplot(data = df_new[jumlah_uma].melt(), x= 'variable', y='value')\n",
    "ax.set_xticklabels(ax.get_xticklabels(), rotation=90)\n",
    "ax.set_title('Rata Jumlah Uang Masuk Perbulan dengan Outlier')\n",
    "plt.savefig('rata_jum_uma_boxout')\n",
    "plt.show()"
   ]
  },
  {
   "cell_type": "code",
   "execution_count": 102,
   "id": "9e5f0279",
   "metadata": {},
   "outputs": [
    {
     "data": {
      "image/png": "[encoded data removed]",
      "text/plain": [
       "<Figure size 432x288 with 1 Axes>"
      ]
     },
     "metadata": {
      "needs_background": "light"
     },
     "output_type": "display_data"
    }
   ],
   "source": [
    "ax = sns.boxplot(data = df_new[jumlah_uma].melt(), x= 'variable', y='value', showfliers=False)\n",
    "ax.set_xticklabels(ax.get_xticklabels(), rotation=90)\n",
    "ax.set_title('Rata Jumlah Uang Masuk Perbulan tanpa Outlier')\n",
    "plt.savefig('rata_jum_uma_boxnoout')\n",
    "plt.show()"
   ]
  },
  {
   "cell_type": "code",
   "execution_count": 103,
   "id": "c5b56e6f",
   "metadata": {},
   "outputs": [
    {
     "name": "stdout",
     "output_type": "stream",
     "text": [
      "jumlah_uma_6BT    0.704807\n",
      "jumlah_uma_5BT    0.689248\n",
      "jumlah_uma_4BT    0.670092\n",
      "jumlah_uma_3BT    0.645211\n",
      "jumlah_uma_2BT    0.609688\n",
      "jumlah_uma_1BT    0.562128\n",
      "dtype: float64\n",
      "13625\n"
     ]
    }
   ],
   "source": [
    "#melihat persentase data yang bernilai 0\n",
    "print((df_new[jumlah_uma]==0).sum()/df_new.shape[0])\n",
    "print(df_new.shape[0])"
   ]
  },
  {
   "cell_type": "markdown",
   "id": "83713d74",
   "metadata": {},
   "source": [
    "Untuk fitur jumlah uang masuk ini terlihat bahwa nasabah dengan label 0 mempunyai nilai rata-rata lebih tinggi dari label 1, akan tetapi untuk label 0 ini terlihat adanya kenaikan dan penurunan yang drastis antar bulan sehingga dapat dilakukan analisis lebih lanjut, terutama terkait sumber penghasilan nasabah untuk dapat melihat 'event' yang terjadi pada masyarakat yang mungkin dapat berguna sebagai insight."
   ]
  },
  {
   "cell_type": "code",
   "execution_count": 104,
   "id": "92e7cb17",
   "metadata": {},
   "outputs": [],
   "source": [
    "frek_uke = ['frekuensi_uke_6BT', 'frekuensi_uke_5BT', 'frekuensi_uke_4BT',\n",
    "       'frekuensi_uke_3BT', 'frekuensi_uke_2BT', 'frekuensi_uke_1BT']"
   ]
  },
  {
   "cell_type": "code",
   "execution_count": 106,
   "id": "c00ba5f5",
   "metadata": {},
   "outputs": [
    {
     "name": "stdout",
     "output_type": "stream",
     "text": [
      "flag_perform_value         0.0        1.0\n",
      "frekuensi_uke_6BT    87.342991  32.841221\n",
      "frekuensi_uke_5BT    93.356386  36.627203\n",
      "frekuensi_uke_4BT   100.376947  34.207634\n",
      "frekuensi_uke_3BT   104.115109  34.770298\n",
      "frekuensi_uke_2BT   109.248442  35.795003\n",
      "frekuensi_uke_1BT   116.861994  38.270229\n"
     ]
    },
    {
     "data": {
      "image/png": "[encoded data removed]",
      "text/plain": [
       "<Figure size 432x288 with 1 Axes>"
      ]
     },
     "metadata": {
      "needs_background": "light"
     },
     "output_type": "display_data"
    }
   ],
   "source": [
    "df_frek_uke = df_new[frek_uke].groupby(by=df_new.flag_perform_value).mean().transpose()\n",
    "print(df_frek_uke)\n",
    "\n",
    "ax = df_frek_uke.plot(rot = 90, kind='line')\n",
    "ax.set_title('Rata Frekuensi Uang Keluar Perbulan')\n",
    "plt.savefig('rata_frek_uke_line')\n",
    "plt.show()"
   ]
  },
  {
   "cell_type": "code",
   "execution_count": 108,
   "id": "cfbf369d",
   "metadata": {},
   "outputs": [
    {
     "data": {
      "image/png": "[encoded data removed]",
      "text/plain": [
       "<Figure size 432x288 with 1 Axes>"
      ]
     },
     "metadata": {
      "needs_background": "light"
     },
     "output_type": "display_data"
    }
   ],
   "source": [
    "ax = sns.boxplot(data = df_new[frek_uke].melt(), x= 'variable', y='value')\n",
    "ax.set_xticklabels(ax.get_xticklabels(), rotation=90)\n",
    "ax.set_title('Rata Frekuensi Uang Keluar Perbulan dengan Outlier')\n",
    "plt.savefig('rata_frek_uke_boxout')\n",
    "plt.show()"
   ]
  },
  {
   "cell_type": "code",
   "execution_count": 109,
   "id": "11e6c850",
   "metadata": {},
   "outputs": [
    {
     "data": {
      "image/png": "[encoded data removed]",
      "text/plain": [
       "<Figure size 432x288 with 1 Axes>"
      ]
     },
     "metadata": {
      "needs_background": "light"
     },
     "output_type": "display_data"
    }
   ],
   "source": [
    "ax = sns.boxplot(data = df_new[frek_uke].melt(), x= 'variable', y='value', showfliers=False)\n",
    "ax.set_xticklabels(ax.get_xticklabels(), rotation=90)\n",
    "ax.set_title('Rata Frekuensi Uang Keluar Perbulan tanpa Outlier')\n",
    "plt.savefig('rata_frek_uke_boxnoout')\n",
    "plt.show()"
   ]
  },
  {
   "cell_type": "code",
   "execution_count": 110,
   "id": "fa9b3062",
   "metadata": {},
   "outputs": [
    {
     "name": "stdout",
     "output_type": "stream",
     "text": [
      "frekuensi_uke_6BT    0.588771\n",
      "frekuensi_uke_5BT    0.571083\n",
      "frekuensi_uke_4BT    0.545615\n",
      "frekuensi_uke_3BT    0.510459\n",
      "frekuensi_uke_2BT    0.452330\n",
      "frekuensi_uke_1BT    0.373798\n",
      "dtype: float64\n",
      "13625\n"
     ]
    }
   ],
   "source": [
    "#melihat persentase data yang bernilai 0\n",
    "print((df_new[frek_uke]==0).sum()/df_new.shape[0])\n",
    "print(df_new.shape[0])"
   ]
  },
  {
   "cell_type": "code",
   "execution_count": 118,
   "id": "6320e97a",
   "metadata": {},
   "outputs": [
    {
     "data": {
      "text/plain": [
       "frekuensi_uke_6BT    21669.0\n",
       "frekuensi_uke_5BT    29951.0\n",
       "frekuensi_uke_4BT     8326.0\n",
       "frekuensi_uke_3BT    10817.0\n",
       "frekuensi_uke_2BT     9947.0\n",
       "frekuensi_uke_1BT     8259.0\n",
       "dtype: float64"
      ]
     },
     "execution_count": 118,
     "metadata": {},
     "output_type": "execute_result"
    }
   ],
   "source": [
    "#melihat nilai maksimal untuk fitur frekuensi uang keluar\n",
    "df_new[frek_uke].max()"
   ]
  },
  {
   "cell_type": "markdown",
   "id": "30498154",
   "metadata": {},
   "source": [
    "Pada fitur frekuensi uang keluar ini, terlihat bahwa terdapat perbedaan nilai yang cukup besar antara label 0 dan 1 sehingga mungkin dapat menjadi prediktor yang tepat bagi label yang kita gunakan. Pada indeks ini kita mendapati bahwa median data dari 2 bulan terakhir hingga sekarang menunjukkan nilai yang tidak 0, artinya data yang ada sudah banyak yang bernilai tidak 0. Akan tetapi, jika kita lihat lebih teliti lagi, terdapat keanehan terutama mengenai outlier pada data fitur ini. Dapat dilihat bahwa maksimal frekuensi tiap bulan dapat mencapai puluhan ribu."
   ]
  },
  {
   "cell_type": "code",
   "execution_count": 111,
   "id": "b24dcb13",
   "metadata": {},
   "outputs": [],
   "source": [
    "frek_uma = ['frekuensi_uma_6BT', 'frekuensi_uma_5BT', 'frekuensi_uma_4BT',\n",
    "       'frekuensi_uma_3BT', 'frekuensi_uma_2BT', 'frekuensi_uma_1BT']"
   ]
  },
  {
   "cell_type": "code",
   "execution_count": 112,
   "id": "501c122e",
   "metadata": {},
   "outputs": [
    {
     "name": "stdout",
     "output_type": "stream",
     "text": [
      "flag_perform_value        0.0        1.0\n",
      "frekuensi_uma_6BT   44.821963  17.920888\n",
      "frekuensi_uma_5BT   49.895327  19.200416\n",
      "frekuensi_uma_4BT   50.164798  19.761693\n",
      "frekuensi_uma_3BT   51.508411  21.091603\n",
      "frekuensi_uma_2BT   55.739252  22.849965\n",
      "frekuensi_uma_1BT   58.801558  25.764192\n"
     ]
    },
    {
     "data": {
      "image/png": "[encoded data removed]",
      "text/plain": [
       "<Figure size 432x288 with 1 Axes>"
      ]
     },
     "metadata": {
      "needs_background": "light"
     },
     "output_type": "display_data"
    }
   ],
   "source": [
    "df_frek_uma = df_new[frek_uma].groupby(by=df_new.flag_perform_value).mean().transpose()\n",
    "print(df_frek_uma)\n",
    "\n",
    "ax = df_frek_uma.plot(rot = 90, kind='line')\n",
    "ax.set_title('Rata Frekuensi Uang Masuk Perbulan')\n",
    "plt.savefig('rata_frek_uma_line')\n",
    "plt.show()"
   ]
  },
  {
   "cell_type": "code",
   "execution_count": 113,
   "id": "0662ced4",
   "metadata": {},
   "outputs": [
    {
     "data": {
      "image/png": "[encoded data removed]",
      "text/plain": [
       "<Figure size 432x288 with 1 Axes>"
      ]
     },
     "metadata": {
      "needs_background": "light"
     },
     "output_type": "display_data"
    }
   ],
   "source": [
    "ax = sns.boxplot(data = df_new[frek_uma].melt(), x= 'variable', y='value')\n",
    "ax.set_xticklabels(ax.get_xticklabels(), rotation=90)\n",
    "ax.set_title('Rata Frekuensi Uang Masuk Perbulan dengan Outlier')\n",
    "plt.savefig('rata_frek_uma_boxout')\n",
    "plt.show()"
   ]
  },
  {
   "cell_type": "code",
   "execution_count": 114,
   "id": "6a88c563",
   "metadata": {},
   "outputs": [
    {
     "data": {
      "image/png": "[encoded data removed]",
      "text/plain": [
       "<Figure size 432x288 with 1 Axes>"
      ]
     },
     "metadata": {
      "needs_background": "light"
     },
     "output_type": "display_data"
    }
   ],
   "source": [
    "ax = sns.boxplot(data = df_new[frek_uma].melt(), x= 'variable', y='value', showfliers=False)\n",
    "ax.set_xticklabels(ax.get_xticklabels(), rotation=90)\n",
    "ax.set_title('Rata Frekuensi Uang Masuk Perbulan tanpano Outlier')\n",
    "plt.savefig('rata_frek_uma_boxout')\n",
    "plt.show()"
   ]
  },
  {
   "cell_type": "code",
   "execution_count": 115,
   "id": "8444002b",
   "metadata": {},
   "outputs": [
    {
     "name": "stdout",
     "output_type": "stream",
     "text": [
      "frekuensi_uma_6BT    0.639339\n",
      "frekuensi_uma_5BT    0.623560\n",
      "frekuensi_uma_4BT    0.605505\n",
      "frekuensi_uma_3BT    0.576367\n",
      "frekuensi_uma_2BT    0.529982\n",
      "frekuensi_uma_1BT    0.465174\n",
      "dtype: float64\n",
      "13625\n"
     ]
    }
   ],
   "source": [
    "#melihat persentase data yang bernilai 0\n",
    "print((df_new[frek_uma]==0).sum()/df_new.shape[0])\n",
    "print(df_new.shape[0])"
   ]
  },
  {
   "cell_type": "code",
   "execution_count": 116,
   "id": "31127a6d",
   "metadata": {},
   "outputs": [
    {
     "data": {
      "text/plain": [
       "frekuensi_uma_6BT    4152.0\n",
       "frekuensi_uma_5BT    6280.0\n",
       "frekuensi_uma_4BT    4405.0\n",
       "frekuensi_uma_3BT    4109.0\n",
       "frekuensi_uma_2BT    4693.0\n",
       "frekuensi_uma_1BT    5399.0\n",
       "dtype: float64"
      ]
     },
     "execution_count": 116,
     "metadata": {},
     "output_type": "execute_result"
    }
   ],
   "source": [
    "#melihat nilai maksimal untuk fitur frekuensi uang masuk\n",
    "df_new[frek_uma].max()"
   ]
  },
  {
   "cell_type": "markdown",
   "id": "854d1a67",
   "metadata": {},
   "source": [
    "Hal yang sama seperti sebelumnya juga ada pada fitur ini, termasuk keanehan mengenai nilai frekuensi untuk tiap bulannya meskipun kini yang terbanyak hanya berjumlah sekitar 6000 atau dengan kata lain 200 kali uang masuk per hari.\n"
   ]
  },
  {
   "cell_type": "code",
   "execution_count": null,
   "id": "abe4091f",
   "metadata": {},
   "outputs": [],
   "source": [
    "df_new['tanggal;'].unique()"
   ]
  },
  {
   "cell_type": "markdown",
   "id": "a5e18d41",
   "metadata": {},
   "source": [
    "Karena hanya ada 1 entri pada fitur ini maka akan didrop."
   ]
  },
  {
   "cell_type": "markdown",
   "id": "1975a508",
   "metadata": {},
   "source": [
    "# Feature Engineering"
   ]
  },
  {
   "cell_type": "markdown",
   "id": "89c7ced2",
   "metadata": {},
   "source": [
    "Pertama-tama akan dilakukan pembuatan fitur baru yakni rata-rata uang keluar (uke) dan masuk (uma) yang didapatkan dari perhitungan jumlah nominal uang dibagi dengan frekuensinya."
   ]
  },
  {
   "cell_type": "code",
   "execution_count": null,
   "id": "44e0c51b",
   "metadata": {},
   "outputs": [],
   "source": [
    "avg_uke = ['avg_uke_1BT', 'avg_uke_2BT', 'avg_uke_3BT', 'avg_uke_4BT', 'avg_uke_5BT', 'avg_uke_6BT']"
   ]
  },
  {
   "cell_type": "code",
   "execution_count": null,
   "id": "b6835db5",
   "metadata": {},
   "outputs": [],
   "source": [
    "avg_uma = ['avg_uma_1BT', 'avg_uma_2BT', 'avg_uma_3BT', 'avg_uma_4BT', 'avg_uma_5BT', 'avg_uma_6BT']"
   ]
  },
  {
   "cell_type": "code",
   "execution_count": null,
   "id": "3eea7818",
   "metadata": {},
   "outputs": [],
   "source": [
    "df_new['avg_uke_1BT'] = df_new['jumlah_uke_1BT']/df_new['frekuensi_uke_1BT']\n",
    "df_new['avg_uke_2BT'] = df_new['jumlah_uke_2BT']/df_new['frekuensi_uke_2BT']\n",
    "df_new['avg_uke_3BT'] = df_new['jumlah_uke_3BT']/df_new['frekuensi_uke_3BT']\n",
    "df_new['avg_uke_4BT'] = df_new['jumlah_uke_4BT']/df_new['frekuensi_uke_4BT']\n",
    "df_new['avg_uke_5BT'] = df_new['jumlah_uke_5BT']/df_new['frekuensi_uke_5BT']\n",
    "df_new['avg_uke_6BT'] = df_new['jumlah_uke_6BT']/df_new['frekuensi_uke_6BT']"
   ]
  },
  {
   "cell_type": "code",
   "execution_count": null,
   "id": "08f3ef34",
   "metadata": {},
   "outputs": [],
   "source": [
    "df_new['avg_uma_1BT'] = df_new['jumlah_uma_1BT']/df_new['frekuensi_uma_1BT']\n",
    "df_new['avg_uma_2BT'] = df_new['jumlah_uma_2BT']/df_new['frekuensi_uma_2BT']\n",
    "df_new['avg_uma_3BT'] = df_new['jumlah_uma_3BT']/df_new['frekuensi_uma_3BT']\n",
    "df_new['avg_uma_4BT'] = df_new['jumlah_uma_4BT']/df_new['frekuensi_uma_4BT']\n",
    "df_new['avg_uma_5BT'] = df_new['jumlah_uma_5BT']/df_new['frekuensi_uma_5BT']\n",
    "df_new['avg_uma_6BT'] = df_new['jumlah_uma_6BT']/df_new['frekuensi_uma_6BT']"
   ]
  },
  {
   "cell_type": "code",
   "execution_count": null,
   "id": "ef59fd45",
   "metadata": {},
   "outputs": [],
   "source": [
    "#df_new[avg_uke]"
   ]
  },
  {
   "cell_type": "markdown",
   "id": "1ee6123d",
   "metadata": {},
   "source": [
    "Permasalahan muncul ketika terdapat frekuensi nasabah yang bernilai 0, atau dengan kata lain tidak ada uang yang masuk atau keluar pada rentang waktu 1 bulan tersebut. Hasilnya adalah data yang bernilai NaN atau tak hingga (infinity). Oleh karena itu, akan dilakukan pengubahan dan imputasi untuk data tersebut sehingga data bernilai NaN dan tak hingga tersebut diganti dengan 0."
   ]
  },
  {
   "cell_type": "code",
   "execution_count": null,
   "id": "32d433d8",
   "metadata": {},
   "outputs": [],
   "source": [
    "from sklearn.impute import SimpleImputer"
   ]
  },
  {
   "cell_type": "code",
   "execution_count": null,
   "id": "08434018",
   "metadata": {},
   "outputs": [],
   "source": [
    "imp_avg = SimpleImputer(missing_values=np.nan, strategy='constant', fill_value=0.0)"
   ]
  },
  {
   "cell_type": "code",
   "execution_count": null,
   "id": "6cb001cf",
   "metadata": {},
   "outputs": [],
   "source": [
    "df_new.shape[0]"
   ]
  },
  {
   "cell_type": "code",
   "execution_count": null,
   "id": "8c233bea",
   "metadata": {},
   "outputs": [],
   "source": [
    "df_new[avg_uke].isna().sum()"
   ]
  },
  {
   "cell_type": "code",
   "execution_count": null,
   "id": "d5891f2d",
   "metadata": {},
   "outputs": [],
   "source": [
    "(~df_new[avg_uke].isna()).sum()"
   ]
  },
  {
   "cell_type": "code",
   "execution_count": null,
   "id": "2fff1bbe",
   "metadata": {},
   "outputs": [],
   "source": [
    "df_new.loc[np.isinf(df_new['avg_uke_1BT']),'avg_uke_1BT']=0\n",
    "df_new.loc[np.isinf(df_new['avg_uke_2BT']),'avg_uke_2BT']=0\n",
    "df_new.loc[np.isinf(df_new['avg_uke_3BT']),'avg_uke_3BT']=0\n",
    "df_new.loc[np.isinf(df_new['avg_uke_4BT']),'avg_uke_4BT']=0\n",
    "df_new.loc[np.isinf(df_new['avg_uke_5BT']),'avg_uke_5BT']=0\n",
    "df_new.loc[np.isinf(df_new['avg_uke_6BT']),'avg_uke_6BT']=0"
   ]
  },
  {
   "cell_type": "code",
   "execution_count": null,
   "id": "0961c3ff",
   "metadata": {},
   "outputs": [],
   "source": [
    "df_new.loc[np.isinf(df_new['avg_uma_1BT']),'avg_uma_1BT']=0\n",
    "df_new.loc[np.isinf(df_new['avg_uma_2BT']),'avg_uma_2BT']=0\n",
    "df_new.loc[np.isinf(df_new['avg_uma_3BT']),'avg_uma_3BT']=0\n",
    "df_new.loc[np.isinf(df_new['avg_uma_4BT']),'avg_uma_4BT']=0\n",
    "df_new.loc[np.isinf(df_new['avg_uma_5BT']),'avg_uma_5BT']=0\n",
    "df_new.loc[np.isinf(df_new['avg_uma_6BT']),'avg_uma_6BT']=0"
   ]
  },
  {
   "cell_type": "code",
   "execution_count": null,
   "id": "728c654c",
   "metadata": {},
   "outputs": [],
   "source": [
    "#df_new.describe()"
   ]
  },
  {
   "cell_type": "code",
   "execution_count": null,
   "id": "4552365f",
   "metadata": {},
   "outputs": [],
   "source": [
    "df_new[avg_uke]=imp_avg.fit_transform(df_new[avg_uke])\n",
    "df_new[avg_uma]=imp_avg.fit_transform(df_new[avg_uma])"
   ]
  },
  {
   "cell_type": "code",
   "execution_count": null,
   "id": "7a143fa4",
   "metadata": {},
   "outputs": [],
   "source": [
    "df_new.shape"
   ]
  },
  {
   "cell_type": "markdown",
   "id": "6b4126be",
   "metadata": {},
   "source": [
    "Selanjutnya dilakukan kembali EDA bagi kedua fitur tersebut."
   ]
  },
  {
   "cell_type": "code",
   "execution_count": null,
   "id": "b12781ec",
   "metadata": {},
   "outputs": [],
   "source": [
    "df_avg_uke = df_new[avg_uke].groupby(by=df_new.flag_perform_value).mean().transpose()\n",
    "df_avg_uke = df_avg_uke.reindex(index=df_avg_uke.index[::-1])\n",
    "print(df_avg_uke)\n",
    "\n",
    "ax = df_avg_uke.plot(rot = 90, kind='line')\n",
    "plt.show()"
   ]
  },
  {
   "cell_type": "code",
   "execution_count": null,
   "id": "aa804521",
   "metadata": {},
   "outputs": [],
   "source": [
    "ax = sns.boxplot(data = df_new[avg_uke].melt(), x= 'variable', y='value')\n",
    "ax.set_xticklabels(ax.get_xticklabels(), rotation=90)\n",
    "ax.set_title('Boxplot dengan Outlier')"
   ]
  },
  {
   "cell_type": "code",
   "execution_count": null,
   "id": "e153183c",
   "metadata": {},
   "outputs": [],
   "source": [
    "ax = sns.boxplot(data = df_new[avg_uke].melt(), x= 'variable', y='value', showfliers=False)\n",
    "ax.set_xticklabels(ax.get_xticklabels(), rotation=90)\n",
    "ax.set_title('Boxplot tanpa Outlier')"
   ]
  },
  {
   "cell_type": "code",
   "execution_count": null,
   "id": "3db93d4e",
   "metadata": {},
   "outputs": [],
   "source": [
    "df_new[avg_uke].describe()"
   ]
  },
  {
   "cell_type": "markdown",
   "id": "3b3185f3",
   "metadata": {},
   "source": [
    "Dapat dilihat bahwa sama dengan untuk fitur jumlah uang keluar (jumlah_uke), terdapat adanya tren penurunan pada fitur rata-rata uang keluar ini. Hal ini menegaskan bahwa penurunan jumlah uang keluar ini bukan disebabkan oleh adanya penurunan frekuensi uang keluar namun justru karena rata-rata uang yang keluar ini semakin sedikit seiring waktu. Akan tetapi, jika kita melihat boxplot dengan dan tanpa outlier, dapat terlihat bahwa yang paling berpengaruh adalah outlier yang muncul pada fitur ini. Karena pada 1 bulan terakhir (1BT) nilai outlier jauh lebih kecil dibandingkan bulan-bulan sebelumnya, hal itu mengakibatkan rata-rata yang mengecil juga walaupun jika kita melihat untuk data tanpa outlier variansi pada 1 bulan terakhir lebih besar dibandingkan bulan-bulan sebelumnya."
   ]
  },
  {
   "cell_type": "code",
   "execution_count": null,
   "id": "c062ecf9",
   "metadata": {},
   "outputs": [],
   "source": [
    "df_avg_uma = df_new[avg_uma].groupby(by=df_new.flag_perform_value).mean().transpose()\n",
    "df_avg_uma = df_avg_uma.reindex(index=df_avg_uma.index[::-1])\n",
    "print(df_avg_uma)\n",
    "\n",
    "ax = df_avg_uma.plot(rot = 90, kind='line')\n",
    "plt.show()"
   ]
  },
  {
   "cell_type": "code",
   "execution_count": null,
   "id": "a762f151",
   "metadata": {},
   "outputs": [],
   "source": [
    "ax = sns.boxplot(data = df_new[avg_uma].melt(), x= 'variable', y='value')\n",
    "ax.set_xticklabels(ax.get_xticklabels(), rotation=90)\n",
    "ax.set_title('Boxplot dengan Outlier')"
   ]
  },
  {
   "cell_type": "code",
   "execution_count": null,
   "id": "acc5a738",
   "metadata": {},
   "outputs": [],
   "source": [
    "ax = sns.boxplot(data = df_new[avg_uke].melt(), x= 'variable', y='value', showfliers=False)\n",
    "ax.set_xticklabels(ax.get_xticklabels(), rotation=90)\n",
    "ax.set_title('Boxplot tanpa Outlier')"
   ]
  },
  {
   "cell_type": "code",
   "execution_count": null,
   "id": "3812ff88",
   "metadata": {},
   "outputs": [],
   "source": [
    "df_new[avg_uma].describe()"
   ]
  },
  {
   "cell_type": "markdown",
   "id": "fa10484a",
   "metadata": {},
   "source": [
    "Dari data diatas dapat dilihat bahwa pada label 0 terjadi penurunan sedangkan pada label 1 terjadi kenaikan. Akan tetapi, jika kita lihat boxplot dengan dan tanpa outlier, bisa jadi tidak demikian, hal itu karena lagi-lagi adanya outlier mengakibatkan rata-rata dari fitur ini menjadi lebih besar daripada seharusnya."
   ]
  },
  {
   "cell_type": "code",
   "execution_count": null,
   "id": "a4365b12",
   "metadata": {},
   "outputs": [],
   "source": [
    "#menyimpan dataframe yang digunakan saat EDA\n",
    "df_eda = df_new.copy()\n",
    "df_eda = pd.DataFrame(df_eda)"
   ]
  },
  {
   "cell_type": "code",
   "execution_count": null,
   "id": "25d813bf",
   "metadata": {},
   "outputs": [],
   "source": [
    "sns.heatmap(df_new[rata_sisauang_harian].corr())"
   ]
  },
  {
   "cell_type": "code",
   "execution_count": null,
   "id": "3e54735e",
   "metadata": {},
   "outputs": [],
   "source": [
    "df_new['rata2_sisauang_harian']=df_new[rata_sisauang_harian].mean(axis=1)"
   ]
  },
  {
   "cell_type": "code",
   "execution_count": null,
   "id": "c7ad47d7",
   "metadata": {},
   "outputs": [],
   "source": [
    "df_new['kenaikan_rata_suh']=(df_new.rata_sisauang_harian_1BT>df_new.rata2_sisauang_harian).astype(float)"
   ]
  },
  {
   "cell_type": "code",
   "execution_count": null,
   "id": "0727f9f7",
   "metadata": {},
   "outputs": [],
   "source": [
    "df_new.drop(rata_sisauang_harian, axis=1, inplace=True)"
   ]
  },
  {
   "cell_type": "markdown",
   "id": "4fd765cd",
   "metadata": {},
   "source": [
    "Karena nilai korelasi keenam fitur ini cukup tinggi, maka akan diambil rata-ratanya saja dengan menambahkan juga fitur kenaikan. Fitur kenaikan ini dihitung dengan melihat apakah nilai 1 bulan terakhir lebih tinggi atau lebih rendah dari rata-rata. Kekurangannya adalah cara tersebut tidak dapat melihat tren yang sesungguhnya pada data yang berfluktuasi."
   ]
  },
  {
   "cell_type": "code",
   "execution_count": null,
   "id": "afa8e912",
   "metadata": {
    "scrolled": false
   },
   "outputs": [],
   "source": [
    "sns.heatmap(df_new[sisauang_akhir].corr())"
   ]
  },
  {
   "cell_type": "code",
   "execution_count": null,
   "id": "84fb33ca",
   "metadata": {},
   "outputs": [],
   "source": [
    "df_new['rata_sisauangakhir']=df_new[sisauang_akhir].mean(axis=1)"
   ]
  },
  {
   "cell_type": "code",
   "execution_count": null,
   "id": "a33c9f5a",
   "metadata": {},
   "outputs": [],
   "source": [
    "df_new['kenaikan_sisauangakhir']=(df_new.sisauang_akhir_1BT>df_new.rata_sisauangakhir).astype(float)"
   ]
  },
  {
   "cell_type": "code",
   "execution_count": null,
   "id": "d09d39a9",
   "metadata": {},
   "outputs": [],
   "source": [
    "df_new.drop(sisauang_akhir, axis=1, inplace=True)"
   ]
  },
  {
   "cell_type": "code",
   "execution_count": null,
   "id": "d4ce1cda",
   "metadata": {},
   "outputs": [],
   "source": [
    "df_new[sisauang_tertahan].corr()"
   ]
  },
  {
   "cell_type": "code",
   "execution_count": null,
   "id": "6a913f98",
   "metadata": {},
   "outputs": [],
   "source": [
    "sns.heatmap(df_new[sisauang_tertahan].corr())\n",
    "plt.show()"
   ]
  },
  {
   "cell_type": "code",
   "execution_count": null,
   "id": "1ce87c8a",
   "metadata": {},
   "outputs": [],
   "source": [
    "df_new['rata_sisauang_tertahan'] = df_new[sisauang_tertahan].mean(axis=1)"
   ]
  },
  {
   "cell_type": "code",
   "execution_count": null,
   "id": "5722bf2c",
   "metadata": {},
   "outputs": [],
   "source": [
    "df_new['kenaikan_sisauang_tertahan']=(df_new.sisauang_tertahan_1BT>df_new.rata_sisauang_tertahan).astype(float)"
   ]
  },
  {
   "cell_type": "code",
   "execution_count": null,
   "id": "ec552021",
   "metadata": {},
   "outputs": [],
   "source": [
    "df_new.drop(sisauang_tertahan, axis=1, inplace=True)"
   ]
  },
  {
   "cell_type": "code",
   "execution_count": null,
   "id": "fd956111",
   "metadata": {},
   "outputs": [],
   "source": [
    "sns.heatmap(df_new[sisauang_tersedia].corr())\n",
    "plt.show()"
   ]
  },
  {
   "cell_type": "code",
   "execution_count": null,
   "id": "311553fd",
   "metadata": {},
   "outputs": [],
   "source": [
    "df_new['rata_sisauang_tersedia'] = df_new[sisauang_tersedia].mean(axis=1)"
   ]
  },
  {
   "cell_type": "code",
   "execution_count": null,
   "id": "27e24619",
   "metadata": {},
   "outputs": [],
   "source": [
    "df_new['kenaikan_sisauang_tersedia'] = (df_new.sisauang_tersedia_1BT>df_new.rata_sisauang_tersedia).astype(float)"
   ]
  },
  {
   "cell_type": "code",
   "execution_count": null,
   "id": "17b7d665",
   "metadata": {},
   "outputs": [],
   "source": [
    "df_new.drop(sisauang_tersedia, axis=1, inplace=True)"
   ]
  },
  {
   "cell_type": "code",
   "execution_count": null,
   "id": "5c9ace1a",
   "metadata": {},
   "outputs": [],
   "source": [
    "sns.heatmap(df_new[tanggungan_sisa].corr())\n",
    "plt.show()"
   ]
  },
  {
   "cell_type": "code",
   "execution_count": null,
   "id": "6659dafc",
   "metadata": {},
   "outputs": [],
   "source": [
    "df_new['rata_tanggungan_sisa']= df_new[tanggungan_sisa].mean(axis =1)"
   ]
  },
  {
   "cell_type": "code",
   "execution_count": null,
   "id": "d0c2f441",
   "metadata": {},
   "outputs": [],
   "source": [
    "df_new['kenaikan_tanggungan_sisa'] = (df_new.tanggungan_sisa_1BT>df_new.rata_tanggungan_sisa).astype(float)"
   ]
  },
  {
   "cell_type": "code",
   "execution_count": null,
   "id": "31cc8dc7",
   "metadata": {},
   "outputs": [],
   "source": [
    "df_new.drop(tanggungan_sisa, axis=1, inplace=True)"
   ]
  },
  {
   "cell_type": "code",
   "execution_count": null,
   "id": "3830151c",
   "metadata": {},
   "outputs": [],
   "source": [
    "sns.heatmap(df_new[jumlah_pembayaran_tanggungan].corr())\n",
    "plt.show()"
   ]
  },
  {
   "cell_type": "code",
   "execution_count": null,
   "id": "6922ee4a",
   "metadata": {},
   "outputs": [],
   "source": [
    "df_new['rata_jumlah_pembayaran']= df_new[jumlah_pembayaran_tanggungan].mean(axis =1)"
   ]
  },
  {
   "cell_type": "code",
   "execution_count": null,
   "id": "a2cb8b92",
   "metadata": {},
   "outputs": [],
   "source": [
    "df_new['kenaikan_jumlah_pembayaran']=(df_new.jumlah_pembayaran_tanggungan_1BT>df_new.rata_jumlah_pembayaran).astype(float)"
   ]
  },
  {
   "cell_type": "code",
   "execution_count": null,
   "id": "fc81a6ab",
   "metadata": {},
   "outputs": [],
   "source": [
    "df_new.drop(jumlah_pembayaran_tanggungan, axis=1, inplace=True)"
   ]
  },
  {
   "cell_type": "code",
   "execution_count": null,
   "id": "ea08dd85",
   "metadata": {},
   "outputs": [],
   "source": [
    "sns.heatmap(df_new[jumlah_uke].corr())\n",
    "plt.show()"
   ]
  },
  {
   "cell_type": "code",
   "execution_count": null,
   "id": "407fdbd2",
   "metadata": {},
   "outputs": [],
   "source": [
    "df_new['rata_jumlah_uke']= df_new[jumlah_uke].mean(axis =1)"
   ]
  },
  {
   "cell_type": "code",
   "execution_count": null,
   "id": "6cf5dd8e",
   "metadata": {},
   "outputs": [],
   "source": [
    "df_new['kenaikan_jumlah_uke']=(df_new.jumlah_uke_1BT>df_new.rata_jumlah_uke).astype(float)"
   ]
  },
  {
   "cell_type": "code",
   "execution_count": null,
   "id": "9b839c34",
   "metadata": {},
   "outputs": [],
   "source": [
    "df_new.drop(jumlah_uke, axis=1, inplace=True)"
   ]
  },
  {
   "cell_type": "code",
   "execution_count": null,
   "id": "1ab816c2",
   "metadata": {},
   "outputs": [],
   "source": [
    "sns.heatmap(df_new[jumlah_uma].corr())\n",
    "plt.show()"
   ]
  },
  {
   "cell_type": "code",
   "execution_count": null,
   "id": "4e7460cf",
   "metadata": {},
   "outputs": [],
   "source": [
    "df_new['rata_jumlah_uma']= df_new[jumlah_uma].mean(axis =1)"
   ]
  },
  {
   "cell_type": "code",
   "execution_count": null,
   "id": "e30fd0ed",
   "metadata": {},
   "outputs": [],
   "source": [
    "df_new['kenaikan_jumlah_uma']=(df_new.jumlah_uma_1BT>df_new.rata_jumlah_uma).astype(float)"
   ]
  },
  {
   "cell_type": "code",
   "execution_count": null,
   "id": "1b6f810b",
   "metadata": {},
   "outputs": [],
   "source": [
    "df_new.drop(jumlah_uma, axis=1, inplace=True)"
   ]
  },
  {
   "cell_type": "code",
   "execution_count": null,
   "id": "9f677b88",
   "metadata": {},
   "outputs": [],
   "source": [
    "sns.heatmap(df_new[frek_uke].corr())\n",
    "plt.show()"
   ]
  },
  {
   "cell_type": "code",
   "execution_count": null,
   "id": "d45bff58",
   "metadata": {},
   "outputs": [],
   "source": [
    "df_new['rata_frekuensi_uke']= df_new[frek_uke].mean(axis =1)"
   ]
  },
  {
   "cell_type": "code",
   "execution_count": null,
   "id": "5cd2eb59",
   "metadata": {},
   "outputs": [],
   "source": [
    "df_new['kenaikan_frekuensi_uke']=(df_new.frekuensi_uke_1BT>df_new.rata_frekuensi_uke).astype(float)"
   ]
  },
  {
   "cell_type": "code",
   "execution_count": null,
   "id": "c0a8792d",
   "metadata": {},
   "outputs": [],
   "source": [
    "df_new.drop(frek_uke, axis=1, inplace=True)"
   ]
  },
  {
   "cell_type": "code",
   "execution_count": null,
   "id": "ba22d2d6",
   "metadata": {},
   "outputs": [],
   "source": [
    "sns.heatmap(df_new[frek_uma].corr())\n",
    "plt.show()"
   ]
  },
  {
   "cell_type": "code",
   "execution_count": null,
   "id": "c9dc3581",
   "metadata": {},
   "outputs": [],
   "source": [
    "df_new['rata_frekuensi_uma']= df_new[frek_uma].mean(axis =1)"
   ]
  },
  {
   "cell_type": "code",
   "execution_count": null,
   "id": "81411225",
   "metadata": {},
   "outputs": [],
   "source": [
    "df_new['kenaikan_frekuensi_uma']=(df_new.frekuensi_uma_1BT>df_new.rata_frekuensi_uma).astype(float)"
   ]
  },
  {
   "cell_type": "markdown",
   "id": "59c99e15",
   "metadata": {},
   "source": [
    "Semua fitur diatas dijadikan 1 menjadi fitur rata-rata untuk 6 bulan terakhir serta fitur yang menyatakan apakah ada kenaikan atau tidak dengan alasan yang sama dengan fitur sisa_uangharian, yakni karena korelasi yang cukup tinggi."
   ]
  },
  {
   "cell_type": "code",
   "execution_count": null,
   "id": "c41e39fa",
   "metadata": {},
   "outputs": [],
   "source": [
    "df_new.loc[:,['no_pelanggan', 'tanggal;']].nunique()"
   ]
  },
  {
   "cell_type": "markdown",
   "id": "47dd058f",
   "metadata": {},
   "source": [
    "Hilangkan fitur no_pelanggan karena unik untuk seluruh data dan tanggal karena hanya ada 1 nilai."
   ]
  },
  {
   "cell_type": "code",
   "execution_count": null,
   "id": "59b32ffb",
   "metadata": {},
   "outputs": [],
   "source": [
    "df_new.drop(['no_pelanggan', 'tanggal;'], axis = 1, inplace=True)"
   ]
  },
  {
   "cell_type": "code",
   "execution_count": null,
   "id": "39351b04",
   "metadata": {},
   "outputs": [],
   "source": [
    "#Hilangkan outlier umur\n",
    "\n",
    "#df_new['zscore_umur'] = (df_new.umur - df_new.umur.mean())/df_new.umur.std(ddof=0)\n",
    "#df_new[np.abs(df_new.zscore_umur) < 3]\n",
    "#df_new.drop('zscore_umur', axis=1, inplace=True)"
   ]
  },
  {
   "cell_type": "markdown",
   "id": "cd5bcbea",
   "metadata": {},
   "source": [
    "Hilangkan data 'flag_perform' dan 'flag_perform_avg' karena sudah menjadi label"
   ]
  },
  {
   "cell_type": "code",
   "execution_count": null,
   "id": "9f04912e",
   "metadata": {},
   "outputs": [],
   "source": [
    "df_new.drop(flag_perform, axis=1, inplace=True)\n",
    "df_new.drop('flag_perform_avg', axis=1, inplace=True)"
   ]
  },
  {
   "cell_type": "code",
   "execution_count": null,
   "id": "42981e4e",
   "metadata": {},
   "outputs": [],
   "source": [
    "#df_new.shape"
   ]
  },
  {
   "cell_type": "code",
   "execution_count": null,
   "id": "d7d9105b",
   "metadata": {
    "scrolled": true
   },
   "outputs": [],
   "source": [
    "#df_new.columns"
   ]
  },
  {
   "cell_type": "markdown",
   "id": "d8a0c98f",
   "metadata": {},
   "source": [
    "Menghapus fitur yang mempunyai persentase NaN > 20%"
   ]
  },
  {
   "cell_type": "code",
   "execution_count": null,
   "id": "56c6ea99",
   "metadata": {},
   "outputs": [],
   "source": [
    "#df_new.isna().mean()"
   ]
  },
  {
   "cell_type": "code",
   "execution_count": null,
   "id": "badb36cf",
   "metadata": {},
   "outputs": [],
   "source": [
    "feature_removed = df_new.loc[:, df_new.isna().mean()>=0.2].columns"
   ]
  },
  {
   "cell_type": "code",
   "execution_count": null,
   "id": "9a9bcc79",
   "metadata": {},
   "outputs": [],
   "source": [
    "print(feature_removed)"
   ]
  },
  {
   "cell_type": "code",
   "execution_count": null,
   "id": "16f19193",
   "metadata": {},
   "outputs": [],
   "source": [
    "df_new.drop(feature_removed, axis =1, inplace=True)"
   ]
  },
  {
   "cell_type": "code",
   "execution_count": null,
   "id": "0a79a4f7",
   "metadata": {},
   "outputs": [],
   "source": [
    "df_new.drop('daerah', axis =1, inplace=True)"
   ]
  },
  {
   "cell_type": "code",
   "execution_count": null,
   "id": "de0c3f93",
   "metadata": {},
   "outputs": [],
   "source": [
    "df_new.drop(frek_uma, axis=1, inplace=True)"
   ]
  },
  {
   "cell_type": "code",
   "execution_count": null,
   "id": "68eca814",
   "metadata": {},
   "outputs": [],
   "source": [
    "#menyimpan dataframe setelah data preprocessing dan feature engineering\n",
    "df_dataeng = df_new.copy()\n",
    "df_dataeng = pd.DataFrame(df_dataeng)"
   ]
  },
  {
   "cell_type": "markdown",
   "id": "57556242",
   "metadata": {},
   "source": [
    "### Encoding"
   ]
  },
  {
   "cell_type": "code",
   "execution_count": null,
   "id": "a5fb4626",
   "metadata": {},
   "outputs": [],
   "source": [
    "df_new = pd.get_dummies(df_new)"
   ]
  },
  {
   "cell_type": "code",
   "execution_count": null,
   "id": "b2b57693",
   "metadata": {},
   "outputs": [],
   "source": [
    "#menyimpan dataframe hasil encoding\n",
    "df_encoded = df_new.copy()\n",
    "df_encoded = pd.DataFrame(df_encoded)"
   ]
  },
  {
   "cell_type": "markdown",
   "id": "c05e3b9f",
   "metadata": {},
   "source": [
    "### Imputasi"
   ]
  },
  {
   "cell_type": "code",
   "execution_count": null,
   "id": "fc645612",
   "metadata": {},
   "outputs": [],
   "source": [
    "from sklearn.impute import SimpleImputer"
   ]
  },
  {
   "cell_type": "code",
   "execution_count": null,
   "id": "4088598f",
   "metadata": {},
   "outputs": [],
   "source": [
    "#df_new.isnull().sum()"
   ]
  },
  {
   "cell_type": "code",
   "execution_count": null,
   "id": "32d37dc2",
   "metadata": {},
   "outputs": [],
   "source": [
    "punya_produk = ['punya_produk1',\n",
    "       'punya_produk2', 'punya_produk3', 'punya_produk4', 'punya_produk5',\n",
    "       'punya_produk6']"
   ]
  },
  {
   "cell_type": "markdown",
   "id": "0821afb3",
   "metadata": {},
   "source": [
    "Melakukan imputasi sehingga nilai NaN pada fitur punya_produk diisi dengan 0 yang menyatakan tidak mempunyai produk tersebut"
   ]
  },
  {
   "cell_type": "code",
   "execution_count": null,
   "id": "2e48d3f4",
   "metadata": {},
   "outputs": [],
   "source": [
    "imp_produk = SimpleImputer(missing_values=np.nan, strategy='constant', fill_value=0.0)"
   ]
  },
  {
   "cell_type": "code",
   "execution_count": null,
   "id": "0a1f96ea",
   "metadata": {},
   "outputs": [],
   "source": [
    "df_new[punya_produk]=imp_produk.fit_transform(df_new[punya_produk])"
   ]
  },
  {
   "cell_type": "code",
   "execution_count": null,
   "id": "157e607f",
   "metadata": {},
   "outputs": [],
   "source": [
    "imp_produk.fit_transform(df_new[punya_produk])"
   ]
  },
  {
   "cell_type": "code",
   "execution_count": null,
   "id": "ca4a4073",
   "metadata": {},
   "outputs": [],
   "source": [
    "imp_umur = SimpleImputer(missing_values=np.nan, strategy='median')"
   ]
  },
  {
   "cell_type": "code",
   "execution_count": null,
   "id": "77240691",
   "metadata": {},
   "outputs": [],
   "source": [
    "df_new.umur=imp_umur.fit_transform(df_new)[:,0]"
   ]
  },
  {
   "cell_type": "code",
   "execution_count": null,
   "id": "8f4f4271",
   "metadata": {
    "scrolled": false
   },
   "outputs": [],
   "source": [
    "#df_new"
   ]
  },
  {
   "cell_type": "code",
   "execution_count": null,
   "id": "ef85fa76",
   "metadata": {},
   "outputs": [],
   "source": [
    "#df_new.isnull().sum()"
   ]
  },
  {
   "cell_type": "code",
   "execution_count": null,
   "id": "b8f0fe9c",
   "metadata": {},
   "outputs": [],
   "source": [
    "#punya produk 5, kenaikan sisauang tertahan, kenaikan jumlah pembayaran, status kawin D, status kawin J"
   ]
  },
  {
   "cell_type": "markdown",
   "id": "4a75d3d4",
   "metadata": {},
   "source": [
    "## Tes drop fitur"
   ]
  },
  {
   "cell_type": "code",
   "execution_count": null,
   "id": "20958135",
   "metadata": {},
   "outputs": [],
   "source": [
    "df_new.columns"
   ]
  },
  {
   "cell_type": "code",
   "execution_count": null,
   "id": "c287786f",
   "metadata": {},
   "outputs": [],
   "source": [
    "dropped_features = ['rata_sisauang_tertahan',\n",
    "       'kenaikan_sisauang_tertahan','rata_tanggungan_sisa',\n",
    "       'kenaikan_tanggungan_sisa','rata_jumlah_pembayaran',\n",
    "       'kenaikan_jumlah_pembayaran']"
   ]
  },
  {
   "cell_type": "code",
   "execution_count": null,
   "id": "3e77378a",
   "metadata": {},
   "outputs": [],
   "source": [
    "df_new.drop(dropped_features, axis=1)"
   ]
  },
  {
   "cell_type": "markdown",
   "id": "62f8658a",
   "metadata": {},
   "source": [
    "### Korelasi Akhir"
   ]
  },
  {
   "cell_type": "code",
   "execution_count": null,
   "id": "74942836",
   "metadata": {
    "scrolled": false
   },
   "outputs": [],
   "source": [
    "fig, ax = plt.subplots()\n",
    "fig.set_size_inches(12, 12)\n",
    "sns.heatmap(df_new.corr())"
   ]
  },
  {
   "cell_type": "markdown",
   "id": "cbf108cd",
   "metadata": {},
   "source": [
    "Pindahkan label lalu hilangkan fitur label pada data asli"
   ]
  },
  {
   "cell_type": "code",
   "execution_count": null,
   "id": "36dc0e99",
   "metadata": {},
   "outputs": [],
   "source": [
    "df_new_label = df_new.flag_perform_value\n",
    "df_new.drop('flag_perform_value', axis=1, inplace=True)"
   ]
  },
  {
   "cell_type": "code",
   "execution_count": null,
   "id": "c8b7a374",
   "metadata": {},
   "outputs": [],
   "source": [
    "#menyimpan dataframe hasil imputasi\n",
    "df_imputed = df_new.copy()\n",
    "df_imputed = pd.DataFrame(df_imputed)"
   ]
  },
  {
   "cell_type": "markdown",
   "id": "6f371f82",
   "metadata": {},
   "source": [
    "# MODEL & SCORING"
   ]
  },
  {
   "cell_type": "code",
   "execution_count": null,
   "id": "84e19912",
   "metadata": {},
   "outputs": [],
   "source": [
    "df_new.shape"
   ]
  },
  {
   "cell_type": "code",
   "execution_count": null,
   "id": "fb5d0f31",
   "metadata": {},
   "outputs": [],
   "source": [
    "df_new_label.shape"
   ]
  },
  {
   "cell_type": "code",
   "execution_count": null,
   "id": "7bfcc783",
   "metadata": {},
   "outputs": [],
   "source": [
    "from sklearn import metrics\n",
    "from sklearn.metrics import roc_curve, roc_auc_score\n",
    "from sklearn.metrics import confusion_matrix, precision_score, recall_score, f1_score"
   ]
  },
  {
   "cell_type": "code",
   "execution_count": null,
   "id": "4537513d",
   "metadata": {},
   "outputs": [],
   "source": [
    "from sklearn.model_selection import train_test_split"
   ]
  },
  {
   "cell_type": "code",
   "execution_count": null,
   "id": "48e17755",
   "metadata": {},
   "outputs": [],
   "source": [
    "X = df_new\n",
    "y = df_new_label"
   ]
  },
  {
   "cell_type": "code",
   "execution_count": null,
   "id": "5a3f2deb",
   "metadata": {},
   "outputs": [],
   "source": [
    "#y"
   ]
  },
  {
   "cell_type": "code",
   "execution_count": null,
   "id": "3f9fbbbd",
   "metadata": {},
   "outputs": [],
   "source": [
    "#X"
   ]
  },
  {
   "cell_type": "code",
   "execution_count": null,
   "id": "4dd2e129",
   "metadata": {
    "scrolled": false
   },
   "outputs": [],
   "source": [
    "X_train, X_test, y_train, y_test = train_test_split(X, y, test_size=0.1)"
   ]
  },
  {
   "cell_type": "code",
   "execution_count": null,
   "id": "01065fe2",
   "metadata": {},
   "outputs": [],
   "source": [
    "from sklearn.naive_bayes import GaussianNB"
   ]
  },
  {
   "cell_type": "code",
   "execution_count": null,
   "id": "46b06342",
   "metadata": {},
   "outputs": [],
   "source": [
    "gnb = GaussianNB()\n",
    "gnb.fit(X_train, y_train)\n",
    "y_pred = gnb.predict(X_test)"
   ]
  },
  {
   "cell_type": "code",
   "execution_count": null,
   "id": "90cb7a08",
   "metadata": {},
   "outputs": [],
   "source": [
    "acc_gnb = (y_pred == y_test.to_numpy().ravel()).sum().astype(float) / len(y_pred)*100\n",
    "print(\"Scikit-Learn's Gaussian Naive Bayes Classifier's prediction accuracy is: %3.2f\" % (acc_gnb))\n",
    "cnf_matrix = metrics.confusion_matrix(y_test, y_pred)\n",
    "print (metrics.classification_report(y_test,y_pred))\n",
    "\n",
    "sns.heatmap(cnf_matrix,cmap='coolwarm_r',annot=True,linewidth=0.5,fmt='d')\n",
    "plt.title('Confusion Matrix')\n",
    "plt.xlabel('Prediksi')\n",
    "plt.ylabel('Realita')"
   ]
  },
  {
   "cell_type": "code",
   "execution_count": null,
   "id": "11043f6e",
   "metadata": {},
   "outputs": [],
   "source": [
    "y_score = gnb.predict_proba(X_test)[:,1]\n",
    "false_positive_rate, true_positive_rate, threshold = roc_curve(y_test, y_score)\n",
    "\n",
    "plt.title('Receiver Operating Characteristic - Naive Bayes')\n",
    "plt.plot(false_positive_rate, true_positive_rate)\n",
    "plt.plot([0, 1], ls=\"--\")\n",
    "plt.ylabel('True Positive Rate')\n",
    "plt.xlabel('False Positive Rate')"
   ]
  },
  {
   "cell_type": "code",
   "execution_count": null,
   "id": "b7b453ad",
   "metadata": {
    "scrolled": false
   },
   "outputs": [],
   "source": [
    "from xgboost import XGBClassifier\n",
    "xgb = XGBClassifier(eval_metric='logloss')\n",
    "xgb.fit(X_train, y_train)\n",
    "y_pred = xgb.predict(X_test)\n",
    "acc_xgb = (y_pred == y_test.to_numpy().ravel()).sum().astype(float) / len(y_pred)*100\n",
    "\n",
    "print(\"XGBoost's prediction accuracy is: %3.2f\" % (acc_xgb))\n",
    "\n",
    "cnf_matrix = metrics.confusion_matrix(y_test, y_pred)\n",
    "print (metrics.classification_report(y_test,y_pred))\n",
    "sns.heatmap(cnf_matrix,cmap='coolwarm_r',annot=True,linewidth=0.5,fmt='d')\n",
    "plt.title('Confusion Matrix')\n",
    "plt.xlabel('Prediksi')\n",
    "plt.ylabel('Realita')"
   ]
  },
  {
   "cell_type": "code",
   "execution_count": null,
   "id": "44ea44ce",
   "metadata": {},
   "outputs": [],
   "source": [
    "y_score = xgb.predict_proba(X_test)[:,1]\n",
    "false_positive_rate, true_positive_rate, threshold = roc_curve(y_test, y_score)\n",
    "\n",
    "plt.title('Receiver Operating Characteristic - XGBoost')\n",
    "plt.plot(false_positive_rate, true_positive_rate)\n",
    "plt.plot([0, 1], ls=\"--\")\n",
    "plt.ylabel('True Positive Rate')\n",
    "plt.xlabel('False Positive Rate')"
   ]
  },
  {
   "cell_type": "code",
   "execution_count": null,
   "id": "23d4827b",
   "metadata": {},
   "outputs": [],
   "source": [
    "from sklearn.ensemble import RandomForestClassifier\n",
    "rfc = RandomForestClassifier(n_estimators=10)\n",
    "rfc.fit(X_train, y_train)\n",
    "y_pred = rfc.predict(X_test)\n",
    "acc_rfc = (y_pred == y_test.to_numpy().ravel()).sum().astype(float) / len(y_pred)*100\n",
    "\n",
    "print(\"Scikit-Learn's Random Forest Classifier's prediction accuracy is: %3.2f\" % (acc_rfc))\n",
    "\n",
    "cnf_matrix = metrics.confusion_matrix(y_test, y_pred)\n",
    "print (metrics.classification_report(y_test,y_pred))\n",
    "sns.heatmap(cnf_matrix,cmap='coolwarm_r',annot=True,linewidth=0.5,fmt='d')\n",
    "plt.title('Confusion Matrix')\n",
    "plt.xlabel('Prediksi')\n",
    "plt.ylabel('Realita')"
   ]
  },
  {
   "cell_type": "code",
   "execution_count": null,
   "id": "f34b3dd2",
   "metadata": {},
   "outputs": [],
   "source": [
    "y_score = rfc.predict_proba(X_test)[:,1]\n",
    "false_positive_rate, true_positive_rate, threshold = roc_curve(y_test, y_score)\n",
    "\n",
    "plt.title('Receiver Operating Characteristic - Random Forest')\n",
    "plt.plot(false_positive_rate, true_positive_rate)\n",
    "plt.plot([0, 1], ls=\"--\")\n",
    "plt.ylabel('True Positive Rate')\n",
    "plt.xlabel('False Positive Rate')"
   ]
  },
  {
   "cell_type": "markdown",
   "id": "7557ce4e",
   "metadata": {},
   "source": [
    "## K-Fold Cross Validation"
   ]
  },
  {
   "cell_type": "code",
   "execution_count": null,
   "id": "0685661e",
   "metadata": {},
   "outputs": [],
   "source": [
    "from sklearn.model_selection import cross_validate as cvs\n",
    "def crossval(model):\n",
    "    cvscore = cvs(estimator=model,X=X,y=y,cv=10,scoring=['accuracy','precision','recall','f1','average_precision','roc_auc'])\n",
    "    score_table=pd.DataFrame(cvscore)\n",
    "    score_table.index+=1\n",
    "    display(score_table)"
   ]
  },
  {
   "cell_type": "code",
   "execution_count": null,
   "id": "813daec9",
   "metadata": {},
   "outputs": [],
   "source": [
    "crossval(gnb)"
   ]
  },
  {
   "cell_type": "code",
   "execution_count": null,
   "id": "f7b2360d",
   "metadata": {
    "scrolled": true
   },
   "outputs": [],
   "source": [
    "crossval(xgb)"
   ]
  },
  {
   "cell_type": "code",
   "execution_count": null,
   "id": "f0638865",
   "metadata": {},
   "outputs": [],
   "source": [
    "crossval(rfc)"
   ]
  }
 ],
 "metadata": {
  "kernelspec": {
   "display_name": "Python 3 (ipykernel)",
   "language": "python",
   "name": "python3"
  },
  "language_info": {
   "codemirror_mode": {
    "name": "ipython",
    "version": 3
   },
   "file_extension": ".py",
   "mimetype": "text/x-python",
   "name": "python",
   "nbconvert_exporter": "python",
   "pygments_lexer": "ipython3",
   "version": "3.9.7"
  }
 },
 "nbformat": 4,
 "nbformat_minor": 5
}
